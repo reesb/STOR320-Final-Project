{
 "cells": [
  {
   "cell_type": "code",
   "execution_count": 1,
   "metadata": {},
   "outputs": [
    {
     "data": {
      "application/javascript": [
       "\n",
       "            setTimeout(function() {\n",
       "                var nbb_cell_id = 1;\n",
       "                var nbb_unformatted_code = \"%load_ext nb_black\";\n",
       "                var nbb_formatted_code = \"%load_ext nb_black\";\n",
       "                var nbb_cells = Jupyter.notebook.get_cells();\n",
       "                for (var i = 0; i < nbb_cells.length; ++i) {\n",
       "                    if (nbb_cells[i].input_prompt_number == nbb_cell_id) {\n",
       "                        if (nbb_cells[i].get_text() == nbb_unformatted_code) {\n",
       "                             nbb_cells[i].set_text(nbb_formatted_code);\n",
       "                        }\n",
       "                        break;\n",
       "                    }\n",
       "                }\n",
       "            }, 500);\n",
       "            "
      ],
      "text/plain": [
       "<IPython.core.display.Javascript object>"
      ]
     },
     "metadata": {},
     "output_type": "display_data"
    }
   ],
   "source": [
    "%load_ext nb_black"
   ]
  },
  {
   "cell_type": "code",
   "execution_count": 2,
   "metadata": {},
   "outputs": [
    {
     "data": {
      "application/javascript": [
       "\n",
       "            setTimeout(function() {\n",
       "                var nbb_cell_id = 2;\n",
       "                var nbb_unformatted_code = \"from newspaper import Article\\nimport pandas as pd\";\n",
       "                var nbb_formatted_code = \"from newspaper import Article\\nimport pandas as pd\";\n",
       "                var nbb_cells = Jupyter.notebook.get_cells();\n",
       "                for (var i = 0; i < nbb_cells.length; ++i) {\n",
       "                    if (nbb_cells[i].input_prompt_number == nbb_cell_id) {\n",
       "                        if (nbb_cells[i].get_text() == nbb_unformatted_code) {\n",
       "                             nbb_cells[i].set_text(nbb_formatted_code);\n",
       "                        }\n",
       "                        break;\n",
       "                    }\n",
       "                }\n",
       "            }, 500);\n",
       "            "
      ],
      "text/plain": [
       "<IPython.core.display.Javascript object>"
      ]
     },
     "metadata": {},
     "output_type": "display_data"
    }
   ],
   "source": [
    "from newspaper import Article\n",
    "import pandas as pd"
   ]
  },
  {
   "cell_type": "code",
   "execution_count": 3,
   "metadata": {},
   "outputs": [
    {
     "data": {
      "application/javascript": [
       "\n",
       "            setTimeout(function() {\n",
       "                var nbb_cell_id = 3;\n",
       "                var nbb_unformatted_code = \"NAD = pd.read_csv(\\\"../../data/news-aggregator-dataset.csv\\\")\";\n",
       "                var nbb_formatted_code = \"NAD = pd.read_csv(\\\"../../data/news-aggregator-dataset.csv\\\")\";\n",
       "                var nbb_cells = Jupyter.notebook.get_cells();\n",
       "                for (var i = 0; i < nbb_cells.length; ++i) {\n",
       "                    if (nbb_cells[i].input_prompt_number == nbb_cell_id) {\n",
       "                        if (nbb_cells[i].get_text() == nbb_unformatted_code) {\n",
       "                             nbb_cells[i].set_text(nbb_formatted_code);\n",
       "                        }\n",
       "                        break;\n",
       "                    }\n",
       "                }\n",
       "            }, 500);\n",
       "            "
      ],
      "text/plain": [
       "<IPython.core.display.Javascript object>"
      ]
     },
     "metadata": {},
     "output_type": "display_data"
    }
   ],
   "source": [
    "NAD = pd.read_csv(\"../../data/news-aggregator-dataset.csv\") "
   ]
  },
  {
   "cell_type": "code",
   "execution_count": 4,
   "metadata": {},
   "outputs": [
    {
     "data": {
      "application/javascript": [
       "\n",
       "            setTimeout(function() {\n",
       "                var nbb_cell_id = 4;\n",
       "                var nbb_unformatted_code = \"# NAD\";\n",
       "                var nbb_formatted_code = \"# NAD\";\n",
       "                var nbb_cells = Jupyter.notebook.get_cells();\n",
       "                for (var i = 0; i < nbb_cells.length; ++i) {\n",
       "                    if (nbb_cells[i].input_prompt_number == nbb_cell_id) {\n",
       "                        if (nbb_cells[i].get_text() == nbb_unformatted_code) {\n",
       "                             nbb_cells[i].set_text(nbb_formatted_code);\n",
       "                        }\n",
       "                        break;\n",
       "                    }\n",
       "                }\n",
       "            }, 500);\n",
       "            "
      ],
      "text/plain": [
       "<IPython.core.display.Javascript object>"
      ]
     },
     "metadata": {},
     "output_type": "display_data"
    }
   ],
   "source": [
    "# NAD"
   ]
  },
  {
   "cell_type": "code",
   "execution_count": 5,
   "metadata": {},
   "outputs": [
    {
     "data": {
      "application/javascript": [
       "\n",
       "            setTimeout(function() {\n",
       "                var nbb_cell_id = 5;\n",
       "                var nbb_unformatted_code = \"URLs = NAD.URL\\nTextOut = [\\\"\\\"] * len(URLs)\";\n",
       "                var nbb_formatted_code = \"URLs = NAD.URL\\nTextOut = [\\\"\\\"] * len(URLs)\";\n",
       "                var nbb_cells = Jupyter.notebook.get_cells();\n",
       "                for (var i = 0; i < nbb_cells.length; ++i) {\n",
       "                    if (nbb_cells[i].input_prompt_number == nbb_cell_id) {\n",
       "                        if (nbb_cells[i].get_text() == nbb_unformatted_code) {\n",
       "                             nbb_cells[i].set_text(nbb_formatted_code);\n",
       "                        }\n",
       "                        break;\n",
       "                    }\n",
       "                }\n",
       "            }, 500);\n",
       "            "
      ],
      "text/plain": [
       "<IPython.core.display.Javascript object>"
      ]
     },
     "metadata": {},
     "output_type": "display_data"
    }
   ],
   "source": [
    "URLs = NAD.URL\n",
    "# TextOut = [\"\"] * len(URLs)\n",
    "TextOut = NAD.text"
   ]
  },
  {
   "cell_type": "code",
   "execution_count": null,
   "metadata": {},
   "outputs": [],
   "source": [
    "errors = 0"
   ]
  },
  {
   "cell_type": "code",
   "execution_count": 7,
   "metadata": {},
   "outputs": [
    {
     "name": "stdout",
     "output_type": "stream",
     "text": [
      "310000\n",
      "106901\n",
      "315000\n",
      "109814\n",
      "320000\n",
      "114814\n",
      "325000\n",
      "119814\n",
      "330000\n",
      "124814\n",
      "335000\n",
      "129812\n",
      "340000\n",
      "134812\n",
      "345000\n",
      "139812\n",
      "350000\n",
      "144812\n",
      "355000\n",
      "149812\n"
     ]
    },
    {
     "name": "stderr",
     "output_type": "stream",
     "text": [
      "c:\\users\\rees\\appdata\\local\\programs\\python\\python38\\lib\\site-packages\\PIL\\TiffImagePlugin.py:788: UserWarning: Corrupt EXIF data.  Expecting to read 12 bytes but only got 2. \n",
      "  warnings.warn(str(msg))\n"
     ]
    },
    {
     "name": "stdout",
     "output_type": "stream",
     "text": [
      "360000\n",
      "154811\n",
      "365000\n",
      "159811\n",
      "370000\n",
      "164811\n",
      "375000\n",
      "169811\n",
      "380000\n",
      "174810\n",
      "385000\n",
      "179810\n",
      "390000\n",
      "184807\n",
      "395000\n",
      "189807\n",
      "400000\n",
      "194807\n",
      "405000\n",
      "199807\n",
      "410000\n",
      "204804\n",
      "415000\n",
      "209803\n"
     ]
    },
    {
     "name": "stderr",
     "output_type": "stream",
     "text": [
      "c:\\users\\rees\\appdata\\local\\programs\\python\\python38\\lib\\site-packages\\PIL\\TiffImagePlugin.py:767: UserWarning: Possibly corrupt EXIF data.  Expecting to read 20 bytes but only got 16. Skipping tag 36868\n",
      "  warnings.warn(\n",
      "c:\\users\\rees\\appdata\\local\\programs\\python\\python38\\lib\\site-packages\\PIL\\TiffImagePlugin.py:767: UserWarning: Possibly corrupt EXIF data.  Expecting to read 44 bytes but only got 26. Skipping tag 37510\n",
      "  warnings.warn(\n"
     ]
    },
    {
     "name": "stdout",
     "output_type": "stream",
     "text": [
      "420000\n",
      "214803\n"
     ]
    },
    {
     "name": "stderr",
     "output_type": "stream",
     "text": [
      "c:\\users\\rees\\appdata\\local\\programs\\python\\python38\\lib\\site-packages\\PIL\\TiffImagePlugin.py:767: UserWarning: Possibly corrupt EXIF data.  Expecting to read 22 bytes but only got 18. Skipping tag 37510\n",
      "  warnings.warn(\n"
     ]
    },
    {
     "data": {
      "application/javascript": [
       "\n",
       "            setTimeout(function() {\n",
       "                var nbb_cell_id = 7;\n",
       "                var nbb_unformatted_code = \"for idx, url in enumerate(URLs):\\n    if idx < 310000:\\n        continue\\n    if idx % 5000 == 0:\\n        print(idx)\\n        NAD['text'] = TextOut\\n        NAD.to_csv(\\\"../../data/news-aggregator-dataset.csv\\\", encoding=\\\"utf-8-sig\\\", index=False)\\n        print(errors)\\n#     if idx > 50:\\n#         break\\n    try:\\n#         print(url)\\n        article = Article(url)\\n        article.download()\\n        article.parse()\\n        TextOut[idx] = article.text\\n    except Exception as e:\\n        TextOut[idx] = \\\"\\\"\\n#         print(\\\"Error at\\\", str(idx))\\n#         print(\\\"Error: \\\", e)\\n        errors += 1\";\n",
       "                var nbb_formatted_code = \"for idx, url in enumerate(URLs):\\n    if idx < 310000:\\n        continue\\n    if idx % 5000 == 0:\\n        print(idx)\\n        NAD[\\\"text\\\"] = TextOut\\n        NAD.to_csv(\\n            \\\"../../data/news-aggregator-dataset.csv\\\", encoding=\\\"utf-8-sig\\\", index=False\\n        )\\n        print(errors)\\n    #     if idx > 50:\\n    #         break\\n    try:\\n        #         print(url)\\n        article = Article(url)\\n        article.download()\\n        article.parse()\\n        TextOut[idx] = article.text\\n    except Exception as e:\\n        TextOut[idx] = \\\"\\\"\\n        #         print(\\\"Error at\\\", str(idx))\\n        #         print(\\\"Error: \\\", e)\\n        errors += 1\";\n",
       "                var nbb_cells = Jupyter.notebook.get_cells();\n",
       "                for (var i = 0; i < nbb_cells.length; ++i) {\n",
       "                    if (nbb_cells[i].input_prompt_number == nbb_cell_id) {\n",
       "                        if (nbb_cells[i].get_text() == nbb_unformatted_code) {\n",
       "                             nbb_cells[i].set_text(nbb_formatted_code);\n",
       "                        }\n",
       "                        break;\n",
       "                    }\n",
       "                }\n",
       "            }, 500);\n",
       "            "
      ],
      "text/plain": [
       "<IPython.core.display.Javascript object>"
      ]
     },
     "metadata": {},
     "output_type": "display_data"
    }
   ],
   "source": [
    "for idx, url in enumerate(URLs):\n",
    "    if idx < 310000:\n",
    "        continue\n",
    "    if idx % 5000 == 0:\n",
    "        print(idx)\n",
    "        NAD[\"text\"] = TextOut\n",
    "        NAD.to_csv(\n",
    "            \"../../data/news-aggregator-dataset.csv\", encoding=\"utf-8-sig\", index=False\n",
    "        )\n",
    "        print(errors)\n",
    "    #     if idx > 50:\n",
    "    #         break\n",
    "    try:\n",
    "        #         print(url)\n",
    "        article = Article(url)\n",
    "        article.download()\n",
    "        article.parse()\n",
    "        TextOut[idx] = article.text\n",
    "    except Exception as e:\n",
    "        TextOut[idx] = \"\"\n",
    "        #         print(\"Error at\", str(idx))\n",
    "        #         print(\"Error: \", e)\n",
    "        errors += 1"
   ]
  },
  {
   "cell_type": "code",
   "execution_count": 8,
   "metadata": {},
   "outputs": [
    {
     "data": {
      "text/plain": [
       "217222"
      ]
     },
     "execution_count": 8,
     "metadata": {},
     "output_type": "execute_result"
    },
    {
     "data": {
      "application/javascript": [
       "\n",
       "            setTimeout(function() {\n",
       "                var nbb_cell_id = 8;\n",
       "                var nbb_unformatted_code = \"errors\";\n",
       "                var nbb_formatted_code = \"errors\";\n",
       "                var nbb_cells = Jupyter.notebook.get_cells();\n",
       "                for (var i = 0; i < nbb_cells.length; ++i) {\n",
       "                    if (nbb_cells[i].input_prompt_number == nbb_cell_id) {\n",
       "                        if (nbb_cells[i].get_text() == nbb_unformatted_code) {\n",
       "                             nbb_cells[i].set_text(nbb_formatted_code);\n",
       "                        }\n",
       "                        break;\n",
       "                    }\n",
       "                }\n",
       "            }, 500);\n",
       "            "
      ],
      "text/plain": [
       "<IPython.core.display.Javascript object>"
      ]
     },
     "metadata": {},
     "output_type": "display_data"
    }
   ],
   "source": [
    "errors"
   ]
  },
  {
   "cell_type": "code",
   "execution_count": 9,
   "metadata": {},
   "outputs": [
    {
     "data": {
      "application/javascript": [
       "\n",
       "            setTimeout(function() {\n",
       "                var nbb_cell_id = 9;\n",
       "                var nbb_unformatted_code = \"NAD['text'] = TextOut\\nNAD.to_csv(\\\"../../data/news-aggregator-dataset.csv\\\", encoding=\\\"utf-8-sig\\\", index=False)\";\n",
       "                var nbb_formatted_code = \"NAD[\\\"text\\\"] = TextOut\\nNAD.to_csv(\\\"../../data/news-aggregator-dataset.csv\\\", encoding=\\\"utf-8-sig\\\", index=False)\";\n",
       "                var nbb_cells = Jupyter.notebook.get_cells();\n",
       "                for (var i = 0; i < nbb_cells.length; ++i) {\n",
       "                    if (nbb_cells[i].input_prompt_number == nbb_cell_id) {\n",
       "                        if (nbb_cells[i].get_text() == nbb_unformatted_code) {\n",
       "                             nbb_cells[i].set_text(nbb_formatted_code);\n",
       "                        }\n",
       "                        break;\n",
       "                    }\n",
       "                }\n",
       "            }, 500);\n",
       "            "
      ],
      "text/plain": [
       "<IPython.core.display.Javascript object>"
      ]
     },
     "metadata": {},
     "output_type": "display_data"
    }
   ],
   "source": [
    "NAD[\"text\"] = TextOut\n",
    "NAD.to_csv(\"../../data/news-aggregator-dataset.csv\", encoding=\"utf-8-sig\", index=False)"
   ]
  },
  {
   "cell_type": "code",
   "execution_count": null,
   "metadata": {},
   "outputs": [],
   "source": []
  }
 ],
 "metadata": {
  "kernelspec": {
   "display_name": "Python 3",
   "language": "python",
   "name": "python3"
  },
  "language_info": {
   "codemirror_mode": {
    "name": "ipython",
    "version": 3
   },
   "file_extension": ".py",
   "mimetype": "text/x-python",
   "name": "python",
   "nbconvert_exporter": "python",
   "pygments_lexer": "ipython3",
   "version": "3.8.1"
  }
 },
 "nbformat": 4,
 "nbformat_minor": 4
}
