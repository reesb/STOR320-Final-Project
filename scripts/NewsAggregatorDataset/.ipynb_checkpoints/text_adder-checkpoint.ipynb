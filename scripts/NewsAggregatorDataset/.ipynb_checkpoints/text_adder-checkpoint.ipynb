{
 "cells": [
  {
   "cell_type": "code",
   "execution_count": 1,
   "metadata": {},
   "outputs": [
    {
     "data": {
      "application/javascript": [
       "\n",
       "            setTimeout(function() {\n",
       "                var nbb_cell_id = 1;\n",
       "                var nbb_unformatted_code = \"%load_ext nb_black\";\n",
       "                var nbb_formatted_code = \"%load_ext nb_black\";\n",
       "                var nbb_cells = Jupyter.notebook.get_cells();\n",
       "                for (var i = 0; i < nbb_cells.length; ++i) {\n",
       "                    if (nbb_cells[i].input_prompt_number == nbb_cell_id) {\n",
       "                        if (nbb_cells[i].get_text() == nbb_unformatted_code) {\n",
       "                             nbb_cells[i].set_text(nbb_formatted_code);\n",
       "                        }\n",
       "                        break;\n",
       "                    }\n",
       "                }\n",
       "            }, 500);\n",
       "            "
      ],
      "text/plain": [
       "<IPython.core.display.Javascript object>"
      ]
     },
     "metadata": {},
     "output_type": "display_data"
    }
   ],
   "source": [
    "%load_ext nb_black"
   ]
  },
  {
   "cell_type": "code",
   "execution_count": 2,
   "metadata": {},
   "outputs": [
    {
     "data": {
      "application/javascript": [
       "\n",
       "            setTimeout(function() {\n",
       "                var nbb_cell_id = 2;\n",
       "                var nbb_unformatted_code = \"from newspaper import Article\\nimport pandas as pd\";\n",
       "                var nbb_formatted_code = \"from newspaper import Article\\nimport pandas as pd\";\n",
       "                var nbb_cells = Jupyter.notebook.get_cells();\n",
       "                for (var i = 0; i < nbb_cells.length; ++i) {\n",
       "                    if (nbb_cells[i].input_prompt_number == nbb_cell_id) {\n",
       "                        if (nbb_cells[i].get_text() == nbb_unformatted_code) {\n",
       "                             nbb_cells[i].set_text(nbb_formatted_code);\n",
       "                        }\n",
       "                        break;\n",
       "                    }\n",
       "                }\n",
       "            }, 500);\n",
       "            "
      ],
      "text/plain": [
       "<IPython.core.display.Javascript object>"
      ]
     },
     "metadata": {},
     "output_type": "display_data"
    }
   ],
   "source": [
    "from newspaper import Article\n",
    "import pandas as pd"
   ]
  },
  {
   "cell_type": "code",
   "execution_count": 3,
   "metadata": {},
   "outputs": [
    {
     "data": {
      "application/javascript": [
       "\n",
       "            setTimeout(function() {\n",
       "                var nbb_cell_id = 3;\n",
       "                var nbb_unformatted_code = \"NAD = pd.read_csv(\\\"../../data/news-aggregator-dataset.csv\\\")\";\n",
       "                var nbb_formatted_code = \"NAD = pd.read_csv(\\\"../../data/news-aggregator-dataset.csv\\\")\";\n",
       "                var nbb_cells = Jupyter.notebook.get_cells();\n",
       "                for (var i = 0; i < nbb_cells.length; ++i) {\n",
       "                    if (nbb_cells[i].input_prompt_number == nbb_cell_id) {\n",
       "                        if (nbb_cells[i].get_text() == nbb_unformatted_code) {\n",
       "                             nbb_cells[i].set_text(nbb_formatted_code);\n",
       "                        }\n",
       "                        break;\n",
       "                    }\n",
       "                }\n",
       "            }, 500);\n",
       "            "
      ],
      "text/plain": [
       "<IPython.core.display.Javascript object>"
      ]
     },
     "metadata": {},
     "output_type": "display_data"
    }
   ],
   "source": [
    "NAD = pd.read_csv(\"../../data/news-aggregator-dataset.csv\")"
   ]
  },
  {
   "cell_type": "code",
   "execution_count": 4,
   "metadata": {},
   "outputs": [
    {
     "data": {
      "application/javascript": [
       "\n",
       "            setTimeout(function() {\n",
       "                var nbb_cell_id = 4;\n",
       "                var nbb_unformatted_code = \"# NAD\";\n",
       "                var nbb_formatted_code = \"# NAD\";\n",
       "                var nbb_cells = Jupyter.notebook.get_cells();\n",
       "                for (var i = 0; i < nbb_cells.length; ++i) {\n",
       "                    if (nbb_cells[i].input_prompt_number == nbb_cell_id) {\n",
       "                        if (nbb_cells[i].get_text() == nbb_unformatted_code) {\n",
       "                             nbb_cells[i].set_text(nbb_formatted_code);\n",
       "                        }\n",
       "                        break;\n",
       "                    }\n",
       "                }\n",
       "            }, 500);\n",
       "            "
      ],
      "text/plain": [
       "<IPython.core.display.Javascript object>"
      ]
     },
     "metadata": {},
     "output_type": "display_data"
    }
   ],
   "source": [
    "# NAD"
   ]
  },
  {
   "cell_type": "code",
   "execution_count": 5,
   "metadata": {},
   "outputs": [
    {
     "data": {
      "application/javascript": [
       "\n",
       "            setTimeout(function() {\n",
       "                var nbb_cell_id = 5;\n",
       "                var nbb_unformatted_code = \"URLs = NAD.URL\\nTextOut = [\\\"\\\"] * len(URLs)\";\n",
       "                var nbb_formatted_code = \"URLs = NAD.URL\\nTextOut = [\\\"\\\"] * len(URLs)\";\n",
       "                var nbb_cells = Jupyter.notebook.get_cells();\n",
       "                for (var i = 0; i < nbb_cells.length; ++i) {\n",
       "                    if (nbb_cells[i].input_prompt_number == nbb_cell_id) {\n",
       "                        if (nbb_cells[i].get_text() == nbb_unformatted_code) {\n",
       "                             nbb_cells[i].set_text(nbb_formatted_code);\n",
       "                        }\n",
       "                        break;\n",
       "                    }\n",
       "                }\n",
       "            }, 500);\n",
       "            "
      ],
      "text/plain": [
       "<IPython.core.display.Javascript object>"
      ]
     },
     "metadata": {},
     "output_type": "display_data"
    }
   ],
   "source": [
    "URLs = NAD.URL\n",
    "# TextOut = [\"\"] * len(URLs)\n",
    "TextOut = NAD.text"
   ]
  },
  {
   "cell_type": "code",
   "execution_count": 6,
   "metadata": {},
   "outputs": [
    {
     "name": "stdout",
     "output_type": "stream",
     "text": [
      "0\n",
      "0\n"
     ]
    },
    {
     "name": "stderr",
     "output_type": "stream",
     "text": [
      "c:\\users\\rees\\appdata\\local\\programs\\python\\python38\\lib\\site-packages\\dateutil\\parser\\_parser.py:1213: UnknownTimezoneWarning: tzname IST identified but not understood.  Pass `tzinfos` argument in order to correctly return a timezone-aware datetime.  In a future version, this will raise an exception.\n",
      "  warnings.warn(\"tzname {tzname} identified but not understood.  \"\n"
     ]
    },
    {
     "name": "stdout",
     "output_type": "stream",
     "text": [
      "5000\n",
      "1680\n"
     ]
    },
    {
     "name": "stderr",
     "output_type": "stream",
     "text": [
      "c:\\users\\rees\\appdata\\local\\programs\\python\\python38\\lib\\site-packages\\PIL\\TiffImagePlugin.py:767: UserWarning: Possibly corrupt EXIF data.  Expecting to read 8 bytes but only got 0. Skipping tag 33434\n",
      "  warnings.warn(\n",
      "c:\\users\\rees\\appdata\\local\\programs\\python\\python38\\lib\\site-packages\\PIL\\TiffImagePlugin.py:767: UserWarning: Possibly corrupt EXIF data.  Expecting to read 8 bytes but only got 0. Skipping tag 33437\n",
      "  warnings.warn(\n",
      "c:\\users\\rees\\appdata\\local\\programs\\python\\python38\\lib\\site-packages\\PIL\\TiffImagePlugin.py:788: UserWarning: Corrupt EXIF data.  Expecting to read 12 bytes but only got 6. \n",
      "  warnings.warn(str(msg))\n",
      "c:\\users\\rees\\appdata\\local\\programs\\python\\python38\\lib\\site-packages\\dateutil\\parser\\_parser.py:1213: UnknownTimezoneWarning: tzname EDT identified but not understood.  Pass `tzinfos` argument in order to correctly return a timezone-aware datetime.  In a future version, this will raise an exception.\n",
      "  warnings.warn(\"tzname {tzname} identified but not understood.  \"\n",
      "c:\\users\\rees\\appdata\\local\\programs\\python\\python38\\lib\\site-packages\\PIL\\TiffImagePlugin.py:767: UserWarning: Possibly corrupt EXIF data.  Expecting to read 20 bytes but only got 16. Skipping tag 36867\n",
      "  warnings.warn(\n",
      "c:\\users\\rees\\appdata\\local\\programs\\python\\python38\\lib\\site-packages\\PIL\\TiffImagePlugin.py:767: UserWarning: Possibly corrupt EXIF data.  Expecting to read 20 bytes but only got 0. Skipping tag 36868\n",
      "  warnings.warn(\n",
      "c:\\users\\rees\\appdata\\local\\programs\\python\\python38\\lib\\site-packages\\PIL\\TiffImagePlugin.py:767: UserWarning: Possibly corrupt EXIF data.  Expecting to read 8 bytes but only got 0. Skipping tag 37122\n",
      "  warnings.warn(\n",
      "c:\\users\\rees\\appdata\\local\\programs\\python\\python38\\lib\\site-packages\\PIL\\TiffImagePlugin.py:767: UserWarning: Possibly corrupt EXIF data.  Expecting to read 8 bytes but only got 0. Skipping tag 37378\n",
      "  warnings.warn(\n",
      "c:\\users\\rees\\appdata\\local\\programs\\python\\python38\\lib\\site-packages\\PIL\\TiffImagePlugin.py:767: UserWarning: Possibly corrupt EXIF data.  Expecting to read 8 bytes but only got 0. Skipping tag 37380\n",
      "  warnings.warn(\n",
      "c:\\users\\rees\\appdata\\local\\programs\\python\\python38\\lib\\site-packages\\PIL\\TiffImagePlugin.py:767: UserWarning: Possibly corrupt EXIF data.  Expecting to read 8 bytes but only got 0. Skipping tag 37386\n",
      "  warnings.warn(\n"
     ]
    },
    {
     "name": "stdout",
     "output_type": "stream",
     "text": [
      "10000\n",
      "3328\n",
      "15000\n",
      "5032\n",
      "20000\n",
      "6704\n",
      "25000\n",
      "8347\n",
      "30000\n",
      "10055\n"
     ]
    },
    {
     "name": "stderr",
     "output_type": "stream",
     "text": [
      "c:\\users\\rees\\appdata\\local\\programs\\python\\python38\\lib\\site-packages\\PIL\\TiffImagePlugin.py:767: UserWarning: Possibly corrupt EXIF data.  Expecting to read 7898 bytes but only got 102. Skipping tag 37500\n",
      "  warnings.warn(\n",
      "c:\\users\\rees\\appdata\\local\\programs\\python\\python38\\lib\\site-packages\\PIL\\TiffImagePlugin.py:767: UserWarning: Possibly corrupt EXIF data.  Expecting to read 264 bytes but only got 0. Skipping tag 37510\n",
      "  warnings.warn(\n",
      "c:\\users\\rees\\appdata\\local\\programs\\python\\python38\\lib\\site-packages\\PIL\\TiffImagePlugin.py:767: UserWarning: Possibly corrupt EXIF data.  Expecting to read 8 bytes but only got 0. Skipping tag 41486\n",
      "  warnings.warn(\n",
      "c:\\users\\rees\\appdata\\local\\programs\\python\\python38\\lib\\site-packages\\PIL\\TiffImagePlugin.py:767: UserWarning: Possibly corrupt EXIF data.  Expecting to read 8 bytes but only got 0. Skipping tag 41487\n",
      "  warnings.warn(\n",
      "c:\\users\\rees\\appdata\\local\\programs\\python\\python38\\lib\\site-packages\\PIL\\TiffImagePlugin.py:767: UserWarning: Possibly corrupt EXIF data.  Expecting to read 13 bytes but only got 0. Skipping tag 42033\n",
      "  warnings.warn(\n",
      "c:\\users\\rees\\appdata\\local\\programs\\python\\python38\\lib\\site-packages\\PIL\\TiffImagePlugin.py:767: UserWarning: Possibly corrupt EXIF data.  Expecting to read 32 bytes but only got 0. Skipping tag 42034\n",
      "  warnings.warn(\n",
      "c:\\users\\rees\\appdata\\local\\programs\\python\\python38\\lib\\site-packages\\PIL\\TiffImagePlugin.py:767: UserWarning: Possibly corrupt EXIF data.  Expecting to read 19 bytes but only got 0. Skipping tag 42036\n",
      "  warnings.warn(\n",
      "c:\\users\\rees\\appdata\\local\\programs\\python\\python38\\lib\\site-packages\\PIL\\TiffImagePlugin.py:767: UserWarning: Possibly corrupt EXIF data.  Expecting to read 11 bytes but only got 0. Skipping tag 42037\n",
      "  warnings.warn(\n",
      "c:\\users\\rees\\appdata\\local\\programs\\python\\python38\\lib\\site-packages\\PIL\\TiffImagePlugin.py:767: UserWarning: Possibly corrupt EXIF data.  Expecting to read 7898 bytes but only got 1126. Skipping tag 37500\n",
      "  warnings.warn(\n",
      "c:\\users\\rees\\appdata\\local\\programs\\python\\python38\\lib\\site-packages\\PIL\\TiffImagePlugin.py:767: UserWarning: Possibly corrupt EXIF data.  Expecting to read 7898 bytes but only got 2150. Skipping tag 37500\n",
      "  warnings.warn(\n",
      "c:\\users\\rees\\appdata\\local\\programs\\python\\python38\\lib\\site-packages\\PIL\\TiffImagePlugin.py:767: UserWarning: Possibly corrupt EXIF data.  Expecting to read 7898 bytes but only got 3174. Skipping tag 37500\n",
      "  warnings.warn(\n",
      "c:\\users\\rees\\appdata\\local\\programs\\python\\python38\\lib\\site-packages\\PIL\\TiffImagePlugin.py:767: UserWarning: Possibly corrupt EXIF data.  Expecting to read 7898 bytes but only got 4198. Skipping tag 37500\n",
      "  warnings.warn(\n",
      "c:\\users\\rees\\appdata\\local\\programs\\python\\python38\\lib\\site-packages\\PIL\\TiffImagePlugin.py:767: UserWarning: Possibly corrupt EXIF data.  Expecting to read 7898 bytes but only got 5222. Skipping tag 37500\n",
      "  warnings.warn(\n",
      "c:\\users\\rees\\appdata\\local\\programs\\python\\python38\\lib\\site-packages\\PIL\\TiffImagePlugin.py:767: UserWarning: Possibly corrupt EXIF data.  Expecting to read 7898 bytes but only got 6246. Skipping tag 37500\n",
      "  warnings.warn(\n",
      "c:\\users\\rees\\appdata\\local\\programs\\python\\python38\\lib\\site-packages\\PIL\\TiffImagePlugin.py:767: UserWarning: Possibly corrupt EXIF data.  Expecting to read 7898 bytes but only got 7270. Skipping tag 37500\n",
      "  warnings.warn(\n",
      "c:\\users\\rees\\appdata\\local\\programs\\python\\python38\\lib\\site-packages\\PIL\\TiffImagePlugin.py:767: UserWarning: Possibly corrupt EXIF data.  Expecting to read 32 bytes but only got 22. Skipping tag 42034\n",
      "  warnings.warn(\n"
     ]
    },
    {
     "name": "stdout",
     "output_type": "stream",
     "text": [
      "35000\n",
      "11719\n",
      "40000\n",
      "13395\n",
      "45000\n",
      "15105\n",
      "50000\n",
      "16843\n",
      "55000\n",
      "18625\n",
      "60000\n",
      "20404\n",
      "65000\n",
      "22270\n"
     ]
    },
    {
     "name": "stderr",
     "output_type": "stream",
     "text": [
      "c:\\users\\rees\\appdata\\local\\programs\\python\\python38\\lib\\site-packages\\dateutil\\parser\\_parser.py:1213: UnknownTimezoneWarning: tzname BST identified but not understood.  Pass `tzinfos` argument in order to correctly return a timezone-aware datetime.  In a future version, this will raise an exception.\n",
      "  warnings.warn(\"tzname {tzname} identified but not understood.  \"\n"
     ]
    },
    {
     "name": "stdout",
     "output_type": "stream",
     "text": [
      "70000\n",
      "24022\n",
      "75000\n",
      "25878\n"
     ]
    },
    {
     "name": "stderr",
     "output_type": "stream",
     "text": [
      "c:\\users\\rees\\appdata\\local\\programs\\python\\python38\\lib\\site-packages\\PIL\\TiffImagePlugin.py:767: UserWarning: Possibly corrupt EXIF data.  Expecting to read 4255 bytes but only got 884. Skipping tag 33723\n",
      "  warnings.warn(\n",
      "c:\\users\\rees\\appdata\\local\\programs\\python\\python38\\lib\\site-packages\\PIL\\TiffImagePlugin.py:788: UserWarning: Corrupt EXIF data.  Expecting to read 2 bytes but only got 0. \n",
      "  warnings.warn(str(msg))\n",
      "c:\\users\\rees\\appdata\\local\\programs\\python\\python38\\lib\\site-packages\\PIL\\TiffImagePlugin.py:767: UserWarning: Possibly corrupt EXIF data.  Expecting to read 4255 bytes but only got 1908. Skipping tag 33723\n",
      "  warnings.warn(\n",
      "c:\\users\\rees\\appdata\\local\\programs\\python\\python38\\lib\\site-packages\\PIL\\TiffImagePlugin.py:767: UserWarning: Possibly corrupt EXIF data.  Expecting to read 4255 bytes but only got 2932. Skipping tag 33723\n",
      "  warnings.warn(\n",
      "c:\\users\\rees\\appdata\\local\\programs\\python\\python38\\lib\\site-packages\\PIL\\TiffImagePlugin.py:767: UserWarning: Possibly corrupt EXIF data.  Expecting to read 4255 bytes but only got 3956. Skipping tag 33723\n",
      "  warnings.warn(\n",
      "c:\\users\\rees\\appdata\\local\\programs\\python\\python38\\lib\\site-packages\\PIL\\TiffImagePlugin.py:767: UserWarning: Possibly corrupt EXIF data.  Expecting to read 3596 bytes but only got 376. Skipping tag 37500\n",
      "  warnings.warn(\n",
      "c:\\users\\rees\\appdata\\local\\programs\\python\\python38\\lib\\site-packages\\PIL\\TiffImagePlugin.py:767: UserWarning: Possibly corrupt EXIF data.  Expecting to read 3596 bytes but only got 1400. Skipping tag 37500\n",
      "  warnings.warn(\n",
      "c:\\users\\rees\\appdata\\local\\programs\\python\\python38\\lib\\site-packages\\PIL\\TiffImagePlugin.py:767: UserWarning: Possibly corrupt EXIF data.  Expecting to read 3596 bytes but only got 2424. Skipping tag 37500\n",
      "  warnings.warn(\n",
      "c:\\users\\rees\\appdata\\local\\programs\\python\\python38\\lib\\site-packages\\PIL\\TiffImagePlugin.py:767: UserWarning: Possibly corrupt EXIF data.  Expecting to read 3596 bytes but only got 3448. Skipping tag 37500\n",
      "  warnings.warn(\n"
     ]
    },
    {
     "name": "stdout",
     "output_type": "stream",
     "text": [
      "80000\n",
      "27591\n"
     ]
    },
    {
     "name": "stderr",
     "output_type": "stream",
     "text": [
      "c:\\users\\rees\\appdata\\local\\programs\\python\\python38\\lib\\site-packages\\dateutil\\parser\\_parser.py:1213: UnknownTimezoneWarning: tzname CDT identified but not understood.  Pass `tzinfos` argument in order to correctly return a timezone-aware datetime.  In a future version, this will raise an exception.\n",
      "  warnings.warn(\"tzname {tzname} identified but not understood.  \"\n"
     ]
    },
    {
     "name": "stdout",
     "output_type": "stream",
     "text": [
      "85000\n",
      "29271\n",
      "90000\n",
      "30972\n",
      "95000\n",
      "32698\n",
      "100000\n",
      "34357\n",
      "105000\n",
      "36164\n",
      "110000\n",
      "37990\n",
      "115000\n",
      "39760\n",
      "120000\n",
      "41499\n",
      "125000\n",
      "43245\n",
      "130000\n",
      "44986\n",
      "135000\n",
      "46694\n",
      "140000\n",
      "48555\n",
      "145000\n",
      "50310\n",
      "150000\n",
      "51989\n"
     ]
    },
    {
     "name": "stderr",
     "output_type": "stream",
     "text": [
      "c:\\users\\rees\\appdata\\local\\programs\\python\\python38\\lib\\site-packages\\PIL\\TiffImagePlugin.py:767: UserWarning: Possibly corrupt EXIF data.  Expecting to read 8 bytes but only got 6. Skipping tag 37377\n",
      "  warnings.warn(\n",
      "c:\\users\\rees\\appdata\\local\\programs\\python\\python38\\lib\\site-packages\\PIL\\TiffImagePlugin.py:767: UserWarning: Possibly corrupt EXIF data.  Expecting to read 8 bytes but only got 0. Skipping tag 37381\n",
      "  warnings.warn(\n",
      "c:\\users\\rees\\appdata\\local\\programs\\python\\python38\\lib\\site-packages\\PIL\\TiffImagePlugin.py:767: UserWarning: Possibly corrupt EXIF data.  Expecting to read 44 bytes but only got 0. Skipping tag 37510\n",
      "  warnings.warn(\n",
      "c:\\users\\rees\\appdata\\local\\programs\\python\\python38\\lib\\site-packages\\PIL\\TiffImagePlugin.py:767: UserWarning: Possibly corrupt EXIF data.  Expecting to read 8 bytes but only got 0. Skipping tag 41730\n",
      "  warnings.warn(\n",
      "c:\\users\\rees\\appdata\\local\\programs\\python\\python38\\lib\\site-packages\\PIL\\TiffImagePlugin.py:767: UserWarning: Possibly corrupt EXIF data.  Expecting to read 8 bytes but only got 0. Skipping tag 41988\n",
      "  warnings.warn(\n",
      "c:\\users\\rees\\appdata\\local\\programs\\python\\python38\\lib\\site-packages\\PIL\\TiffImagePlugin.py:767: UserWarning: Possibly corrupt EXIF data.  Expecting to read 8 bytes but only got 0. Skipping tag 42240\n",
      "  warnings.warn(\n"
     ]
    },
    {
     "name": "stdout",
     "output_type": "stream",
     "text": [
      "155000\n",
      "53691\n",
      "160000\n",
      "55391\n",
      "165000\n",
      "57081\n"
     ]
    },
    {
     "name": "stderr",
     "output_type": "stream",
     "text": [
      "Building prefix dict from c:\\users\\rees\\appdata\\local\\programs\\python\\python38\\lib\\site-packages\\jieba\\dict.txt ...\n",
      "Dumping model to file cache C:\\Users\\Rees\\AppData\\Local\\Temp\\jieba.cache\n",
      "Loading model cost 1.4674944877624512 seconds.\n",
      "Prefix dict has been built succesfully.\n"
     ]
    },
    {
     "name": "stdout",
     "output_type": "stream",
     "text": [
      "170000\n",
      "58714\n",
      "175000\n",
      "60454\n",
      "180000\n",
      "62229\n",
      "185000\n",
      "63927\n",
      "190000\n",
      "65536\n",
      "195000\n",
      "67209\n",
      "200000\n",
      "68820\n",
      "205000\n",
      "70499\n",
      "210000\n",
      "72041\n",
      "215000\n",
      "73722\n",
      "220000\n",
      "75404\n"
     ]
    },
    {
     "name": "stderr",
     "output_type": "stream",
     "text": [
      "c:\\users\\rees\\appdata\\local\\programs\\python\\python38\\lib\\site-packages\\PIL\\TiffImagePlugin.py:767: UserWarning: Possibly corrupt EXIF data.  Expecting to read 8 bytes but only got 6. Skipping tag 42033\n",
      "  warnings.warn(\n",
      "c:\\users\\rees\\appdata\\local\\programs\\python\\python38\\lib\\site-packages\\PIL\\TiffImagePlugin.py:767: UserWarning: Possibly corrupt EXIF data.  Expecting to read 7784 bytes but only got 235. Skipping tag 37500\n",
      "  warnings.warn(\n",
      "c:\\users\\rees\\appdata\\local\\programs\\python\\python38\\lib\\site-packages\\PIL\\TiffImagePlugin.py:767: UserWarning: Possibly corrupt EXIF data.  Expecting to read 23 bytes but only got 0. Skipping tag 42036\n",
      "  warnings.warn(\n",
      "c:\\users\\rees\\appdata\\local\\programs\\python\\python38\\lib\\site-packages\\PIL\\TiffImagePlugin.py:767: UserWarning: Possibly corrupt EXIF data.  Expecting to read 7784 bytes but only got 1259. Skipping tag 37500\n",
      "  warnings.warn(\n",
      "c:\\users\\rees\\appdata\\local\\programs\\python\\python38\\lib\\site-packages\\PIL\\TiffImagePlugin.py:767: UserWarning: Possibly corrupt EXIF data.  Expecting to read 7784 bytes but only got 2283. Skipping tag 37500\n",
      "  warnings.warn(\n",
      "c:\\users\\rees\\appdata\\local\\programs\\python\\python38\\lib\\site-packages\\PIL\\TiffImagePlugin.py:767: UserWarning: Possibly corrupt EXIF data.  Expecting to read 7784 bytes but only got 3307. Skipping tag 37500\n",
      "  warnings.warn(\n",
      "c:\\users\\rees\\appdata\\local\\programs\\python\\python38\\lib\\site-packages\\PIL\\TiffImagePlugin.py:767: UserWarning: Possibly corrupt EXIF data.  Expecting to read 7784 bytes but only got 4331. Skipping tag 37500\n",
      "  warnings.warn(\n",
      "c:\\users\\rees\\appdata\\local\\programs\\python\\python38\\lib\\site-packages\\PIL\\TiffImagePlugin.py:767: UserWarning: Possibly corrupt EXIF data.  Expecting to read 7784 bytes but only got 5355. Skipping tag 37500\n",
      "  warnings.warn(\n",
      "c:\\users\\rees\\appdata\\local\\programs\\python\\python38\\lib\\site-packages\\PIL\\TiffImagePlugin.py:767: UserWarning: Possibly corrupt EXIF data.  Expecting to read 7784 bytes but only got 6379. Skipping tag 37500\n",
      "  warnings.warn(\n",
      "c:\\users\\rees\\appdata\\local\\programs\\python\\python38\\lib\\site-packages\\PIL\\TiffImagePlugin.py:767: UserWarning: Possibly corrupt EXIF data.  Expecting to read 7784 bytes but only got 7403. Skipping tag 37500\n",
      "  warnings.warn(\n"
     ]
    },
    {
     "name": "stdout",
     "output_type": "stream",
     "text": [
      "225000\n",
      "77163\n",
      "230000\n",
      "78870\n",
      "235000\n",
      "80492\n",
      "240000\n",
      "82169\n",
      "245000\n",
      "83904\n",
      "250000\n",
      "85670\n"
     ]
    },
    {
     "name": "stderr",
     "output_type": "stream",
     "text": [
      "c:\\users\\rees\\appdata\\local\\programs\\python\\python38\\lib\\site-packages\\PIL\\TiffImagePlugin.py:767: UserWarning: Possibly corrupt EXIF data.  Expecting to read 44 bytes but only got 22. Skipping tag 37510\n",
      "  warnings.warn(\n"
     ]
    },
    {
     "name": "stdout",
     "output_type": "stream",
     "text": [
      "255000\n",
      "87330\n",
      "260000\n",
      "88862\n",
      "265000\n",
      "90445\n",
      "270000\n",
      "92039\n"
     ]
    },
    {
     "name": "stderr",
     "output_type": "stream",
     "text": [
      "c:\\users\\rees\\appdata\\local\\programs\\python\\python38\\lib\\site-packages\\PIL\\TiffImagePlugin.py:767: UserWarning: Possibly corrupt EXIF data.  Expecting to read 2060 bytes but only got 496. Skipping tag 59932\n",
      "  warnings.warn(\n",
      "c:\\users\\rees\\appdata\\local\\programs\\python\\python38\\lib\\site-packages\\PIL\\TiffImagePlugin.py:767: UserWarning: Possibly corrupt EXIF data.  Expecting to read 2060 bytes but only got 1520. Skipping tag 59932\n",
      "  warnings.warn(\n",
      "c:\\users\\rees\\appdata\\local\\programs\\python\\python38\\lib\\site-packages\\PIL\\TiffImagePlugin.py:767: UserWarning: Possibly corrupt EXIF data.  Expecting to read 264 bytes but only got 18. Skipping tag 37510\n",
      "  warnings.warn(\n",
      "c:\\users\\rees\\appdata\\local\\programs\\python\\python38\\lib\\site-packages\\PIL\\TiffImagePlugin.py:767: UserWarning: Possibly corrupt EXIF data.  Expecting to read 2060 bytes but only got 0. Skipping tag 59932\n",
      "  warnings.warn(\n",
      "c:\\users\\rees\\appdata\\local\\programs\\python\\python38\\lib\\site-packages\\PIL\\TiffImagePlugin.py:767: UserWarning: Possibly corrupt EXIF data.  Expecting to read 2060 bytes but only got 762. Skipping tag 59932\n",
      "  warnings.warn(\n",
      "c:\\users\\rees\\appdata\\local\\programs\\python\\python38\\lib\\site-packages\\PIL\\TiffImagePlugin.py:767: UserWarning: Possibly corrupt EXIF data.  Expecting to read 2060 bytes but only got 1786. Skipping tag 59932\n",
      "  warnings.warn(\n"
     ]
    },
    {
     "name": "stdout",
     "output_type": "stream",
     "text": [
      "275000\n",
      "93591\n",
      "280000\n",
      "95176\n",
      "285000\n",
      "96840\n",
      "290000\n",
      "98605\n"
     ]
    },
    {
     "name": "stderr",
     "output_type": "stream",
     "text": [
      "c:\\users\\rees\\appdata\\local\\programs\\python\\python38\\lib\\site-packages\\PIL\\TiffImagePlugin.py:767: UserWarning: Possibly corrupt EXIF data.  Expecting to read 20 bytes but only got 0. Skipping tag 36867\n",
      "  warnings.warn(\n",
      "c:\\users\\rees\\appdata\\local\\programs\\python\\python38\\lib\\site-packages\\PIL\\TiffImagePlugin.py:767: UserWarning: Possibly corrupt EXIF data.  Expecting to read 8 bytes but only got 0. Skipping tag 37377\n",
      "  warnings.warn(\n",
      "c:\\users\\rees\\appdata\\local\\programs\\python\\python38\\lib\\site-packages\\PIL\\TiffImagePlugin.py:788: UserWarning: Corrupt EXIF data.  Expecting to read 12 bytes but only got 10. \n",
      "  warnings.warn(str(msg))\n"
     ]
    },
    {
     "name": "stdout",
     "output_type": "stream",
     "text": [
      "295000\n",
      "100309\n",
      "300000\n",
      "101995\n",
      "305000\n",
      "103712\n",
      "310000\n",
      "105282\n",
      "315000\n"
     ]
    },
    {
     "ename": "OSError",
     "evalue": "[Errno 22] Invalid argument: '../../data/news-aggregator-dataset.csv'",
     "output_type": "error",
     "traceback": [
      "\u001b[1;31m---------------------------------------------------------------------------\u001b[0m",
      "\u001b[1;31mOSError\u001b[0m                                   Traceback (most recent call last)",
      "\u001b[1;32m<ipython-input-6-5a6b922a0026>\u001b[0m in \u001b[0;36m<module>\u001b[1;34m\u001b[0m\n\u001b[0;32m      5\u001b[0m         \u001b[0mprint\u001b[0m\u001b[1;33m(\u001b[0m\u001b[0midx\u001b[0m\u001b[1;33m)\u001b[0m\u001b[1;33m\u001b[0m\u001b[1;33m\u001b[0m\u001b[0m\n\u001b[0;32m      6\u001b[0m         \u001b[0mNAD\u001b[0m\u001b[1;33m[\u001b[0m\u001b[1;34m'text'\u001b[0m\u001b[1;33m]\u001b[0m \u001b[1;33m=\u001b[0m \u001b[0mTextOut\u001b[0m\u001b[1;33m\u001b[0m\u001b[1;33m\u001b[0m\u001b[0m\n\u001b[1;32m----> 7\u001b[1;33m         \u001b[0mNAD\u001b[0m\u001b[1;33m.\u001b[0m\u001b[0mto_csv\u001b[0m\u001b[1;33m(\u001b[0m\u001b[1;34m\"../../data/news-aggregator-dataset.csv\"\u001b[0m\u001b[1;33m,\u001b[0m \u001b[0mencoding\u001b[0m\u001b[1;33m=\u001b[0m\u001b[1;34m\"utf-8-sig\"\u001b[0m\u001b[1;33m,\u001b[0m \u001b[0mindex\u001b[0m\u001b[1;33m=\u001b[0m\u001b[1;32mFalse\u001b[0m\u001b[1;33m)\u001b[0m\u001b[1;33m\u001b[0m\u001b[1;33m\u001b[0m\u001b[0m\n\u001b[0m\u001b[0;32m      8\u001b[0m         \u001b[0mprint\u001b[0m\u001b[1;33m(\u001b[0m\u001b[0merrors\u001b[0m\u001b[1;33m)\u001b[0m\u001b[1;33m\u001b[0m\u001b[1;33m\u001b[0m\u001b[0m\n\u001b[0;32m      9\u001b[0m \u001b[1;31m#     if idx > 50:\u001b[0m\u001b[1;33m\u001b[0m\u001b[1;33m\u001b[0m\u001b[1;33m\u001b[0m\u001b[0m\n",
      "\u001b[1;32mc:\\users\\rees\\appdata\\local\\programs\\python\\python38\\lib\\site-packages\\pandas\\core\\generic.py\u001b[0m in \u001b[0;36mto_csv\u001b[1;34m(self, path_or_buf, sep, na_rep, float_format, columns, header, index, index_label, mode, encoding, compression, quoting, quotechar, line_terminator, chunksize, date_format, doublequote, escapechar, decimal)\u001b[0m\n\u001b[0;32m   3226\u001b[0m             \u001b[0mdecimal\u001b[0m\u001b[1;33m=\u001b[0m\u001b[0mdecimal\u001b[0m\u001b[1;33m,\u001b[0m\u001b[1;33m\u001b[0m\u001b[1;33m\u001b[0m\u001b[0m\n\u001b[0;32m   3227\u001b[0m         )\n\u001b[1;32m-> 3228\u001b[1;33m         \u001b[0mformatter\u001b[0m\u001b[1;33m.\u001b[0m\u001b[0msave\u001b[0m\u001b[1;33m(\u001b[0m\u001b[1;33m)\u001b[0m\u001b[1;33m\u001b[0m\u001b[1;33m\u001b[0m\u001b[0m\n\u001b[0m\u001b[0;32m   3229\u001b[0m \u001b[1;33m\u001b[0m\u001b[0m\n\u001b[0;32m   3230\u001b[0m         \u001b[1;32mif\u001b[0m \u001b[0mpath_or_buf\u001b[0m \u001b[1;32mis\u001b[0m \u001b[1;32mNone\u001b[0m\u001b[1;33m:\u001b[0m\u001b[1;33m\u001b[0m\u001b[1;33m\u001b[0m\u001b[0m\n",
      "\u001b[1;32mc:\\users\\rees\\appdata\\local\\programs\\python\\python38\\lib\\site-packages\\pandas\\io\\formats\\csvs.py\u001b[0m in \u001b[0;36msave\u001b[1;34m(self)\u001b[0m\n\u001b[0;32m    177\u001b[0m             \u001b[0mclose\u001b[0m \u001b[1;33m=\u001b[0m \u001b[1;32mFalse\u001b[0m\u001b[1;33m\u001b[0m\u001b[1;33m\u001b[0m\u001b[0m\n\u001b[0;32m    178\u001b[0m         \u001b[1;32melse\u001b[0m\u001b[1;33m:\u001b[0m\u001b[1;33m\u001b[0m\u001b[1;33m\u001b[0m\u001b[0m\n\u001b[1;32m--> 179\u001b[1;33m             f, handles = _get_handle(\n\u001b[0m\u001b[0;32m    180\u001b[0m                 \u001b[0mself\u001b[0m\u001b[1;33m.\u001b[0m\u001b[0mpath_or_buf\u001b[0m\u001b[1;33m,\u001b[0m\u001b[1;33m\u001b[0m\u001b[1;33m\u001b[0m\u001b[0m\n\u001b[0;32m    181\u001b[0m                 \u001b[0mself\u001b[0m\u001b[1;33m.\u001b[0m\u001b[0mmode\u001b[0m\u001b[1;33m,\u001b[0m\u001b[1;33m\u001b[0m\u001b[1;33m\u001b[0m\u001b[0m\n",
      "\u001b[1;32mc:\\users\\rees\\appdata\\local\\programs\\python\\python38\\lib\\site-packages\\pandas\\io\\common.py\u001b[0m in \u001b[0;36m_get_handle\u001b[1;34m(path_or_buf, mode, encoding, compression, memory_map, is_text)\u001b[0m\n\u001b[0;32m    397\u001b[0m         \u001b[1;32mif\u001b[0m \u001b[0mencoding\u001b[0m\u001b[1;33m:\u001b[0m\u001b[1;33m\u001b[0m\u001b[1;33m\u001b[0m\u001b[0m\n\u001b[0;32m    398\u001b[0m             \u001b[1;31m# Encoding\u001b[0m\u001b[1;33m\u001b[0m\u001b[1;33m\u001b[0m\u001b[1;33m\u001b[0m\u001b[0m\n\u001b[1;32m--> 399\u001b[1;33m             \u001b[0mf\u001b[0m \u001b[1;33m=\u001b[0m \u001b[0mopen\u001b[0m\u001b[1;33m(\u001b[0m\u001b[0mpath_or_buf\u001b[0m\u001b[1;33m,\u001b[0m \u001b[0mmode\u001b[0m\u001b[1;33m,\u001b[0m \u001b[0mencoding\u001b[0m\u001b[1;33m=\u001b[0m\u001b[0mencoding\u001b[0m\u001b[1;33m,\u001b[0m \u001b[0mnewline\u001b[0m\u001b[1;33m=\u001b[0m\u001b[1;34m\"\"\u001b[0m\u001b[1;33m)\u001b[0m\u001b[1;33m\u001b[0m\u001b[1;33m\u001b[0m\u001b[0m\n\u001b[0m\u001b[0;32m    400\u001b[0m         \u001b[1;32melif\u001b[0m \u001b[0mis_text\u001b[0m\u001b[1;33m:\u001b[0m\u001b[1;33m\u001b[0m\u001b[1;33m\u001b[0m\u001b[0m\n\u001b[0;32m    401\u001b[0m             \u001b[1;31m# No explicit encoding\u001b[0m\u001b[1;33m\u001b[0m\u001b[1;33m\u001b[0m\u001b[1;33m\u001b[0m\u001b[0m\n",
      "\u001b[1;31mOSError\u001b[0m: [Errno 22] Invalid argument: '../../data/news-aggregator-dataset.csv'"
     ]
    },
    {
     "data": {
      "application/javascript": [
       "\n",
       "            setTimeout(function() {\n",
       "                var nbb_cell_id = 6;\n",
       "                var nbb_unformatted_code = \"errors = 0\\n\\nfor idx, url in enumerate(URLs):\\n    if idx % 5000 == 0:\\n        print(idx)\\n        NAD['text'] = TextOut\\n        NAD.to_csv(\\\"../../data/news-aggregator-dataset.csv\\\", encoding=\\\"utf-8-sig\\\", index=False)\\n        print(errors)\\n#     if idx > 50:\\n#         break\\n    try:\\n        #         print(url)\\n        article = Article(url)\\n        article.download()\\n        article.parse()\\n        TextOut[idx] = article.text\\n    except Exception as e:\\n        TextOut[idx] = \\\"\\\"\\n#         print(\\\"Error at\\\", str(idx))\\n#         print(\\\"Error: \\\", e)\\n        errors += 1\";\n",
       "                var nbb_formatted_code = \"errors = 0\\n\\nfor idx, url in enumerate(URLs):\\n    if idx % 5000 == 0:\\n        print(idx)\\n        NAD[\\\"text\\\"] = TextOut\\n        NAD.to_csv(\\n            \\\"../../data/news-aggregator-dataset.csv\\\", encoding=\\\"utf-8-sig\\\", index=False\\n        )\\n        print(errors)\\n    #     if idx > 50:\\n    #         break\\n    try:\\n        #         print(url)\\n        article = Article(url)\\n        article.download()\\n        article.parse()\\n        TextOut[idx] = article.text\\n    except Exception as e:\\n        TextOut[idx] = \\\"\\\"\\n        #         print(\\\"Error at\\\", str(idx))\\n        #         print(\\\"Error: \\\", e)\\n        errors += 1\";\n",
       "                var nbb_cells = Jupyter.notebook.get_cells();\n",
       "                for (var i = 0; i < nbb_cells.length; ++i) {\n",
       "                    if (nbb_cells[i].input_prompt_number == nbb_cell_id) {\n",
       "                        if (nbb_cells[i].get_text() == nbb_unformatted_code) {\n",
       "                             nbb_cells[i].set_text(nbb_formatted_code);\n",
       "                        }\n",
       "                        break;\n",
       "                    }\n",
       "                }\n",
       "            }, 500);\n",
       "            "
      ],
      "text/plain": [
       "<IPython.core.display.Javascript object>"
      ]
     },
     "metadata": {},
     "output_type": "display_data"
    }
   ],
   "source": [
    "errors = 0\n",
    "\n",
    "for idx, url in enumerate(URLs):\n",
    "    if idx < 310000:\n",
    "        continue\n",
    "    if idx % 5000 == 0:\n",
    "        print(idx)\n",
    "        NAD['text'] = TextOut\n",
    "        NAD.to_csv(\"../../data/news-aggregator-dataset.csv\", encoding=\"utf-8-sig\", index=False)\n",
    "        print(errors)\n",
    "#     if idx > 50:\n",
    "#         break\n",
    "    try:\n",
    "#         print(url)\n",
    "        article = Article(url)\n",
    "        article.download()\n",
    "        article.parse()\n",
    "        TextOut[idx] = article.text\n",
    "    except Exception as e:\n",
    "        TextOut[idx] = \"\"\n",
    "#         print(\"Error at\", str(idx))\n",
    "#         print(\"Error: \", e)\n",
    "        errors += 1"
   ]
  },
  {
   "cell_type": "code",
   "execution_count": null,
   "metadata": {},
   "outputs": [],
   "source": [
    "errors"
   ]
  },
  {
   "cell_type": "code",
   "execution_count": null,
   "metadata": {},
   "outputs": [],
   "source": [
    "NAD['text'] = TextOut\n",
    "NAD.to_csv(\"../../data/news-aggregator-dataset.csv\", encoding=\"utf-8-sig\", index=False)"
   ]
  },
  {
   "cell_type": "code",
   "execution_count": null,
   "metadata": {},
   "outputs": [],
   "source": []
  }
 ],
 "metadata": {
  "kernelspec": {
   "display_name": "Python 3",
   "language": "python",
   "name": "python3"
  },
  "language_info": {
   "codemirror_mode": {
    "name": "ipython",
    "version": 3
   },
   "file_extension": ".py",
   "mimetype": "text/x-python",
   "name": "python",
   "nbconvert_exporter": "python",
   "pygments_lexer": "ipython3",
   "version": "3.8.1"
  }
 },
 "nbformat": 4,
 "nbformat_minor": 4
}
