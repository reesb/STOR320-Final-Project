{
 "cells": [
  {
   "cell_type": "code",
   "execution_count": 1,
   "metadata": {},
   "outputs": [],
   "source": [
    "import urllib.request\n",
    "import re\n",
    "import html2text as h2t\n",
    "import pandas as pd"
   ]
  },
  {
   "cell_type": "code",
   "execution_count": 2,
   "metadata": {},
   "outputs": [],
   "source": [
    "OnlineNewsPopularityTraining = pd.read_csv(\"../data/OnlineNewsPopularityTraining.csv\")\n",
    "OnlineNewsPopularityTest = pd.read_csv(\"../data/OnlineNewsPopularityTest.csv\")"
   ]
  },
  {
   "cell_type": "code",
   "execution_count": 3,
   "metadata": {},
   "outputs": [],
   "source": [
    "TrainingLinks = OnlineNewsPopularityTraining.url\n",
    "TestLinks = OnlineNewsPopularityTest.url\n",
    "\n",
    "TrainingText = [''] * OnlineNewsPopularityTraining.shape[0]\n",
    "TestText = [''] * OnlineNewsPopularityTest.shape[0]"
   ]
  },
  {
   "cell_type": "code",
   "execution_count": null,
   "metadata": {},
   "outputs": [
    {
     "name": "stdout",
     "output_type": "stream",
     "text": [
      "0\n",
      "500\n",
      "1000\n",
      "1500\n",
      "2000\n",
      "2500\n",
      "3000\n",
      "3500\n",
      "4000\n",
      "4500\n",
      "5000\n",
      "5500\n",
      "6000\n",
      "6500\n",
      "7000\n",
      "7500\n",
      "8000\n",
      "8500\n",
      "9000\n",
      "9500\n",
      "10000\n",
      "10500\n",
      "11000\n",
      "11500\n",
      "12000\n",
      "12500\n",
      "13000\n",
      "13500\n"
     ]
    }
   ],
   "source": [
    "for idx, link in enumerate(TrainingLinks):\n",
    "    try:\n",
    "        if idx%500 == 0:\n",
    "            print(idx)\n",
    "#         if idx < 50:\n",
    "#             continue\n",
    "\n",
    "        fp = urllib.request.urlopen(link)\n",
    "        mybytes = fp.read()\n",
    "\n",
    "        mystr = mybytes.decode(\"utf8\")\n",
    "        fp.close()\n",
    "\n",
    "        # print(mystr)\n",
    "\n",
    "        try:\n",
    "            mystr = re.search(\"(?<=<section class='article-content'>)[\\s\\S]+(?=<\\/section>)\", mystr).group()\n",
    "        except:\n",
    "            mystr = \"\"\n",
    "\n",
    "        h = h2t.HTML2Text()\n",
    "\n",
    "        TrainingText[idx] = (h.handle(mystr))\n",
    "    except:\n",
    "        print(\"Error at\", str(idx))"
   ]
  },
  {
   "cell_type": "code",
   "execution_count": null,
   "metadata": {},
   "outputs": [],
   "source": [
    "for idx, link in enumerate(TestLinks):\n",
    "    try:\n",
    "        if idx%500 == 0:\n",
    "            print(idx)\n",
    "    #     if idx > 50:\n",
    "    #         break\n",
    "\n",
    "        fp = urllib.request.urlopen(link)\n",
    "        mybytes = fp.read()\n",
    "\n",
    "        mystr = mybytes.decode(\"utf8\")\n",
    "        fp.close()\n",
    "\n",
    "        # print(mystr)\n",
    "        try:\n",
    "            mystr = re.search(\"(?<=<section class='article-content'>)[\\s\\S]+(?=<\\/section>)\", mystr).group()\n",
    "        except:\n",
    "            mystr = \"\"\n",
    "\n",
    "        h = h2t.HTML2Text()\n",
    "\n",
    "        TestText[idx] = (h.handle(mystr))\n",
    "    except:\n",
    "        print(\"Error at\", str(idx))"
   ]
  },
  {
   "cell_type": "code",
   "execution_count": null,
   "metadata": {},
   "outputs": [],
   "source": [
    "OnlineNewsPopularityTraining['text'] = TrainingText"
   ]
  },
  {
   "cell_type": "code",
   "execution_count": null,
   "metadata": {},
   "outputs": [],
   "source": [
    "OnlineNewsPopularityTest['text'] = TestText"
   ]
  },
  {
   "cell_type": "code",
   "execution_count": null,
   "metadata": {},
   "outputs": [],
   "source": [
    "OnlineNewsPopularityTraining.to_csv('OnlineNewsPopularityTrainingWithText.csv', encoding='utf-8', index=False)"
   ]
  },
  {
   "cell_type": "code",
   "execution_count": null,
   "metadata": {},
   "outputs": [],
   "source": [
    "OnlineNewsPopularityTest.to_csv('OnlineNewsPopularityTestWithText.csv', encoding='utf-8', index=False)"
   ]
  },
  {
   "cell_type": "code",
   "execution_count": null,
   "metadata": {},
   "outputs": [],
   "source": []
  }
 ],
 "metadata": {
  "kernelspec": {
   "display_name": "Python 3",
   "language": "python",
   "name": "python3"
  },
  "language_info": {
   "codemirror_mode": {
    "name": "ipython",
    "version": 3
   },
   "file_extension": ".py",
   "mimetype": "text/x-python",
   "name": "python",
   "nbconvert_exporter": "python",
   "pygments_lexer": "ipython3",
   "version": "3.8.1"
  }
 },
 "nbformat": 4,
 "nbformat_minor": 4
}
