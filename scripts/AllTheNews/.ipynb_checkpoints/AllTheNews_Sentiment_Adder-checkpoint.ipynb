{
 "cells": [
  {
   "cell_type": "code",
   "execution_count": 1,
   "metadata": {},
   "outputs": [],
   "source": [
    "import pandas as pd\n",
    "from textblob import TextBlob"
   ]
  },
  {
   "cell_type": "code",
   "execution_count": 2,
   "metadata": {
    "scrolled": true
   },
   "outputs": [
    {
     "data": {
      "text/plain": [
       "50000"
      ]
     },
     "execution_count": 2,
     "metadata": {},
     "output_type": "execute_result"
    }
   ],
   "source": [
    "articles1 = pd.read_csv(\"../../data/all-the-news/articles1.csv\")\n",
    "len(articles1)"
   ]
  },
  {
   "cell_type": "code",
   "execution_count": 3,
   "metadata": {},
   "outputs": [],
   "source": [
    "TextList = articles1.content\n",
    "\n",
    "subjectivity = [0] * articles1.shape[0]\n",
    "polarity = [0] * articles1.shape[0]"
   ]
  },
  {
   "cell_type": "code",
   "execution_count": 4,
   "metadata": {},
   "outputs": [
    {
     "name": "stdout",
     "output_type": "stream",
     "text": [
      "0\n",
      "1000\n",
      "2000\n",
      "3000\n",
      "4000\n",
      "5000\n",
      "6000\n",
      "7000\n",
      "8000\n",
      "9000\n",
      "10000\n",
      "11000\n",
      "12000\n",
      "13000\n",
      "14000\n",
      "15000\n",
      "16000\n",
      "17000\n",
      "18000\n",
      "19000\n",
      "20000\n",
      "21000\n",
      "22000\n",
      "23000\n",
      "24000\n",
      "25000\n",
      "26000\n",
      "27000\n",
      "28000\n",
      "29000\n",
      "30000\n",
      "31000\n",
      "32000\n",
      "33000\n",
      "34000\n",
      "35000\n",
      "36000\n",
      "37000\n",
      "38000\n",
      "39000\n",
      "40000\n",
      "41000\n",
      "42000\n",
      "43000\n",
      "44000\n",
      "45000\n",
      "46000\n",
      "47000\n",
      "48000\n",
      "49000\n"
     ]
    }
   ],
   "source": [
    "for idx, text in enumerate(TextList):\n",
    "    if idx%1000 == 0:\n",
    "        print(idx)\n",
    "#     if idx > 1000:\n",
    "#         break\n",
    "    blob = TextBlob(text)\n",
    "    subjectivity[idx] = blob.sentiment[1]\n",
    "    polarity[idx] = blob.sentiment[0]   "
   ]
  },
  {
   "cell_type": "code",
   "execution_count": 5,
   "metadata": {},
   "outputs": [],
   "source": [
    "articles1['subjectivity'] = subjectivity\n",
    "articles1['polarity'] = polarity"
   ]
  },
  {
   "cell_type": "code",
   "execution_count": 6,
   "metadata": {},
   "outputs": [],
   "source": [
    "articles1.to_csv('articles1withsentiment.csv', encoding='utf-8', index=False)"
   ]
  },
  {
   "cell_type": "code",
   "execution_count": 7,
   "metadata": {},
   "outputs": [
    {
     "name": "stdout",
     "output_type": "stream",
     "text": [
      "0\n",
      "1000\n",
      "2000\n",
      "3000\n",
      "4000\n",
      "5000\n",
      "6000\n",
      "7000\n",
      "8000\n",
      "9000\n",
      "10000\n",
      "11000\n",
      "12000\n",
      "13000\n",
      "14000\n",
      "15000\n",
      "16000\n",
      "17000\n",
      "18000\n",
      "19000\n",
      "20000\n",
      "21000\n",
      "22000\n",
      "23000\n",
      "24000\n",
      "25000\n",
      "26000\n",
      "27000\n",
      "28000\n",
      "29000\n",
      "30000\n",
      "31000\n",
      "32000\n",
      "33000\n",
      "34000\n",
      "35000\n",
      "36000\n",
      "37000\n",
      "38000\n",
      "39000\n",
      "40000\n",
      "41000\n",
      "42000\n",
      "43000\n",
      "44000\n",
      "45000\n",
      "46000\n",
      "47000\n",
      "48000\n",
      "49000\n"
     ]
    }
   ],
   "source": [
    "articles2 = pd.read_csv(\"../../data/all-the-news/articles2.csv\")\n",
    "TextList = articles2.content\n",
    "\n",
    "subjectivity = [0] * articles2.shape[0]\n",
    "polarity = [0] * articles2.shape[0]\n",
    "for idx, text in enumerate(TextList):\n",
    "    if idx%1000 == 0:\n",
    "        print(idx)\n",
    "#     if idx > 1000:\n",
    "#         break\n",
    "    blob = TextBlob(text)\n",
    "    subjectivity[idx] = blob.sentiment[1]\n",
    "    polarity[idx] = blob.sentiment[0]\n",
    "articles2['subjectivity'] = subjectivity\n",
    "articles2['polarity'] = polarity\n",
    "articles2.to_csv('articles2withsentiment.csv', encoding='utf-8', index=False)"
   ]
  },
  {
   "cell_type": "code",
   "execution_count": 8,
   "metadata": {},
   "outputs": [
    {
     "name": "stdout",
     "output_type": "stream",
     "text": [
      "0\n",
      "1000\n",
      "2000\n",
      "3000\n",
      "4000\n",
      "5000\n",
      "6000\n",
      "7000\n",
      "8000\n",
      "9000\n",
      "10000\n",
      "11000\n",
      "12000\n",
      "13000\n",
      "14000\n",
      "15000\n",
      "16000\n",
      "17000\n",
      "18000\n",
      "19000\n",
      "20000\n",
      "21000\n",
      "22000\n",
      "23000\n",
      "24000\n",
      "25000\n",
      "26000\n",
      "27000\n",
      "28000\n",
      "29000\n",
      "30000\n",
      "31000\n",
      "32000\n",
      "33000\n",
      "34000\n",
      "35000\n",
      "36000\n",
      "37000\n",
      "38000\n",
      "39000\n",
      "40000\n",
      "41000\n",
      "42000\n"
     ]
    }
   ],
   "source": [
    "articles3 = pd.read_csv(\"../../data/all-the-news/articles3.csv\")\n",
    "TextList = articles3.content\n",
    "\n",
    "subjectivity = [0] * articles3.shape[0]\n",
    "polarity = [0] * articles3.shape[0]\n",
    "for idx, text in enumerate(TextList):\n",
    "    if idx%1000 == 0:\n",
    "        print(idx)\n",
    "#     if idx > 1000:\n",
    "#         break\n",
    "    blob = TextBlob(text)\n",
    "    subjectivity[idx] = blob.sentiment[1]\n",
    "    polarity[idx] = blob.sentiment[0]\n",
    "articles3['subjectivity'] = subjectivity\n",
    "articles3['polarity'] = polarity\n",
    "articles3.to_csv('articles3withsentiment.csv', encoding='utf-8', index=False)"
   ]
  },
  {
   "cell_type": "code",
   "execution_count": null,
   "metadata": {},
   "outputs": [],
   "source": []
  }
 ],
 "metadata": {
  "kernelspec": {
   "display_name": "Python 3",
   "language": "python",
   "name": "python3"
  },
  "language_info": {
   "codemirror_mode": {
    "name": "ipython",
    "version": 3
   },
   "file_extension": ".py",
   "mimetype": "text/x-python",
   "name": "python",
   "nbconvert_exporter": "python",
   "pygments_lexer": "ipython3",
   "version": "3.8.1"
  }
 },
 "nbformat": 4,
 "nbformat_minor": 4
}
