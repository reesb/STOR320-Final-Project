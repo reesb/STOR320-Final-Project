{
 "cells": [
  {
   "cell_type": "code",
   "execution_count": 1,
   "metadata": {},
   "outputs": [],
   "source": [
    "import pandas as pd\n",
    "from textblob import TextBlob"
   ]
  },
  {
   "cell_type": "code",
   "execution_count": 2,
   "metadata": {
    "scrolled": true
   },
   "outputs": [
    {
     "data": {
      "text/plain": [
       "50000"
      ]
     },
     "execution_count": 2,
     "metadata": {},
     "output_type": "execute_result"
    }
   ],
   "source": [
    "articles1 = pd.read_csv(\"../../data/all-the-news/articles1.csv\")\n",
    "len(articles1)"
   ]
  },
  {
   "cell_type": "code",
   "execution_count": 3,
   "metadata": {},
   "outputs": [],
   "source": [
    "TextList = articles1.content\n",
    "\n",
    "subjectivity = [0] * articles1.shape[0]\n",
    "polarity = [0] * articles1.shape[0]"
   ]
  },
  {
   "cell_type": "code",
   "execution_count": null,
   "metadata": {},
   "outputs": [
    {
     "name": "stdout",
     "output_type": "stream",
     "text": [
      "0\n",
      "1000\n"
     ]
    }
   ],
   "source": [
    "for idx, text in enumerate(TextList):\n",
    "    if idx%5000 == 0:\n",
    "        print(idx)\n",
    "#     if idx > 1000:\n",
    "#         break\n",
    "    blob = TextBlob(text)\n",
    "    subjectivity[idx] = blob.sentiment[1]\n",
    "    polarity[idx] = blob.sentiment[0]   "
   ]
  },
  {
   "cell_type": "code",
   "execution_count": null,
   "metadata": {},
   "outputs": [],
   "source": [
    "articles1['subjectivity'] = subjectivity\n",
    "articles1['polarity'] = polarity"
   ]
  },
  {
   "cell_type": "code",
   "execution_count": null,
   "metadata": {},
   "outputs": [],
   "source": [
    "articles1.to_csv('../../data/all-the-news/articles1.csv', index=False)"
   ]
  },
  {
   "cell_type": "code",
   "execution_count": null,
   "metadata": {},
   "outputs": [],
   "source": [
    "articles2 = pd.read_csv(\"../../data/all-the-news/articles2.csv\")\n",
    "TextList = articles2.content\n",
    "\n",
    "subjectivity = [0] * articles2.shape[0]\n",
    "polarity = [0] * articles2.shape[0]\n",
    "for idx, text in enumerate(TextList):\n",
    "    if idx%5000 == 0:\n",
    "        print(idx)\n",
    "#     if idx > 1000:\n",
    "#         break\n",
    "    blob = TextBlob(text)\n",
    "    subjectivity[idx] = blob.sentiment[1]\n",
    "    polarity[idx] = blob.sentiment[0]\n",
    "articles2['subjectivity'] = subjectivity\n",
    "articles2['polarity'] = polarity\n",
    "articles2.to_csv('../../data/all-the-news/articles2.csv', index=False)"
   ]
  },
  {
   "cell_type": "code",
   "execution_count": null,
   "metadata": {},
   "outputs": [],
   "source": [
    "articles3 = pd.read_csv(\"../../data/all-the-news/articles3.csv\")\n",
    "TextList = articles3.content\n",
    "\n",
    "subjectivity = [0] * articles3.shape[0]\n",
    "polarity = [0] * articles3.shape[0]\n",
    "for idx, text in enumerate(TextList):\n",
    "    if idx%5000 == 0:\n",
    "        print(idx)\n",
    "#     if idx > 1000:\n",
    "#         break\n",
    "    blob = TextBlob(text)\n",
    "    subjectivity[idx] = blob.sentiment[1]\n",
    "    polarity[idx] = blob.sentiment[0]\n",
    "articles3['subjectivity'] = subjectivity\n",
    "articles3['polarity'] = polarity\n",
    "articles3.to_csv('../../data/all-the-news/articles3.csv', index=False)"
   ]
  },
  {
   "cell_type": "code",
   "execution_count": null,
   "metadata": {},
   "outputs": [],
   "source": []
  }
 ],
 "metadata": {
  "kernelspec": {
   "display_name": "Python 3",
   "language": "python",
   "name": "python3"
  },
  "language_info": {
   "codemirror_mode": {
    "name": "ipython",
    "version": 3
   },
   "file_extension": ".py",
   "mimetype": "text/x-python",
   "name": "python",
   "nbconvert_exporter": "python",
   "pygments_lexer": "ipython3",
   "version": "3.8.1"
  }
 },
 "nbformat": 4,
 "nbformat_minor": 4
}
