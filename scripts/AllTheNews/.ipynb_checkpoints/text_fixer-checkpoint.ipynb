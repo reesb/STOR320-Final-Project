{
 "cells": [
  {
   "cell_type": "code",
   "execution_count": 1,
   "metadata": {},
   "outputs": [
    {
     "data": {
      "application/javascript": [
       "\n",
       "            setTimeout(function() {\n",
       "                var nbb_cell_id = 1;\n",
       "                var nbb_unformatted_code = \"%load_ext nb_black\";\n",
       "                var nbb_formatted_code = \"%load_ext nb_black\";\n",
       "                var nbb_cells = Jupyter.notebook.get_cells();\n",
       "                for (var i = 0; i < nbb_cells.length; ++i) {\n",
       "                    if (nbb_cells[i].input_prompt_number == nbb_cell_id) {\n",
       "                        if (nbb_cells[i].get_text() == nbb_unformatted_code) {\n",
       "                             nbb_cells[i].set_text(nbb_formatted_code);\n",
       "                        }\n",
       "                        break;\n",
       "                    }\n",
       "                }\n",
       "            }, 500);\n",
       "            "
      ],
      "text/plain": [
       "<IPython.core.display.Javascript object>"
      ]
     },
     "metadata": {},
     "output_type": "display_data"
    }
   ],
   "source": [
    "%load_ext nb_black"
   ]
  },
  {
   "cell_type": "code",
   "execution_count": 2,
   "metadata": {},
   "outputs": [
    {
     "data": {
      "application/javascript": [
       "\n",
       "            setTimeout(function() {\n",
       "                var nbb_cell_id = 2;\n",
       "                var nbb_unformatted_code = \"import ftfy\\nimport pandas as pd\\nimport html2text as h2t\";\n",
       "                var nbb_formatted_code = \"import ftfy\\nimport pandas as pd\\nimport html2text as h2t\";\n",
       "                var nbb_cells = Jupyter.notebook.get_cells();\n",
       "                for (var i = 0; i < nbb_cells.length; ++i) {\n",
       "                    if (nbb_cells[i].input_prompt_number == nbb_cell_id) {\n",
       "                        if (nbb_cells[i].get_text() == nbb_unformatted_code) {\n",
       "                             nbb_cells[i].set_text(nbb_formatted_code);\n",
       "                        }\n",
       "                        break;\n",
       "                    }\n",
       "                }\n",
       "            }, 500);\n",
       "            "
      ],
      "text/plain": [
       "<IPython.core.display.Javascript object>"
      ]
     },
     "metadata": {},
     "output_type": "display_data"
    }
   ],
   "source": [
    "import ftfy\n",
    "import pandas as pd\n",
    "import html2text as h2t"
   ]
  },
  {
   "cell_type": "code",
   "execution_count": 3,
   "metadata": {},
   "outputs": [
    {
     "name": "stderr",
     "output_type": "stream",
     "text": [
      "c:\\users\\rees\\appdata\\local\\programs\\python\\python38\\lib\\site-packages\\IPython\\core\\interactiveshell.py:3050: DtypeWarning: Columns (7) have mixed types. Specify dtype option on import or set low_memory=False.\n",
      "  has_raised = await self.run_ast_nodes(code_ast.body, cell_name,\n"
     ]
    },
    {
     "data": {
      "application/javascript": [
       "\n",
       "            setTimeout(function() {\n",
       "                var nbb_cell_id = 3;\n",
       "                var nbb_unformatted_code = \"news = pd.read_csv(\\\"../../data/all-the-news/all-the-news.csv\\\")\";\n",
       "                var nbb_formatted_code = \"news = pd.read_csv(\\\"../../data/all-the-news/all-the-news.csv\\\")\";\n",
       "                var nbb_cells = Jupyter.notebook.get_cells();\n",
       "                for (var i = 0; i < nbb_cells.length; ++i) {\n",
       "                    if (nbb_cells[i].input_prompt_number == nbb_cell_id) {\n",
       "                        if (nbb_cells[i].get_text() == nbb_unformatted_code) {\n",
       "                             nbb_cells[i].set_text(nbb_formatted_code);\n",
       "                        }\n",
       "                        break;\n",
       "                    }\n",
       "                }\n",
       "            }, 500);\n",
       "            "
      ],
      "text/plain": [
       "<IPython.core.display.Javascript object>"
      ]
     },
     "metadata": {},
     "output_type": "display_data"
    }
   ],
   "source": [
    "news = pd.read_csv(\"../../data/all-the-news/all-the-news.csv\")"
   ]
  },
  {
   "cell_type": "code",
   "execution_count": 6,
   "metadata": {},
   "outputs": [
    {
     "data": {
      "application/javascript": [
       "\n",
       "            setTimeout(function() {\n",
       "                var nbb_cell_id = 6;\n",
       "                var nbb_unformatted_code = \"ntext = news.content\\n\\nout = [\\\"\\\"] * len(ntext)\";\n",
       "                var nbb_formatted_code = \"ntext = news.content\\n\\nout = [\\\"\\\"] * len(ntext)\";\n",
       "                var nbb_cells = Jupyter.notebook.get_cells();\n",
       "                for (var i = 0; i < nbb_cells.length; ++i) {\n",
       "                    if (nbb_cells[i].input_prompt_number == nbb_cell_id) {\n",
       "                        if (nbb_cells[i].get_text() == nbb_unformatted_code) {\n",
       "                             nbb_cells[i].set_text(nbb_formatted_code);\n",
       "                        }\n",
       "                        break;\n",
       "                    }\n",
       "                }\n",
       "            }, 500);\n",
       "            "
      ],
      "text/plain": [
       "<IPython.core.display.Javascript object>"
      ]
     },
     "metadata": {},
     "output_type": "display_data"
    }
   ],
   "source": [
    "ntext = news.content\n",
    "\n",
    "out = [\"\"] * len(ntext)"
   ]
  },
  {
   "cell_type": "code",
   "execution_count": 11,
   "metadata": {},
   "outputs": [
    {
     "name": "stdout",
     "output_type": "stream",
     "text": [
      "11000\n",
      "11500\n",
      "12000\n",
      "12500\n",
      "13000\n",
      "13500\n",
      "14000\n",
      "14500\n",
      "15000\n",
      "15500\n",
      "16000\n",
      "16500\n",
      "17000\n",
      "17500\n",
      "18000\n",
      "18500\n",
      "19000\n",
      "19500\n",
      "20000\n",
      "20500\n",
      "21000\n",
      "21500\n",
      "22000\n",
      "22500\n",
      "23000\n",
      "23500\n",
      "24000\n",
      "24500\n",
      "25000\n",
      "25500\n",
      "26000\n",
      "26500\n",
      "27000\n",
      "27500\n",
      "28000\n",
      "28500\n",
      "29000\n",
      "29500\n",
      "30000\n",
      "30500\n",
      "31000\n",
      "31500\n",
      "32000\n",
      "32500\n",
      "33000\n",
      "33500\n",
      "34000\n",
      "34500\n",
      "35000\n",
      "35500\n",
      "36000\n",
      "36500\n",
      "37000\n",
      "37500\n",
      "38000\n",
      "38500\n",
      "39000\n",
      "39500\n",
      "40000\n",
      "40500\n",
      "41000\n",
      "41500\n",
      "42000\n",
      "42500\n",
      "43000\n",
      "43500\n",
      "44000\n",
      "44500\n",
      "45000\n",
      "45500\n",
      "46000\n",
      "46500\n",
      "47000\n",
      "47500\n",
      "48000\n",
      "48500\n",
      "49000\n",
      "49500\n",
      "50000\n",
      "50500\n",
      "51000\n",
      "51500\n",
      "52000\n",
      "52500\n",
      "53000\n",
      "53500\n",
      "54000\n",
      "54500\n",
      "55000\n",
      "55500\n",
      "56000\n",
      "56500\n",
      "57000\n",
      "57500\n",
      "58000\n",
      "58500\n",
      "59000\n",
      "59500\n",
      "60000\n",
      "60500\n",
      "61000\n",
      "61500\n",
      "62000\n",
      "62500\n",
      "63000\n",
      "63500\n",
      "64000\n",
      "64500\n",
      "65000\n",
      "65500\n",
      "66000\n",
      "66500\n",
      "67000\n",
      "67500\n",
      "68000\n",
      "68500\n",
      "69000\n",
      "69500\n",
      "70000\n",
      "70500\n",
      "71000\n",
      "71500\n",
      "72000\n",
      "72500\n",
      "73000\n",
      "73500\n",
      "74000\n",
      "74500\n",
      "75000\n",
      "75500\n",
      "76000\n",
      "76500\n",
      "77000\n",
      "77500\n",
      "78000\n",
      "78500\n",
      "79000\n",
      "79500\n",
      "80000\n",
      "80500\n",
      "81000\n",
      "81500\n",
      "82000\n",
      "82500\n",
      "83000\n",
      "83500\n",
      "84000\n",
      "84500\n",
      "85000\n",
      "85500\n",
      "86000\n",
      "86500\n",
      "87000\n",
      "87500\n",
      "88000\n",
      "88500\n",
      "89000\n",
      "89500\n",
      "90000\n",
      "90500\n",
      "91000\n",
      "91500\n",
      "92000\n",
      "92500\n",
      "93000\n",
      "93500\n",
      "94000\n",
      "94500\n",
      "95000\n",
      "95500\n",
      "96000\n",
      "96500\n",
      "97000\n",
      "97500\n",
      "98000\n",
      "98500\n",
      "99000\n",
      "99500\n",
      "100000\n",
      "100500\n",
      "101000\n",
      "101500\n",
      "102000\n",
      "102500\n",
      "103000\n",
      "103500\n",
      "104000\n",
      "104500\n",
      "105000\n",
      "105500\n",
      "106000\n",
      "106500\n",
      "107000\n",
      "107500\n",
      "108000\n",
      "108500\n",
      "109000\n",
      "109500\n",
      "110000\n",
      "110500\n",
      "111000\n",
      "111500\n",
      "112000\n",
      "112500\n",
      "113000\n",
      "113500\n",
      "114000\n",
      "114500\n",
      "115000\n",
      "115500\n",
      "116000\n",
      "116500\n",
      "117000\n",
      "117500\n",
      "118000\n",
      "118500\n",
      "119000\n",
      "119500\n",
      "120000\n",
      "120500\n",
      "121000\n",
      "121500\n",
      "122000\n",
      "122500\n",
      "123000\n",
      "123500\n",
      "124000\n",
      "124500\n",
      "125000\n",
      "125500\n",
      "126000\n",
      "126500\n",
      "127000\n",
      "127500\n",
      "128000\n",
      "128500\n",
      "129000\n",
      "129500\n",
      "130000\n",
      "130500\n",
      "131000\n",
      "131500\n",
      "132000\n",
      "132500\n",
      "133000\n",
      "133500\n",
      "134000\n",
      "134500\n",
      "135000\n",
      "135500\n",
      "136000\n",
      "136500\n",
      "137000\n",
      "137500\n",
      "138000\n",
      "138500\n",
      "139000\n",
      "139500\n",
      "140000\n",
      "140500\n",
      "141000\n",
      "141500\n",
      "142000\n",
      "142500\n"
     ]
    },
    {
     "data": {
      "application/javascript": [
       "\n",
       "            setTimeout(function() {\n",
       "                var nbb_cell_id = 11;\n",
       "                var nbb_unformatted_code = \"for idx, text in enumerate(ntext):\\n    if idx < 11000:\\n        continue\\n    mystr = \\\"\\\"\\n    try:\\n        if idx % 500 == 0:\\n            print(idx)\\n        try:\\n            mystr = ftfy.fix_text(str(text))\\n        except Exception as e:\\n            print(\\\"Inner error at\\\", str(idx))\\n            print(\\\"Error:\\\", e)\\n            mystr = \\\"\\\"\\n        out[idx] = mystr\\n    except Exception as e:\\n        print(\\\"Outer error at\\\", str(idx))\\n        print(\\\"Error: \\\", e)\";\n",
       "                var nbb_formatted_code = \"for idx, text in enumerate(ntext):\\n    if idx < 11000:\\n        continue\\n    mystr = \\\"\\\"\\n    try:\\n        if idx % 500 == 0:\\n            print(idx)\\n        try:\\n            mystr = ftfy.fix_text(str(text))\\n        except Exception as e:\\n            print(\\\"Inner error at\\\", str(idx))\\n            print(\\\"Error:\\\", e)\\n            mystr = \\\"\\\"\\n        out[idx] = mystr\\n    except Exception as e:\\n        print(\\\"Outer error at\\\", str(idx))\\n        print(\\\"Error: \\\", e)\";\n",
       "                var nbb_cells = Jupyter.notebook.get_cells();\n",
       "                for (var i = 0; i < nbb_cells.length; ++i) {\n",
       "                    if (nbb_cells[i].input_prompt_number == nbb_cell_id) {\n",
       "                        if (nbb_cells[i].get_text() == nbb_unformatted_code) {\n",
       "                             nbb_cells[i].set_text(nbb_formatted_code);\n",
       "                        }\n",
       "                        break;\n",
       "                    }\n",
       "                }\n",
       "            }, 500);\n",
       "            "
      ],
      "text/plain": [
       "<IPython.core.display.Javascript object>"
      ]
     },
     "metadata": {},
     "output_type": "display_data"
    }
   ],
   "source": [
    "for idx, text in enumerate(ntext):\n",
    "    if idx < 11000:\n",
    "        continue\n",
    "    mystr = \"\"\n",
    "    try:\n",
    "        if idx % 500 == 0:\n",
    "            print(idx)\n",
    "        try:\n",
    "            mystr = ftfy.fix_text(str(text))\n",
    "        except Exception as e:\n",
    "            print(\"Inner error at\", str(idx))\n",
    "            print(\"Error:\", e)\n",
    "            mystr = \"\"\n",
    "        out[idx] = mystr\n",
    "    except Exception as e:\n",
    "        print(\"Outer error at\", str(idx))\n",
    "        print(\"Error: \", e)"
   ]
  },
  {
   "cell_type": "code",
   "execution_count": 15,
   "metadata": {},
   "outputs": [
    {
     "data": {
      "text/plain": [
       "'When Walt Disney\\'s \"Bambi opened in 1942, critics praised its spare, haunting visual style, vastly different from anything Disney had done before. But what they did not know was that the film\\'s striking appearance had been created by a Chinese immigrant artist, who took as his inspiration the landscape paintings of the Song dynasty. The extent of his contribution to \"Bambi, which remains a   mark for film animation, would not be widely known for decades. Like the film\\'s title character, the artist, Tyrus Wong, weathered irrevocable separation from his mother  —   and, in the hope of making a life in America, incarceration, isolation and rigorous interrogation  —   all when he was still a child. In the years that followed, he endured poverty, discrimination and chronic lack of recognition, not only for his work at Disney but also for his fine art, before finding acclaim in his 90s. Mr. Wong died on Friday at 106. A Hollywood studio artist, painter, printmaker, calligrapher,   illustrator and, in later years, maker of fantastical kites, he was one of the most celebrated   artists of the 20th century. But because of the marginalization to which   were long subject, he passed much of his career unknown to the general public. Artistic recognition, when Mr. Wong did find it, was all the more noteworthy for the fact that among Chinese immigrant men of his generation, professional prospects were largely limited to menial jobs like houseboy and laundryman. Trained as a painter, Mr. Wong was a leading figure in the Modernist movement that flourished in California between the first and second World Wars. In 1932 and again in 1934, his work was included in group shows at the Art Institute of Chicago that also featured Picasso, Matisse and Paul Klee. As a staff artist for Hollywood studios from the 1930s to the 1960s, he drew storyboards and made vibrant paintings, as detailed as any architectural illustrations, that helped the director envision each scene before it was shot. Over the years his work informed the look of animated pictures for Disney and   films for Warner Brothers and other studios, among them \"The Sands of Iwo Jima (1949) \"Rebel Without a Cause (1955) and \"The Wild Bunch (1969). But of the dozens of films on which he worked, it was for \"Bambi that Mr. Wong was  —   belatedly  —   most renowned. \"He was truly involved with every phase of production, John Canemaker, an   animator and a historian of animation at New York University, said in an interview for this obituary in March. \"He created an art direction that had really never been seen before in animation.  In 2013 and 2014, Mr. Wong was the subject of \"Water to Paper, Paint to Sky, a major retrospective at the Disney Family Museum in San Francisco. From the museum\\'s windows, which overlook San Francisco Bay, he could contemplate Angel Island, where more than nine decades earlier, as a lone    he had sought to gain admission to a country that adamantly did not want him. Wong Gen Yeo (the name is sometimes Romanized Wong Gaing Yoo) was born on Oct. 25, 1910, in a farming village in Guangdong Province. As a young child, he already exhibited a love of drawing and was encouraged by his father. In 1920, seeking better economic prospects, Gen Yeo and his father embarked for the United States, leaving his mother and sister behind. Gen Yeo would never see his mother again. They were obliged to travel under false identities  —   a state of affairs known among Chinese immigrants as being a \"paper son  —   in the hope of circumventing the Chinese Exclusion Act of 1882. Signed into law by President Chester A. Arthur, the act, which drastically curtailed the number of Chinese people allowed to enter the country, was among the earliest United States laws to impose severe restrictions on immigration. But in 1906, an unforeseen loophole opened in the form of the San Francisco earthquake and fire. Because a huge number of municipal documents, including birth and immigration records, were destroyed, many newly arrived Chinese capitalized on the loss, maintaining that they had been born in San Francisco before the fire. As United States citizens, they were entitled to bring over their relatives  —   or, in the case of Gen Yeo and his father, \"paper sons posing as relatives. Attuned to the deception, United States immigration officials put Chinese arrivals through a formidable inquisition to ensure they were who they claimed to be. The questions came like gunfire: In which direction does your village face? How many windows are in your house? Where in the house is the rice bin? How wide is your well? How deep? Are there trees in your village? Are there lakes? What shops can you name? The sponsoring relative was interrogated separately, and the answers had to match. For the new arrival, a major mistake, or a series of smaller ones, could mean deportation. To stand a chance of passing, aspirants memorized rigorous dossiers known as coaching papers. The ensuing interrogation was hard enough for adults.    Gen Yeo would undergo it alone. On Dec. 30, 1920, after a month at sea, the Wongs landed at Angel Island Immigration Station. The elder Mr. Wong was traveling as a merchant named Look Get his son as Look Tai Yow. \"Angel Island is considered to be the Ellis Island of the West Coast, Lisa See, the author of \"On Gold Mountain (1995) a nonfiction chronicle of her   family, said in an interview in 2016. However, she continued: \"The goal was really very different than Ellis Island, which was supposed to be so welcoming. Angel Island opened very specifically to keep the Chinese out.  Because Mr. Wong\\'s father had previously lived in the United States as Look Get, he was able to clear Immigration quickly. But as a new arrival, Gen Yeo was detained on the island for nearly a month, the only child among the immigrants being held there. \"I was scared half to death I just cried, Mr. Wong recalled in \"Tyrus, an   documentary directed by Pamela Tom, which premiered in 2015. \"Every day is just miserable  —   miserable. I hated that place.  On Jan. 27, 1921, in the presence of an interpreter and a stenographer, young Gen Yeo, posing as Look Tai Yow, was interrogated by three inspectors. His father had already been questioned. Gen Yeo was well prepared and answered without error. In Sacramento, where he joined his father, a schoolteacher Americanized \"Tai Yow to \"Tyrus, and he was known as Tyrus Wong ever after. Soon afterward, father and son were separated once more, when the elder Mr. Wong moved to Los Angeles to seek work. For reasons that have been lost to time, he could not take his son. Tyrus lived on his own in a Sacramento boardinghouse while attending elementary school. Two years later  —   possibly more  —   Tyrus traveled to Los Angeles to join his father, who had found work in a gambling den. They lived in a   boardinghouse sandwiched between a butcher shop and a brothel. After school, Tyrus worked as a houseboy for two Pasadena families, earning 50 cents a day. His first art teacher was his father, who trained him nightly in calligraphy by having him dip a brush in water and trace ghostly characters on newspaper: They could not afford ink or drawing paper. When Tyrus was in junior high, a teacher, noting his drawing talent, arranged a summer scholarship to the Otis Art Institute in Los Angeles. By his own account an indifferent student in public school, Tyrus found his calling at the institute, now the Otis College of Art and Design. When his scholarship ended he declined to return to junior high. His father scraped together the $90 tuition  —   a small fortune  —   to let him stay on as Otis\\'s youngest student. He studied there for at least five years, simultaneously working as the school janitor, before graduating in the 1930s. Not long afterward his father died, leaving young Mr. Wong entirely on his own. From 1936 to 1938, Mr. Wong was an artist for the Works Progress Administration, creating paintings for libraries and other public spaces. With friends, including the   artist Benji Okubo, he founded the Oriental Artists\\' Group of Los Angeles, which organized exhibitions of members\\' work  —   an   level of exposure for Asian artists at the time. Mr. Wong, newly married and needing steady work, joined Disney in 1938 as an \" creating the thousands of intermediate drawings that bring animated sequences to life. Asians were then a novelty at Hollywood studios, and Mr. Wong was made keenly aware of the fact, first at Disney and later at Warner Brothers. One   flung a racial epithet at him. Another assumed on sight that he worked in the company cafeteria. Then there was the affront of the  \\'s job itself: Painstaking, repetitive and for Mr. Wong quickly   it is the   work of animation  —   \"a terrible use of his talents as a landscape artist and a painter, Mr. Canemaker said. A reprieve came in the late 1930s, when Mr. Wong learned that Disney was adapting \"Bambi, a Life in the Woods, the 1923 novel by the Austrian writer Felix Salten about a fawn whose mother is killed by a hunter. In trying to animate the book, Disney had reached an impasse. The studio had enjoyed great success in 1937 with its animated film \"Snow White and the Seven Dwarfs, a baroque production in which every detail of the backgrounds  —   every petal on every flower, every leaf on every tree  —   was meticulously represented. In an attempt to use a similar style for \"Bambi, it found that the ornate backgrounds camouflaged the deer and other forest creatures on which the narrative centered. Mr. Wong spied his chance. \"I said, \\'Gee, this is all outdoor scenery,\\' he recalled in a video interview years afterward, adding: \"I said, \\'Gee, I\\'m a landscape painter! \\' Invoking the exquisite landscape paintings of the Song dynasty (A. D. 960 —  1279) he rendered in watercolors and pastels a series of nature scenes that were moody, lyrical and atmospheric  —   at once lush and spare  —   with backgrounds subtly suggested by a stroke or two of the brush. \"Walt Disney went crazy over them, said Mr. Canemaker, who wrote about Mr. Wong in his book \"Before the Animation Begins: The Art and Lives of Disney Inspirational Sketch Artists (1996). \"He said, \\'I love this indefinite quality, the mysterious quality of the forest. \\' Mr. Wong was unofficially promoted to the rank of inspirational sketch artist. \"But he was more than that, Mr. Canemaker explained. \"He was the designer he was the person they went to when they had questions about the color, about how to lay something out. He even influenced the music and the special effects: Just by the look of the drawings, he inspired people.  Mr. Wong spent two years painting the illustrations that would inform every aspect of \"Bambi.  Throughout the finished film  —   lent a brooding quality by its stark landscapes misty, desaturated palette and figures often seen in silhouette  —   his influence is unmistakable. But in 1941, in the wake of a bitter employees\\' strike that year, Disney fired Mr. Wong. Though he had chosen not to strike  —   he felt the studio had been good to him, Mr. Canemaker said  —   he was let go amid the lingering climate of   resentments. On \"Bambi, Mr. Wong\\'s name appears, quite far down in the credits, as a mere \"background artist. Mr. Wong joined Warner Brothers in 1942, working there  —   and lent out on occasion to other studios  —   until his retirement in 1968. The indignities he endured were not confined to the studios. Trying to buy a house, he and his wife, the former Ruth Kim, were told that each property they inquired about had just been sold. \"Then in a month you\\'d go back there and the sign was still there, Mr. Wong recalled in \"Tyrus.  After the Japanese attack on Pearl Harbor in December 1941, Mr. Wong, like many   took to wearing a lapel button proclaiming his heritage, lest an angry American beat him up on the street. The war permanently dispersed the fledgling Oriental Artists\\' Group. Mr. Wong\\'s friend Mr. Okubo was sent, with tens of thousands of other   to an internment camp. \"If World War II hadn\\'t happened when it did, I think these artists, even the   artists, would have more of a name than they do today, Ms. See said. \"And that\\'s because this little movement that had just barely started was split apart by the war.  Mr. Wong, who became a United States citizen in 1946, also designed Christmas cards for Hallmark and painted elegant   designs on dinnerware, now sought after by collectors. A longtime resident of Sunland, Calif. he became, in retirement, a renowned kitemaker, designing, building and hand coloring astonishing, airworthy creations  —   butterflies, swallows, whole flocks of owls, centipedes more than 100 feet long  —   that streaked the Southern California sky like paint on blue canvas. During the last 15 years of Ruth Wong\\'s life, when she was ill with dementia, Mr. Wong forsook his work to care for her. After her death in 1995, he slowly began making art again. In 2001, in formal recognition of his influence on \"Bambi, Mr. Wong was named a Disney Legend. The honor  —   whose previous recipients include Fred MacMurray, Julie Andrews and Annette Funicello  —   is bestowed by the Walt Disney Company for outstanding contributions. In 2003, a retrospective of his work, curated in part by Ms. See, was the inaugural exhibition at the Chinese American Museum in Los Angeles. The Disney Family Museum\\'s retrospective, \"Water to Paper, Paint to Sky, traveled in 2015 to the Museum of Chinese in America, in Lower Manhattan. Mr. Wong\\'s death, at his home in Sunland, was confirmed by the filmmaker Ms. Tom. His survivors include three daughters, Kay Fong,   Wong and Kim Wong and two grandchildren. When his daughters were small, Mr. Wong encouraged them to make art, as his father had encouraged him. Yet he would not let them have coloring books. The reason was simple: He did not want his children constrained, he said, by lines laid down by others.'"
      ]
     },
     "execution_count": 15,
     "metadata": {},
     "output_type": "execute_result"
    },
    {
     "data": {
      "application/javascript": [
       "\n",
       "            setTimeout(function() {\n",
       "                var nbb_cell_id = 15;\n",
       "                var nbb_unformatted_code = \"out[2].replace(\\\"\\ufffd\\\", \\\"\\\").replace(\\\"\\\\\\\\\\\", \\\"\\\")\";\n",
       "                var nbb_formatted_code = \"out[2].replace(\\\"\\ufffd\\\", \\\"\\\").replace(\\\"\\\\\\\\\\\", \\\"\\\")\";\n",
       "                var nbb_cells = Jupyter.notebook.get_cells();\n",
       "                for (var i = 0; i < nbb_cells.length; ++i) {\n",
       "                    if (nbb_cells[i].input_prompt_number == nbb_cell_id) {\n",
       "                        if (nbb_cells[i].get_text() == nbb_unformatted_code) {\n",
       "                             nbb_cells[i].set_text(nbb_formatted_code);\n",
       "                        }\n",
       "                        break;\n",
       "                    }\n",
       "                }\n",
       "            }, 500);\n",
       "            "
      ],
      "text/plain": [
       "<IPython.core.display.Javascript object>"
      ]
     },
     "metadata": {},
     "output_type": "display_data"
    }
   ],
   "source": [
    "out[2].replace(\"�\", \"\")"
   ]
  },
  {
   "cell_type": "code",
   "execution_count": 12,
   "metadata": {},
   "outputs": [
    {
     "data": {
      "application/javascript": [
       "\n",
       "            setTimeout(function() {\n",
       "                var nbb_cell_id = 12;\n",
       "                var nbb_unformatted_code = \"news[\\\"textfixed\\\"] = out\";\n",
       "                var nbb_formatted_code = \"news[\\\"textfixed\\\"] = out\";\n",
       "                var nbb_cells = Jupyter.notebook.get_cells();\n",
       "                for (var i = 0; i < nbb_cells.length; ++i) {\n",
       "                    if (nbb_cells[i].input_prompt_number == nbb_cell_id) {\n",
       "                        if (nbb_cells[i].get_text() == nbb_unformatted_code) {\n",
       "                             nbb_cells[i].set_text(nbb_formatted_code);\n",
       "                        }\n",
       "                        break;\n",
       "                    }\n",
       "                }\n",
       "            }, 500);\n",
       "            "
      ],
      "text/plain": [
       "<IPython.core.display.Javascript object>"
      ]
     },
     "metadata": {},
     "output_type": "display_data"
    }
   ],
   "source": [
    "news[\"textfixed\"] = out"
   ]
  },
  {
   "cell_type": "code",
   "execution_count": 13,
   "metadata": {},
   "outputs": [
    {
     "data": {
      "application/javascript": [
       "\n",
       "            setTimeout(function() {\n",
       "                var nbb_cell_id = 13;\n",
       "                var nbb_unformatted_code = \"news.to_csv(\\n    \\\"../../data/all-the-news/all-the-news.csv\\\",\\n    encoding=\\\"utf-8-sig\\\",\\n    index=False,\\n)\";\n",
       "                var nbb_formatted_code = \"news.to_csv(\\n    \\\"../../data/all-the-news/all-the-news.csv\\\", encoding=\\\"utf-8-sig\\\", index=False,\\n)\";\n",
       "                var nbb_cells = Jupyter.notebook.get_cells();\n",
       "                for (var i = 0; i < nbb_cells.length; ++i) {\n",
       "                    if (nbb_cells[i].input_prompt_number == nbb_cell_id) {\n",
       "                        if (nbb_cells[i].get_text() == nbb_unformatted_code) {\n",
       "                             nbb_cells[i].set_text(nbb_formatted_code);\n",
       "                        }\n",
       "                        break;\n",
       "                    }\n",
       "                }\n",
       "            }, 500);\n",
       "            "
      ],
      "text/plain": [
       "<IPython.core.display.Javascript object>"
      ]
     },
     "metadata": {},
     "output_type": "display_data"
    }
   ],
   "source": [
    "news.to_csv(\n",
    "    \"../../data/all-the-news/all-the-news.csv\", encoding=\"utf-8-sig\", index=False,\n",
    ")"
   ]
  },
  {
   "cell_type": "code",
   "execution_count": null,
   "metadata": {},
   "outputs": [],
   "source": []
  }
 ],
 "metadata": {
  "kernelspec": {
   "display_name": "Python 3",
   "language": "python",
   "name": "python3"
  },
  "language_info": {
   "codemirror_mode": {
    "name": "ipython",
    "version": 3
   },
   "file_extension": ".py",
   "mimetype": "text/x-python",
   "name": "python",
   "nbconvert_exporter": "python",
   "pygments_lexer": "ipython3",
   "version": "3.8.1"
  }
 },
 "nbformat": 4,
 "nbformat_minor": 4
}
