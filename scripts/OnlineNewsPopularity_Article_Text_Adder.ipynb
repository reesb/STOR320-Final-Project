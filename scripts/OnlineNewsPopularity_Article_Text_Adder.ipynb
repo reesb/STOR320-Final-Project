{
 "cells": [
  {
   "cell_type": "code",
   "execution_count": 1,
   "metadata": {},
   "outputs": [],
   "source": [
    "import urllib.request\n",
    "import re\n",
    "import html2text as h2t\n",
    "import pandas as pd"
   ]
  },
  {
   "cell_type": "code",
   "execution_count": 2,
   "metadata": {},
   "outputs": [],
   "source": [
    "OnlineNewsPopularityTraining = pd.read_csv(\"../data/OnlineNewsPopularityTraining.csv\")\n",
    "OnlineNewsPopularityTest = pd.read_csv(\"../data/OnlineNewsPopularityTest.csv\")"
   ]
  },
  {
   "cell_type": "code",
   "execution_count": 3,
   "metadata": {},
   "outputs": [],
   "source": [
    "TrainingLinks = OnlineNewsPopularityTraining.url\n",
    "TestLinks = OnlineNewsPopularityTest.url\n",
    "\n",
    "TrainingText = [''] * OnlineNewsPopularityTraining.shape[0]\n",
    "TestText = [''] * OnlineNewsPopularityTest.shape[0]"
   ]
  },
  {
   "cell_type": "code",
   "execution_count": 4,
   "metadata": {},
   "outputs": [
    {
     "name": "stdout",
     "output_type": "stream",
     "text": [
      "0\n"
     ]
    }
   ],
   "source": [
    "for idx, link in enumerate(TrainingLinks):\n",
    "    if idx%500 == 0:\n",
    "        print(idx)\n",
    "#     if idx > 50:\n",
    "#         break\n",
    "        \n",
    "    fp = urllib.request.urlopen(link)\n",
    "    mybytes = fp.read()\n",
    "\n",
    "    mystr = mybytes.decode(\"utf8\")\n",
    "    fp.close()\n",
    "\n",
    "    # print(mystr)\n",
    "    \n",
    "    try:\n",
    "        mystr = re.search(\"(?<=<section class='article-content'>)[\\s\\S]+(?=<\\/section>)\", mystr).group()\n",
    "    except:\n",
    "        mystr = \"\"\n",
    "        \n",
    "    h = h2t.HTML2Text()\n",
    "\n",
    "    TrainingText[idx] = (h.handle(mystr))"
   ]
  },
  {
   "cell_type": "code",
   "execution_count": 5,
   "metadata": {},
   "outputs": [
    {
     "name": "stdout",
     "output_type": "stream",
     "text": [
      "0\n"
     ]
    }
   ],
   "source": [
    "for idx, link in enumerate(TestLinks):\n",
    "    if idx%500 == 0:\n",
    "        print(idx)\n",
    "#     if idx > 50:\n",
    "#         break\n",
    "    \n",
    "    fp = urllib.request.urlopen(link)\n",
    "    mybytes = fp.read()\n",
    "\n",
    "    mystr = mybytes.decode(\"utf8\")\n",
    "    fp.close()\n",
    "\n",
    "    # print(mystr)\n",
    "    try:\n",
    "        mystr = re.search(\"(?<=<section class='article-content'>)[\\s\\S]+(?=<\\/section>)\", mystr).group()\n",
    "    except:\n",
    "        mystr = \"\"\n",
    "    \n",
    "    h = h2t.HTML2Text()\n",
    "\n",
    "    TestText[idx] = (h.handle(mystr))"
   ]
  },
  {
   "cell_type": "code",
   "execution_count": 6,
   "metadata": {},
   "outputs": [],
   "source": [
    "OnlineNewsPopularityTraining['text'] = TrainingText"
   ]
  },
  {
   "cell_type": "code",
   "execution_count": 7,
   "metadata": {},
   "outputs": [],
   "source": [
    "OnlineNewsPopularityTest['text'] = TestText"
   ]
  },
  {
   "cell_type": "code",
   "execution_count": 8,
   "metadata": {},
   "outputs": [],
   "source": [
    "OnlineNewsPopularityTraining.to_csv('OnlineNewsPopularityTrainingWithText.csv', encoding='utf-8', index=False)"
   ]
  },
  {
   "cell_type": "code",
   "execution_count": 9,
   "metadata": {},
   "outputs": [],
   "source": [
    "OnlineNewsPopularityTest.to_csv('OnlineNewsPopularityTestWithText.csv', encoding='utf-8', index=False)"
   ]
  }
 ],
 "metadata": {
  "kernelspec": {
   "display_name": "Python 3",
   "language": "python",
   "name": "python3"
  },
  "language_info": {
   "codemirror_mode": {
    "name": "ipython",
    "version": 3
   },
   "file_extension": ".py",
   "mimetype": "text/x-python",
   "name": "python",
   "nbconvert_exporter": "python",
   "pygments_lexer": "ipython3",
   "version": "3.8.1"
  }
 },
 "nbformat": 4,
 "nbformat_minor": 4
}
