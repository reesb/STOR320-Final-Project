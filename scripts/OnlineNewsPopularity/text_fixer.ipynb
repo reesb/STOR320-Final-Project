{
 "cells": [
  {
   "cell_type": "code",
   "execution_count": 1,
   "metadata": {},
   "outputs": [
    {
     "data": {
      "application/javascript": [
       "\n",
       "            setTimeout(function() {\n",
       "                var nbb_cell_id = 1;\n",
       "                var nbb_unformatted_code = \"%load_ext nb_black\";\n",
       "                var nbb_formatted_code = \"%load_ext nb_black\";\n",
       "                var nbb_cells = Jupyter.notebook.get_cells();\n",
       "                for (var i = 0; i < nbb_cells.length; ++i) {\n",
       "                    if (nbb_cells[i].input_prompt_number == nbb_cell_id) {\n",
       "                        if (nbb_cells[i].get_text() == nbb_unformatted_code) {\n",
       "                             nbb_cells[i].set_text(nbb_formatted_code);\n",
       "                        }\n",
       "                        break;\n",
       "                    }\n",
       "                }\n",
       "            }, 500);\n",
       "            "
      ],
      "text/plain": [
       "<IPython.core.display.Javascript object>"
      ]
     },
     "metadata": {},
     "output_type": "display_data"
    }
   ],
   "source": [
    "%load_ext nb_black"
   ]
  },
  {
   "cell_type": "code",
   "execution_count": 50,
   "metadata": {},
   "outputs": [
    {
     "data": {
      "application/javascript": [
       "\n",
       "            setTimeout(function() {\n",
       "                var nbb_cell_id = 50;\n",
       "                var nbb_unformatted_code = \"import ftfy\\nimport pandas as pd\\nimport html2text as h2t\";\n",
       "                var nbb_formatted_code = \"import ftfy\\nimport pandas as pd\\nimport html2text as h2t\";\n",
       "                var nbb_cells = Jupyter.notebook.get_cells();\n",
       "                for (var i = 0; i < nbb_cells.length; ++i) {\n",
       "                    if (nbb_cells[i].input_prompt_number == nbb_cell_id) {\n",
       "                        if (nbb_cells[i].get_text() == nbb_unformatted_code) {\n",
       "                             nbb_cells[i].set_text(nbb_formatted_code);\n",
       "                        }\n",
       "                        break;\n",
       "                    }\n",
       "                }\n",
       "            }, 500);\n",
       "            "
      ],
      "text/plain": [
       "<IPython.core.display.Javascript object>"
      ]
     },
     "metadata": {},
     "output_type": "display_data"
    }
   ],
   "source": [
    "import ftfy\n",
    "import pandas as pd\n",
    "import html2text as h2t"
   ]
  },
  {
   "cell_type": "code",
   "execution_count": 31,
   "metadata": {},
   "outputs": [
    {
     "data": {
      "application/javascript": [
       "\n",
       "            setTimeout(function() {\n",
       "                var nbb_cell_id = 31;\n",
       "                var nbb_unformatted_code = \"Train = pd.read_csv(\\\"../../data/OnlineNewsPopularity/OnlineNewsPopularityTraining.csv\\\")\\nTest = pd.read_csv(\\\"../../data/OnlineNewsPopularity/OnlineNewsPopularityTest.csv\\\")\";\n",
       "                var nbb_formatted_code = \"Train = pd.read_csv(\\\"../../data/OnlineNewsPopularity/OnlineNewsPopularityTraining.csv\\\")\\nTest = pd.read_csv(\\\"../../data/OnlineNewsPopularity/OnlineNewsPopularityTest.csv\\\")\";\n",
       "                var nbb_cells = Jupyter.notebook.get_cells();\n",
       "                for (var i = 0; i < nbb_cells.length; ++i) {\n",
       "                    if (nbb_cells[i].input_prompt_number == nbb_cell_id) {\n",
       "                        if (nbb_cells[i].get_text() == nbb_unformatted_code) {\n",
       "                             nbb_cells[i].set_text(nbb_formatted_code);\n",
       "                        }\n",
       "                        break;\n",
       "                    }\n",
       "                }\n",
       "            }, 500);\n",
       "            "
      ],
      "text/plain": [
       "<IPython.core.display.Javascript object>"
      ]
     },
     "metadata": {},
     "output_type": "display_data"
    }
   ],
   "source": [
    "Train = pd.read_csv(\"../../data/OnlineNewsPopularity/OnlineNewsPopularityTraining.csv\")\n",
    "Test = pd.read_csv(\"../../data/OnlineNewsPopularity/OnlineNewsPopularityTest.csv\")"
   ]
  },
  {
   "cell_type": "code",
   "execution_count": 4,
   "metadata": {},
   "outputs": [
    {
     "data": {
      "application/javascript": [
       "\n",
       "            setTimeout(function() {\n",
       "                var nbb_cell_id = 4;\n",
       "                var nbb_unformatted_code = \"TrainText = Train.text\\nTestText = Test.text\\n\\nTrainOut = [\\\"\\\"] * len(TrainText)\\nTestOut = [\\\"\\\"] * len(TestText)\";\n",
       "                var nbb_formatted_code = \"TrainText = Train.text\\nTestText = Test.text\\n\\nTrainOut = [\\\"\\\"] * len(TrainText)\\nTestOut = [\\\"\\\"] * len(TestText)\";\n",
       "                var nbb_cells = Jupyter.notebook.get_cells();\n",
       "                for (var i = 0; i < nbb_cells.length; ++i) {\n",
       "                    if (nbb_cells[i].input_prompt_number == nbb_cell_id) {\n",
       "                        if (nbb_cells[i].get_text() == nbb_unformatted_code) {\n",
       "                             nbb_cells[i].set_text(nbb_formatted_code);\n",
       "                        }\n",
       "                        break;\n",
       "                    }\n",
       "                }\n",
       "            }, 500);\n",
       "            "
      ],
      "text/plain": [
       "<IPython.core.display.Javascript object>"
      ]
     },
     "metadata": {},
     "output_type": "display_data"
    }
   ],
   "source": [
    "TrainText = Train.text\n",
    "TestText = Test.text\n",
    "\n",
    "TrainOut = [\"\"] * len(TrainText)\n",
    "TestOut = [\"\"] * len(TestText)"
   ]
  },
  {
   "cell_type": "code",
   "execution_count": 53,
   "metadata": {},
   "outputs": [
    {
     "data": {
      "application/javascript": [
       "\n",
       "            setTimeout(function() {\n",
       "                var nbb_cell_id = 53;\n",
       "                var nbb_unformatted_code = \"h = h2t.HTML2Text()\\nh.ignore_links = True\";\n",
       "                var nbb_formatted_code = \"h = h2t.HTML2Text()\\nh.ignore_links = True\";\n",
       "                var nbb_cells = Jupyter.notebook.get_cells();\n",
       "                for (var i = 0; i < nbb_cells.length; ++i) {\n",
       "                    if (nbb_cells[i].input_prompt_number == nbb_cell_id) {\n",
       "                        if (nbb_cells[i].get_text() == nbb_unformatted_code) {\n",
       "                             nbb_cells[i].set_text(nbb_formatted_code);\n",
       "                        }\n",
       "                        break;\n",
       "                    }\n",
       "                }\n",
       "            }, 500);\n",
       "            "
      ],
      "text/plain": [
       "<IPython.core.display.Javascript object>"
      ]
     },
     "metadata": {},
     "output_type": "display_data"
    }
   ],
   "source": [
    "# h = h2t.HTML2Text()\n",
    "# h.ignore_links = True"
   ]
  },
  {
   "cell_type": "code",
   "execution_count": 5,
   "metadata": {},
   "outputs": [
    {
     "name": "stdout",
     "output_type": "stream",
     "text": [
      "0\n",
      "500\n",
      "1000\n",
      "1500\n",
      "2000\n",
      "2500\n",
      "3000\n",
      "3500\n",
      "4000\n",
      "4500\n",
      "5000\n",
      "5500\n",
      "6000\n",
      "6500\n",
      "7000\n",
      "7500\n",
      "8000\n",
      "8500\n",
      "9000\n",
      "9500\n",
      "10000\n",
      "10500\n",
      "11000\n",
      "11500\n",
      "12000\n",
      "12500\n",
      "13000\n",
      "13500\n",
      "14000\n",
      "14500\n",
      "15000\n",
      "15500\n",
      "16000\n",
      "16500\n",
      "17000\n",
      "17500\n",
      "18000\n",
      "18500\n",
      "19000\n",
      "19500\n",
      "20000\n",
      "20500\n",
      "21000\n",
      "21500\n",
      "22000\n",
      "22500\n",
      "23000\n",
      "23500\n",
      "24000\n",
      "24500\n",
      "25000\n",
      "25500\n",
      "26000\n",
      "26500\n",
      "27000\n",
      "27500\n",
      "28000\n",
      "28500\n",
      "29000\n",
      "29500\n",
      "30000\n",
      "30500\n",
      "31000\n",
      "31500\n"
     ]
    },
    {
     "data": {
      "application/javascript": [
       "\n",
       "            setTimeout(function() {\n",
       "                var nbb_cell_id = 5;\n",
       "                var nbb_unformatted_code = \"for idx, text in enumerate(TrainText):\\n    mystr = \\\"\\\"\\n    try:\\n        if idx % 500 == 0:\\n            print(idx)\\n        try:\\n            mystr = ftfy.fix_text(str(text))\\n        except Exception as e:\\n            print(\\\"Inner error at\\\", str(idx))\\n            print(\\\"Error:\\\", e)\\n            mystr = \\\"\\\"\\n        TrainOut[idx] = mystr\\n    except Exception as e:\\n        print(\\\"Outer error at\\\", str(idx))\\n        print(\\\"Error: \\\", e)\";\n",
       "                var nbb_formatted_code = \"for idx, text in enumerate(TrainText):\\n    mystr = \\\"\\\"\\n    try:\\n        if idx % 500 == 0:\\n            print(idx)\\n        try:\\n            mystr = ftfy.fix_text(str(text))\\n        except Exception as e:\\n            print(\\\"Inner error at\\\", str(idx))\\n            print(\\\"Error:\\\", e)\\n            mystr = \\\"\\\"\\n        TrainOut[idx] = mystr\\n    except Exception as e:\\n        print(\\\"Outer error at\\\", str(idx))\\n        print(\\\"Error: \\\", e)\";\n",
       "                var nbb_cells = Jupyter.notebook.get_cells();\n",
       "                for (var i = 0; i < nbb_cells.length; ++i) {\n",
       "                    if (nbb_cells[i].input_prompt_number == nbb_cell_id) {\n",
       "                        if (nbb_cells[i].get_text() == nbb_unformatted_code) {\n",
       "                             nbb_cells[i].set_text(nbb_formatted_code);\n",
       "                        }\n",
       "                        break;\n",
       "                    }\n",
       "                }\n",
       "            }, 500);\n",
       "            "
      ],
      "text/plain": [
       "<IPython.core.display.Javascript object>"
      ]
     },
     "metadata": {},
     "output_type": "display_data"
    }
   ],
   "source": [
    "for idx, text in enumerate(TrainText):\n",
    "    mystr = \"\"\n",
    "    try:\n",
    "        if idx % 500 == 0:\n",
    "            print(idx)\n",
    "        try:\n",
    "            mystr = ftfy.fix_text(str(text))\n",
    "        except Exception as e:\n",
    "            print(\"Inner error at\", str(idx))\n",
    "            print(\"Error:\", e)\n",
    "            mystr = \"\"\n",
    "        TrainOut[idx] = mystr\n",
    "    except Exception as e:\n",
    "        print(\"Outer error at\", str(idx))\n",
    "        print(\"Error: \", e)"
   ]
  },
  {
   "cell_type": "code",
   "execution_count": 57,
   "metadata": {},
   "outputs": [
    {
     "name": "stdout",
     "output_type": "stream",
     "text": [
      "0\n",
      "500\n",
      "1000\n",
      "1500\n",
      "2000\n",
      "2500\n",
      "3000\n",
      "3500\n",
      "4000\n",
      "4500\n",
      "5000\n",
      "5500\n",
      "6000\n",
      "6500\n",
      "7000\n",
      "7500\n"
     ]
    },
    {
     "data": {
      "application/javascript": [
       "\n",
       "            setTimeout(function() {\n",
       "                var nbb_cell_id = 57;\n",
       "                var nbb_unformatted_code = \"for idx, text in enumerate(TestText):\\n    mystr = \\\"\\\"\\n    try:\\n        if idx % 500 == 0:\\n            print(idx)\\n        try:\\n            mystr = ftfy.fix_text(str(text))\\n        except Exception as e:\\n            print(\\\"Inner error at\\\", str(idx))\\n            print(\\\"Error:\\\", e)\\n            mystr = \\\"\\\"\\n        TestOut[idx] = mystr\\n    except Exception as e:\\n        print(\\\"Outer error at\\\", str(idx))\\n        print(\\\"Error:\\\", e)\";\n",
       "                var nbb_formatted_code = \"for idx, text in enumerate(TestText):\\n    mystr = \\\"\\\"\\n    try:\\n        if idx % 500 == 0:\\n            print(idx)\\n        try:\\n            mystr = ftfy.fix_text(str(text))\\n        except Exception as e:\\n            print(\\\"Inner error at\\\", str(idx))\\n            print(\\\"Error:\\\", e)\\n            mystr = \\\"\\\"\\n        TestOut[idx] = mystr\\n    except Exception as e:\\n        print(\\\"Outer error at\\\", str(idx))\\n        print(\\\"Error:\\\", e)\";\n",
       "                var nbb_cells = Jupyter.notebook.get_cells();\n",
       "                for (var i = 0; i < nbb_cells.length; ++i) {\n",
       "                    if (nbb_cells[i].input_prompt_number == nbb_cell_id) {\n",
       "                        if (nbb_cells[i].get_text() == nbb_unformatted_code) {\n",
       "                             nbb_cells[i].set_text(nbb_formatted_code);\n",
       "                        }\n",
       "                        break;\n",
       "                    }\n",
       "                }\n",
       "            }, 500);\n",
       "            "
      ],
      "text/plain": [
       "<IPython.core.display.Javascript object>"
      ]
     },
     "metadata": {},
     "output_type": "display_data"
    }
   ],
   "source": [
    "for idx, text in enumerate(TestText):\n",
    "    mystr = \"\"\n",
    "    try:\n",
    "        if idx % 500 == 0:\n",
    "            print(idx)\n",
    "        try:\n",
    "            mystr = ftfy.fix_text(str(text))\n",
    "        except Exception as e:\n",
    "            print(\"Inner error at\", str(idx))\n",
    "            print(\"Error:\", e)\n",
    "            mystr = \"\"\n",
    "        TestOut[idx] = mystr\n",
    "    except Exception as e:\n",
    "        print(\"Outer error at\", str(idx))\n",
    "        print(\"Error:\", e)"
   ]
  },
  {
   "cell_type": "code",
   "execution_count": 58,
   "metadata": {},
   "outputs": [
    {
     "data": {
      "text/plain": [
       "'You can now carry your Instagram photos in your pocket on more than just your\\nsmartphone.\\n\\nA new [Kickstarter](https://mashable.com/category/kickstarter/) campaign is\\nworking to turn your photos, including those from\\n[Instagram](https://mashable.com/category/instagram/), into a card holding,\\ncash toting wallet. Backers of [the\\ncampaign](http://www.kickstarter.com/projects/markabramson/thinfolio-the-\\ncustom-wallet-built-from-your-images) will receive an access code they can use\\nto design the wallet online using their personal photos as the back, front and\\ninside of the wallet. Users select up to six photos: two for the outside, two\\nfor the inside front pockets, and two for the interior money pocket.\\n\\nSee also: [10 Must-Follow Instagram Accounts for Stylish\\nWomen](https://mashable.com/2012/05/29/girly-instagram-accounts/)\\n\\nThe wallets — which are made out of a synthetic material known as Tyvek — are\\nthen printed, cut, and handmade on a sewing machine by Mark and Anna Abramson,\\na husband and wife team out of Sausalito, Calif.\\n\\n![instagram-wallet-01](https://mondrian.mashable.com/wp-\\ncontent%252Fuploads%252F2013%252F10%252Finstagram-wallet-01.jpg%252Ffull-fit-\\nin__1200x2000.jpg?signature=sH0sMtqBQTp_hcZBPZjJBheoOo0=&source=http%3A%2F%2Fmashable.com)\\n\\nOriginally the campaign didn\\'t support Instagram photos, but after many\\npotential backers requested they be included, the Abramson\\'s added a new perk\\non Wednesday to accommodate. For $35, donors can design their wallet, called a\\nThinFolio, using the photos they\\'ve taken on Instagram. (A wallet designed\\nwith non-Instagram images is the same cost.)\\n\\nThe Abramson\\'s have been making these wallets from their home since 2004, and\\nthe ThinFolio name speaks to the item\\'s trim appearance (it\\'s less than a 0.1\"\\nthick). Mark and Anna even mailed out their wedding invitations as handcrafted\\nwallets back in 2008.\\n\\n![instagram-wallet-04](https://mondrian.mashable.com/wp-\\ncontent%252Fuploads%252F2013%252F10%252Finstagram-wallet-04.jpg%252Ffull-fit-\\nin__1200x2000.jpg?signature=zMivxtLgqrl-\\nDt6Q9Iye0-AF0Ww=&source=http%3A%2F%2Fmashable.com)\\n\\nThe couple hopes to raise enough money from their Kickstarter campaign to\\npurchase new sewing machines and turn their operation from a hobby into a\\nsustainable business, according to the Kickstarter page. The campaign, which\\nbegan on Oct. 8, has raised a little under half of its $20,000 fundraising\\ngoal with three weeks remaining.\\n\\n\"We love the reaction friends and family have to their ThinFolio wallets,\"\\nthey wrote on the campaign page. \"We want to bring our special ThinFolio joy\\nto the widest possible audience and begin a whole new conversation about your\\nwallet.\"\\n\\n_Image: ThinFolio_\\n\\n'"
      ]
     },
     "execution_count": 58,
     "metadata": {},
     "output_type": "execute_result"
    },
    {
     "data": {
      "application/javascript": [
       "\n",
       "            setTimeout(function() {\n",
       "                var nbb_cell_id = 58;\n",
       "                var nbb_unformatted_code = \"TestOut[0]\";\n",
       "                var nbb_formatted_code = \"TestOut[0]\";\n",
       "                var nbb_cells = Jupyter.notebook.get_cells();\n",
       "                for (var i = 0; i < nbb_cells.length; ++i) {\n",
       "                    if (nbb_cells[i].input_prompt_number == nbb_cell_id) {\n",
       "                        if (nbb_cells[i].get_text() == nbb_unformatted_code) {\n",
       "                             nbb_cells[i].set_text(nbb_formatted_code);\n",
       "                        }\n",
       "                        break;\n",
       "                    }\n",
       "                }\n",
       "            }, 500);\n",
       "            "
      ],
      "text/plain": [
       "<IPython.core.display.Javascript object>"
      ]
     },
     "metadata": {},
     "output_type": "display_data"
    }
   ],
   "source": [
    "TestOut[0]"
   ]
  },
  {
   "cell_type": "code",
   "execution_count": 41,
   "metadata": {},
   "outputs": [
    {
     "data": {
      "application/javascript": [
       "\n",
       "            setTimeout(function() {\n",
       "                var nbb_cell_id = 41;\n",
       "                var nbb_unformatted_code = \"Train[\\\"text\\\"] = TrainOut\";\n",
       "                var nbb_formatted_code = \"Train[\\\"text\\\"] = TrainOut\";\n",
       "                var nbb_cells = Jupyter.notebook.get_cells();\n",
       "                for (var i = 0; i < nbb_cells.length; ++i) {\n",
       "                    if (nbb_cells[i].input_prompt_number == nbb_cell_id) {\n",
       "                        if (nbb_cells[i].get_text() == nbb_unformatted_code) {\n",
       "                             nbb_cells[i].set_text(nbb_formatted_code);\n",
       "                        }\n",
       "                        break;\n",
       "                    }\n",
       "                }\n",
       "            }, 500);\n",
       "            "
      ],
      "text/plain": [
       "<IPython.core.display.Javascript object>"
      ]
     },
     "metadata": {},
     "output_type": "display_data"
    }
   ],
   "source": [
    "Train[\"text\"] = TrainOut"
   ]
  },
  {
   "cell_type": "code",
   "execution_count": 8,
   "metadata": {},
   "outputs": [
    {
     "data": {
      "application/javascript": [
       "\n",
       "            setTimeout(function() {\n",
       "                var nbb_cell_id = 8;\n",
       "                var nbb_unformatted_code = \"Test[\\\"text\\\"] = TestOut\";\n",
       "                var nbb_formatted_code = \"Test[\\\"text\\\"] = TestOut\";\n",
       "                var nbb_cells = Jupyter.notebook.get_cells();\n",
       "                for (var i = 0; i < nbb_cells.length; ++i) {\n",
       "                    if (nbb_cells[i].input_prompt_number == nbb_cell_id) {\n",
       "                        if (nbb_cells[i].get_text() == nbb_unformatted_code) {\n",
       "                             nbb_cells[i].set_text(nbb_formatted_code);\n",
       "                        }\n",
       "                        break;\n",
       "                    }\n",
       "                }\n",
       "            }, 500);\n",
       "            "
      ],
      "text/plain": [
       "<IPython.core.display.Javascript object>"
      ]
     },
     "metadata": {},
     "output_type": "display_data"
    }
   ],
   "source": [
    "Test[\"text\"] = TestOut"
   ]
  },
  {
   "cell_type": "code",
   "execution_count": 47,
   "metadata": {},
   "outputs": [
    {
     "data": {
      "application/javascript": [
       "\n",
       "            setTimeout(function() {\n",
       "                var nbb_cell_id = 47;\n",
       "                var nbb_unformatted_code = \"Train.to_csv(\\n    \\\"../../data/OnlineNewsPopularity/OnlineNewsPopularityTraining.csv\\\",\\n    encoding=\\\"utf-8-sig\\\",\\n    index=False,\\n)\";\n",
       "                var nbb_formatted_code = \"Train.to_csv(\\n    \\\"../../data/OnlineNewsPopularity/OnlineNewsPopularityTraining.csv\\\",\\n    encoding=\\\"utf-8-sig\\\",\\n    index=False,\\n)\";\n",
       "                var nbb_cells = Jupyter.notebook.get_cells();\n",
       "                for (var i = 0; i < nbb_cells.length; ++i) {\n",
       "                    if (nbb_cells[i].input_prompt_number == nbb_cell_id) {\n",
       "                        if (nbb_cells[i].get_text() == nbb_unformatted_code) {\n",
       "                             nbb_cells[i].set_text(nbb_formatted_code);\n",
       "                        }\n",
       "                        break;\n",
       "                    }\n",
       "                }\n",
       "            }, 500);\n",
       "            "
      ],
      "text/plain": [
       "<IPython.core.display.Javascript object>"
      ]
     },
     "metadata": {},
     "output_type": "display_data"
    }
   ],
   "source": [
    "Train.to_csv(\n",
    "    \"../../data/OnlineNewsPopularity/OnlineNewsPopularityTraining.csv\",\n",
    "    encoding=\"utf-8-sig\",\n",
    "    index=False,\n",
    ")"
   ]
  },
  {
   "cell_type": "code",
   "execution_count": 48,
   "metadata": {},
   "outputs": [
    {
     "data": {
      "application/javascript": [
       "\n",
       "            setTimeout(function() {\n",
       "                var nbb_cell_id = 48;\n",
       "                var nbb_unformatted_code = \"Test.to_csv(\\n    \\\"../../data/OnlineNewsPopularity/OnlineNewsPopularityTest.csv\\\",\\n    encoding=\\\"utf-8-sig\\\",\\n    index=False,\\n)\";\n",
       "                var nbb_formatted_code = \"Test.to_csv(\\n    \\\"../../data/OnlineNewsPopularity/OnlineNewsPopularityTest.csv\\\",\\n    encoding=\\\"utf-8-sig\\\",\\n    index=False,\\n)\";\n",
       "                var nbb_cells = Jupyter.notebook.get_cells();\n",
       "                for (var i = 0; i < nbb_cells.length; ++i) {\n",
       "                    if (nbb_cells[i].input_prompt_number == nbb_cell_id) {\n",
       "                        if (nbb_cells[i].get_text() == nbb_unformatted_code) {\n",
       "                             nbb_cells[i].set_text(nbb_formatted_code);\n",
       "                        }\n",
       "                        break;\n",
       "                    }\n",
       "                }\n",
       "            }, 500);\n",
       "            "
      ],
      "text/plain": [
       "<IPython.core.display.Javascript object>"
      ]
     },
     "metadata": {},
     "output_type": "display_data"
    }
   ],
   "source": [
    "Test.to_csv(\n",
    "    \"../../data/OnlineNewsPopularity/OnlineNewsPopularityTest.csv\",\n",
    "    encoding=\"utf-8-sig\",\n",
    "    index=False,\n",
    ")"
   ]
  },
  {
   "cell_type": "code",
   "execution_count": null,
   "metadata": {},
   "outputs": [],
   "source": []
  }
 ],
 "metadata": {
  "kernelspec": {
   "display_name": "Python 3",
   "language": "python",
   "name": "python3"
  },
  "language_info": {
   "codemirror_mode": {
    "name": "ipython",
    "version": 3
   },
   "file_extension": ".py",
   "mimetype": "text/x-python",
   "name": "python",
   "nbconvert_exporter": "python",
   "pygments_lexer": "ipython3",
   "version": "3.8.1"
  }
 },
 "nbformat": 4,
 "nbformat_minor": 4
}
