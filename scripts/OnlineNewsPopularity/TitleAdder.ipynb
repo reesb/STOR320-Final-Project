{
 "cells": [
  {
   "cell_type": "code",
   "execution_count": 1,
   "metadata": {},
   "outputs": [
    {
     "data": {
      "application/javascript": [
       "\n",
       "            setTimeout(function() {\n",
       "                var nbb_cell_id = 1;\n",
       "                var nbb_unformatted_code = \"%load_ext nb_black\";\n",
       "                var nbb_formatted_code = \"%load_ext nb_black\";\n",
       "                var nbb_cells = Jupyter.notebook.get_cells();\n",
       "                for (var i = 0; i < nbb_cells.length; ++i) {\n",
       "                    if (nbb_cells[i].input_prompt_number == nbb_cell_id) {\n",
       "                        if (nbb_cells[i].get_text() == nbb_unformatted_code) {\n",
       "                             nbb_cells[i].set_text(nbb_formatted_code);\n",
       "                        }\n",
       "                        break;\n",
       "                    }\n",
       "                }\n",
       "            }, 500);\n",
       "            "
      ],
      "text/plain": [
       "<IPython.core.display.Javascript object>"
      ]
     },
     "metadata": {},
     "output_type": "display_data"
    }
   ],
   "source": [
    "%load_ext nb_black"
   ]
  },
  {
   "cell_type": "code",
   "execution_count": 2,
   "metadata": {},
   "outputs": [
    {
     "data": {
      "application/javascript": [
       "\n",
       "            setTimeout(function() {\n",
       "                var nbb_cell_id = 2;\n",
       "                var nbb_unformatted_code = \"import urllib.request\\nimport re\\nimport html2text as h2t\\nimport pandas as pd\";\n",
       "                var nbb_formatted_code = \"import urllib.request\\nimport re\\nimport html2text as h2t\\nimport pandas as pd\";\n",
       "                var nbb_cells = Jupyter.notebook.get_cells();\n",
       "                for (var i = 0; i < nbb_cells.length; ++i) {\n",
       "                    if (nbb_cells[i].input_prompt_number == nbb_cell_id) {\n",
       "                        if (nbb_cells[i].get_text() == nbb_unformatted_code) {\n",
       "                             nbb_cells[i].set_text(nbb_formatted_code);\n",
       "                        }\n",
       "                        break;\n",
       "                    }\n",
       "                }\n",
       "            }, 500);\n",
       "            "
      ],
      "text/plain": [
       "<IPython.core.display.Javascript object>"
      ]
     },
     "metadata": {},
     "output_type": "display_data"
    }
   ],
   "source": [
    "import urllib.request\n",
    "import re\n",
    "import html2text as h2t\n",
    "import pandas as pd"
   ]
  },
  {
   "cell_type": "code",
   "execution_count": 3,
   "metadata": {},
   "outputs": [
    {
     "data": {
      "application/javascript": [
       "\n",
       "            setTimeout(function() {\n",
       "                var nbb_cell_id = 3;\n",
       "                var nbb_unformatted_code = \"OnlineNewsPopularityTraining = pd.read_csv(\\n    \\\"../../data/OnlineNewsPopularity/OnlineNewsPopularityTraining.csv\\\"\\n)\\nOnlineNewsPopularityTest = pd.read_csv(\\n    \\\"../../data/OnlineNewsPopularity/OnlineNewsPopularityTest.csv\\\"\\n)\";\n",
       "                var nbb_formatted_code = \"OnlineNewsPopularityTraining = pd.read_csv(\\n    \\\"../../data/OnlineNewsPopularity/OnlineNewsPopularityTraining.csv\\\"\\n)\\nOnlineNewsPopularityTest = pd.read_csv(\\n    \\\"../../data/OnlineNewsPopularity/OnlineNewsPopularityTest.csv\\\"\\n)\";\n",
       "                var nbb_cells = Jupyter.notebook.get_cells();\n",
       "                for (var i = 0; i < nbb_cells.length; ++i) {\n",
       "                    if (nbb_cells[i].input_prompt_number == nbb_cell_id) {\n",
       "                        if (nbb_cells[i].get_text() == nbb_unformatted_code) {\n",
       "                             nbb_cells[i].set_text(nbb_formatted_code);\n",
       "                        }\n",
       "                        break;\n",
       "                    }\n",
       "                }\n",
       "            }, 500);\n",
       "            "
      ],
      "text/plain": [
       "<IPython.core.display.Javascript object>"
      ]
     },
     "metadata": {},
     "output_type": "display_data"
    }
   ],
   "source": [
    "OnlineNewsPopularityTraining = pd.read_csv(\n",
    "    \"../../data/OnlineNewsPopularity/OnlineNewsPopularityTraining.csv\"\n",
    ")\n",
    "OnlineNewsPopularityTest = pd.read_csv(\n",
    "    \"../../data/OnlineNewsPopularity/OnlineNewsPopularityTest.csv\"\n",
    ")"
   ]
  },
  {
   "cell_type": "code",
   "execution_count": 4,
   "metadata": {},
   "outputs": [
    {
     "data": {
      "application/javascript": [
       "\n",
       "            setTimeout(function() {\n",
       "                var nbb_cell_id = 4;\n",
       "                var nbb_unformatted_code = \"TrainingLinks = OnlineNewsPopularityTraining.url\\nTestLinks = OnlineNewsPopularityTest.url\\n\\nTrainingTitles = [\\\"\\\"] * OnlineNewsPopularityTraining.shape[0]\\nTestTitles = [\\\"\\\"] * OnlineNewsPopularityTest.shape[0]\";\n",
       "                var nbb_formatted_code = \"TrainingLinks = OnlineNewsPopularityTraining.url\\nTestLinks = OnlineNewsPopularityTest.url\\n\\nTrainingTitles = [\\\"\\\"] * OnlineNewsPopularityTraining.shape[0]\\nTestTitles = [\\\"\\\"] * OnlineNewsPopularityTest.shape[0]\";\n",
       "                var nbb_cells = Jupyter.notebook.get_cells();\n",
       "                for (var i = 0; i < nbb_cells.length; ++i) {\n",
       "                    if (nbb_cells[i].input_prompt_number == nbb_cell_id) {\n",
       "                        if (nbb_cells[i].get_text() == nbb_unformatted_code) {\n",
       "                             nbb_cells[i].set_text(nbb_formatted_code);\n",
       "                        }\n",
       "                        break;\n",
       "                    }\n",
       "                }\n",
       "            }, 500);\n",
       "            "
      ],
      "text/plain": [
       "<IPython.core.display.Javascript object>"
      ]
     },
     "metadata": {},
     "output_type": "display_data"
    }
   ],
   "source": [
    "TrainingLinks = OnlineNewsPopularityTraining.url\n",
    "TestLinks = OnlineNewsPopularityTest.url\n",
    "\n",
    "TrainingTitles = [\"\"] * OnlineNewsPopularityTraining.shape[0]\n",
    "TestTitles = [\"\"] * OnlineNewsPopularityTest.shape[0]"
   ]
  },
  {
   "cell_type": "code",
   "execution_count": 5,
   "metadata": {},
   "outputs": [
    {
     "name": "stdout",
     "output_type": "stream",
     "text": [
      "0\n",
      "500\n",
      "1000\n",
      "1500\n",
      "2000\n",
      "2500\n",
      "3000\n",
      "3500\n",
      "4000\n",
      "4500\n",
      "5000\n",
      "5500\n",
      "6000\n",
      "6500\n",
      "7000\n",
      "Outer error at 7100\n",
      "7500\n",
      "8000\n",
      "8500\n",
      "9000\n",
      "9500\n",
      "10000\n",
      "10500\n",
      "11000\n",
      "11500\n",
      "12000\n",
      "12500\n",
      "13000\n",
      "Inner error at 13318\n",
      "13500\n",
      "Outer error at 13799\n",
      "14000\n",
      "14500\n",
      "Outer error at 14549\n",
      "15000\n",
      "15500\n",
      "16000\n",
      "Outer error at 16010\n",
      "Outer error at 16088\n",
      "16500\n",
      "Outer error at 16549\n",
      "17000\n",
      "17500\n",
      "18000\n",
      "Inner error at 18188\n",
      "18500\n",
      "Outer error at 18546\n",
      "Inner error at 18566\n",
      "Inner error at 18730\n",
      "Inner error at 18964\n",
      "19000\n",
      "Inner error at 19041\n",
      "Inner error at 19106\n",
      "Inner error at 19225\n",
      "Inner error at 19368\n",
      "Inner error at 19425\n",
      "19500\n",
      "Outer error at 19705\n",
      "Outer error at 19851\n",
      "20000\n",
      "Outer error at 20383\n",
      "20500\n",
      "Outer error at 20684\n",
      "21000\n",
      "Outer error at 21220\n",
      "Outer error at 21248\n",
      "21500\n",
      "Inner error at 21770\n",
      "Inner error at 21969\n",
      "Outer error at 21974\n",
      "22000\n",
      "Inner error at 22268\n",
      "Outer error at 22474\n",
      "22500\n",
      "23000\n",
      "Inner error at 23179\n",
      "Inner error at 23180\n",
      "Inner error at 23181\n",
      "Inner error at 23182\n",
      "23500\n",
      "Outer error at 23511\n",
      "Outer error at 23849\n",
      "24000\n",
      "Inner error at 24092\n",
      "Inner error at 24176\n",
      "24500\n",
      "Outer error at 24534\n",
      "Inner error at 24569\n",
      "Inner error at 24731\n",
      "Inner error at 24962\n",
      "25000\n",
      "Inner error at 25079\n",
      "25500\n",
      "Inner error at 25710\n",
      "Inner error at 25711\n",
      "Inner error at 25913\n",
      "26000\n",
      "Inner error at 26133\n",
      "Inner error at 26271\n",
      "Inner error at 26272\n",
      "Inner error at 26342\n",
      "Inner error at 26399\n",
      "Inner error at 26400\n",
      "26500\n",
      "Inner error at 26936\n",
      "Inner error at 26988\n",
      "27000\n",
      "Inner error at 27009\n",
      "Inner error at 27016\n",
      "Inner error at 27138\n",
      "Inner error at 27191\n",
      "Inner error at 27238\n",
      "Inner error at 27314\n",
      "Inner error at 27338\n",
      "Inner error at 27381\n",
      "Inner error at 27453\n",
      "27500\n",
      "Inner error at 27503\n",
      "Inner error at 27547\n",
      "Inner error at 27562\n",
      "Outer error at 27568\n",
      "Inner error at 27797\n",
      "Inner error at 27845\n",
      "Inner error at 27950\n",
      "Inner error at 27980\n",
      "28000\n",
      "Inner error at 28013\n",
      "Inner error at 28066\n",
      "Inner error at 28160\n",
      "Inner error at 28242\n",
      "Inner error at 28245\n",
      "Inner error at 28337\n",
      "Inner error at 28378\n",
      "Inner error at 28392\n",
      "Inner error at 28428\n",
      "28500\n",
      "Inner error at 28509\n",
      "Inner error at 28527\n",
      "Inner error at 28577\n",
      "Inner error at 28635\n",
      "Inner error at 28666\n",
      "Inner error at 28695\n",
      "Inner error at 28914\n",
      "Inner error at 28917\n",
      "Inner error at 28954\n",
      "29000\n",
      "Inner error at 29004\n",
      "Inner error at 29010\n",
      "Inner error at 29085\n",
      "Inner error at 29223\n",
      "Inner error at 29381\n",
      "Inner error at 29399\n",
      "Inner error at 29427\n",
      "29500\n",
      "Inner error at 29531\n",
      "Inner error at 29602\n",
      "Inner error at 29628\n",
      "Inner error at 29688\n",
      "Inner error at 29971\n",
      "30000\n",
      "Inner error at 30041\n",
      "Inner error at 30229\n",
      "Inner error at 30337\n",
      "Inner error at 30354\n",
      "Inner error at 30403\n",
      "Inner error at 30429\n",
      "Inner error at 30450\n",
      "30500\n",
      "Inner error at 30536\n",
      "Inner error at 30546\n",
      "Inner error at 30600\n",
      "Inner error at 30618\n",
      "Inner error at 30753\n",
      "Inner error at 30826\n",
      "Inner error at 30832\n",
      "Inner error at 30859\n",
      "Inner error at 30925\n",
      "Inner error at 30973\n",
      "31000\n",
      "Inner error at 31049\n",
      "Inner error at 31052\n",
      "Inner error at 31055\n",
      "Inner error at 31092\n",
      "Inner error at 31094\n",
      "Inner error at 31101\n",
      "Inner error at 31104\n",
      "Inner error at 31125\n",
      "Inner error at 31158\n",
      "Inner error at 31181\n",
      "Inner error at 31222\n",
      "Outer error at 31240\n",
      "Inner error at 31250\n",
      "Inner error at 31288\n",
      "Inner error at 31297\n",
      "Inner error at 31303\n",
      "Inner error at 31407\n",
      "31500\n",
      "Inner error at 31529\n",
      "Inner error at 31609\n"
     ]
    },
    {
     "data": {
      "application/javascript": [
       "\n",
       "            setTimeout(function() {\n",
       "                var nbb_cell_id = 5;\n",
       "                var nbb_unformatted_code = \"for idx, link in enumerate(TrainingLinks):\\n    try:\\n        if idx % 500 == 0:\\n            print(idx)\\n#         if idx > 50:\\n#             break\\n\\n        fp = urllib.request.urlopen(link)\\n        mybytes = fp.read()\\n\\n        mystr = mybytes.decode(\\\"utf8\\\")\\n        fp.close()\\n\\n        try:\\n            mystr = re.search(\\n                \\\"<h1 class='title' [\\\\s\\\\S]+?>[\\\\s\\\\S]+?(?=<\\\\/h1>)\\\", mystr\\n            ).group()\\n            h = h2t.HTML2Text()\\n            mystr = h.handle(mystr)\\n            mystr = mystr.split(\\\"# \\\", 1)[1]\\n        except:\\n            print(\\\"Inner error at\\\", str(idx))\\n            mystr = \\\"\\\"\\n\\n        #         print(mystr)\\n        TrainingTitles[idx] = mystr\\n    except:\\n        print(\\\"Outer error at\\\", str(idx))\";\n",
       "                var nbb_formatted_code = \"for idx, link in enumerate(TrainingLinks):\\n    try:\\n        if idx % 500 == 0:\\n            print(idx)\\n        #         if idx > 50:\\n        #             break\\n\\n        fp = urllib.request.urlopen(link)\\n        mybytes = fp.read()\\n\\n        mystr = mybytes.decode(\\\"utf8\\\")\\n        fp.close()\\n\\n        try:\\n            mystr = re.search(\\n                \\\"<h1 class='title' [\\\\s\\\\S]+?>[\\\\s\\\\S]+?(?=<\\\\/h1>)\\\", mystr\\n            ).group()\\n            h = h2t.HTML2Text()\\n            mystr = h.handle(mystr)\\n            mystr = mystr.split(\\\"# \\\", 1)[1]\\n        except:\\n            print(\\\"Inner error at\\\", str(idx))\\n            mystr = \\\"\\\"\\n\\n        #         print(mystr)\\n        TrainingTitles[idx] = mystr\\n    except:\\n        print(\\\"Outer error at\\\", str(idx))\";\n",
       "                var nbb_cells = Jupyter.notebook.get_cells();\n",
       "                for (var i = 0; i < nbb_cells.length; ++i) {\n",
       "                    if (nbb_cells[i].input_prompt_number == nbb_cell_id) {\n",
       "                        if (nbb_cells[i].get_text() == nbb_unformatted_code) {\n",
       "                             nbb_cells[i].set_text(nbb_formatted_code);\n",
       "                        }\n",
       "                        break;\n",
       "                    }\n",
       "                }\n",
       "            }, 500);\n",
       "            "
      ],
      "text/plain": [
       "<IPython.core.display.Javascript object>"
      ]
     },
     "metadata": {},
     "output_type": "display_data"
    }
   ],
   "source": [
    "for idx, link in enumerate(TrainingLinks):\n",
    "    try:\n",
    "        if idx % 500 == 0:\n",
    "            print(idx)\n",
    "        #         if idx > 50:\n",
    "        #             break\n",
    "\n",
    "        fp = urllib.request.urlopen(link)\n",
    "        mybytes = fp.read()\n",
    "\n",
    "        mystr = mybytes.decode(\"utf8\")\n",
    "        fp.close()\n",
    "\n",
    "        try:\n",
    "            mystr = re.search(\n",
    "                \"<h1 class='title' [\\s\\S]+?>[\\s\\S]+?(?=<\\/h1>)\", mystr\n",
    "            ).group()\n",
    "            h = h2t.HTML2Text()\n",
    "            mystr = h.handle(mystr)\n",
    "            mystr = mystr.split(\"# \", 1)[1]\n",
    "        except:\n",
    "            print(\"Inner error at\", str(idx))\n",
    "            mystr = \"\"\n",
    "\n",
    "        #         print(mystr)\n",
    "        TrainingTitles[idx] = mystr\n",
    "    except:\n",
    "        print(\"Outer error at\", str(idx))"
   ]
  },
  {
   "cell_type": "code",
   "execution_count": 11,
   "metadata": {},
   "outputs": [
    {
     "name": "stdout",
     "output_type": "stream",
     "text": [
      "0\n",
      "Inner error at 484\n",
      "500\n",
      "Inner error at 536\n",
      "Inner error at 616\n",
      "Inner error at 619\n",
      "Inner error at 661\n",
      "Inner error at 866\n",
      "1000\n",
      "Inner error at 1010\n",
      "Inner error at 1196\n",
      "Inner error at 1225\n",
      "1500\n",
      "Inner error at 1614\n",
      "Inner error at 1629\n",
      "Inner error at 1719\n",
      "Outer error at 1727\n",
      "Inner error at 1830\n",
      "Outer error at 1831\n",
      "2000\n",
      "Inner error at 2300\n",
      "2500\n",
      "Inner error at 2582\n",
      "3000\n",
      "Inner error at 3399\n",
      "3500\n",
      "Inner error at 3599\n",
      "Outer error at 3623\n",
      "Inner error at 3874\n",
      "4000\n",
      "Inner error at 4024\n",
      "Inner error at 4027\n",
      "Inner error at 4035\n",
      "Inner error at 4102\n",
      "Inner error at 4378\n",
      "4500\n",
      "Inner error at 4739\n",
      "Inner error at 4825\n",
      "Inner error at 4840\n",
      "5000\n",
      "Outer error at 5009\n",
      "Inner error at 5363\n",
      "5500\n",
      "Inner error at 5586\n",
      "Outer error at 5622\n",
      "6000\n",
      "Inner error at 6398\n",
      "6500\n",
      "Inner error at 6710\n",
      "7000\n",
      "Inner error at 7028\n",
      "Inner error at 7125\n",
      "Inner error at 7399\n",
      "7500\n"
     ]
    },
    {
     "data": {
      "application/javascript": [
       "\n",
       "            setTimeout(function() {\n",
       "                var nbb_cell_id = 11;\n",
       "                var nbb_unformatted_code = \"for idx, link in enumerate(TestLinks):\\n    try:\\n        if idx % 500 == 0:\\n            print(idx)\\n#         if idx > 50:\\n#             break\\n\\n        fp = urllib.request.urlopen(link)\\n        mybytes = fp.read()\\n\\n        mystr = mybytes.decode(\\\"utf8\\\")\\n        fp.close()\\n\\n        try:\\n            mystr = re.search(\\n                \\\"<h1 class='title' [\\\\s\\\\S]+?>[\\\\s\\\\S]+?(?=<\\\\/h1>)\\\", mystr\\n            ).group()\\n            h = h2t.HTML2Text()\\n            mystr = h.handle(mystr)\\n            mystr = mystr.split(\\\"# \\\", 1)[1]\\n        except:\\n            print(\\\"Inner error at\\\", str(idx))\\n            mystr = \\\"\\\"\\n\\n        #         print(mystr)\\n        TestTitles[idx] = mystr\\n    except:\\n        print(\\\"Outer error at\\\", str(idx))\";\n",
       "                var nbb_formatted_code = \"for idx, link in enumerate(TestLinks):\\n    try:\\n        if idx % 500 == 0:\\n            print(idx)\\n        #         if idx > 50:\\n        #             break\\n\\n        fp = urllib.request.urlopen(link)\\n        mybytes = fp.read()\\n\\n        mystr = mybytes.decode(\\\"utf8\\\")\\n        fp.close()\\n\\n        try:\\n            mystr = re.search(\\n                \\\"<h1 class='title' [\\\\s\\\\S]+?>[\\\\s\\\\S]+?(?=<\\\\/h1>)\\\", mystr\\n            ).group()\\n            h = h2t.HTML2Text()\\n            mystr = h.handle(mystr)\\n            mystr = mystr.split(\\\"# \\\", 1)[1]\\n        except:\\n            print(\\\"Inner error at\\\", str(idx))\\n            mystr = \\\"\\\"\\n\\n        #         print(mystr)\\n        TestTitles[idx] = mystr\\n    except:\\n        print(\\\"Outer error at\\\", str(idx))\";\n",
       "                var nbb_cells = Jupyter.notebook.get_cells();\n",
       "                for (var i = 0; i < nbb_cells.length; ++i) {\n",
       "                    if (nbb_cells[i].input_prompt_number == nbb_cell_id) {\n",
       "                        if (nbb_cells[i].get_text() == nbb_unformatted_code) {\n",
       "                             nbb_cells[i].set_text(nbb_formatted_code);\n",
       "                        }\n",
       "                        break;\n",
       "                    }\n",
       "                }\n",
       "            }, 500);\n",
       "            "
      ],
      "text/plain": [
       "<IPython.core.display.Javascript object>"
      ]
     },
     "metadata": {},
     "output_type": "display_data"
    }
   ],
   "source": [
    "for idx, link in enumerate(TestLinks):\n",
    "    try:\n",
    "        if idx % 500 == 0:\n",
    "            print(idx)\n",
    "        #         if idx > 50:\n",
    "        #             break\n",
    "\n",
    "        fp = urllib.request.urlopen(link)\n",
    "        mybytes = fp.read()\n",
    "\n",
    "        mystr = mybytes.decode(\"utf8\")\n",
    "        fp.close()\n",
    "\n",
    "        try:\n",
    "            mystr = re.search(\n",
    "                \"<h1 class='title' [\\s\\S]+?>[\\s\\S]+?(?=<\\/h1>)\", mystr\n",
    "            ).group()\n",
    "            h = h2t.HTML2Text()\n",
    "            mystr = h.handle(mystr)\n",
    "            mystr = mystr.split(\"# \", 1)[1]\n",
    "        except:\n",
    "            print(\"Inner error at\", str(idx))\n",
    "            mystr = \"\"\n",
    "\n",
    "        #         print(mystr)\n",
    "        TestTitles[idx] = mystr\n",
    "    except:\n",
    "        print(\"Outer error at\", str(idx))"
   ]
  },
  {
   "cell_type": "code",
   "execution_count": 12,
   "metadata": {},
   "outputs": [
    {
     "data": {
      "application/javascript": [
       "\n",
       "            setTimeout(function() {\n",
       "                var nbb_cell_id = 12;\n",
       "                var nbb_unformatted_code = \"OnlineNewsPopularityTraining[\\\"title\\\"] = TrainingTitles\";\n",
       "                var nbb_formatted_code = \"OnlineNewsPopularityTraining[\\\"title\\\"] = TrainingTitles\";\n",
       "                var nbb_cells = Jupyter.notebook.get_cells();\n",
       "                for (var i = 0; i < nbb_cells.length; ++i) {\n",
       "                    if (nbb_cells[i].input_prompt_number == nbb_cell_id) {\n",
       "                        if (nbb_cells[i].get_text() == nbb_unformatted_code) {\n",
       "                             nbb_cells[i].set_text(nbb_formatted_code);\n",
       "                        }\n",
       "                        break;\n",
       "                    }\n",
       "                }\n",
       "            }, 500);\n",
       "            "
      ],
      "text/plain": [
       "<IPython.core.display.Javascript object>"
      ]
     },
     "metadata": {},
     "output_type": "display_data"
    }
   ],
   "source": [
    "OnlineNewsPopularityTraining[\"title\"] = TrainingTitles"
   ]
  },
  {
   "cell_type": "code",
   "execution_count": 13,
   "metadata": {},
   "outputs": [
    {
     "data": {
      "application/javascript": [
       "\n",
       "            setTimeout(function() {\n",
       "                var nbb_cell_id = 13;\n",
       "                var nbb_unformatted_code = \"OnlineNewsPopularityTest[\\\"title\\\"] = TestTitles\";\n",
       "                var nbb_formatted_code = \"OnlineNewsPopularityTest[\\\"title\\\"] = TestTitles\";\n",
       "                var nbb_cells = Jupyter.notebook.get_cells();\n",
       "                for (var i = 0; i < nbb_cells.length; ++i) {\n",
       "                    if (nbb_cells[i].input_prompt_number == nbb_cell_id) {\n",
       "                        if (nbb_cells[i].get_text() == nbb_unformatted_code) {\n",
       "                             nbb_cells[i].set_text(nbb_formatted_code);\n",
       "                        }\n",
       "                        break;\n",
       "                    }\n",
       "                }\n",
       "            }, 500);\n",
       "            "
      ],
      "text/plain": [
       "<IPython.core.display.Javascript object>"
      ]
     },
     "metadata": {},
     "output_type": "display_data"
    }
   ],
   "source": [
    "OnlineNewsPopularityTest[\"title\"] = TestTitles"
   ]
  },
  {
   "cell_type": "code",
   "execution_count": 14,
   "metadata": {},
   "outputs": [
    {
     "data": {
      "application/javascript": [
       "\n",
       "            setTimeout(function() {\n",
       "                var nbb_cell_id = 14;\n",
       "                var nbb_unformatted_code = \"OnlineNewsPopularityTraining.to_csv(\\n    \\\"../../data/OnlineNewsPopularity/OnlineNewsPopularityTraining.csv\\\",\\n    encoding=\\\"utf-8\\\",\\n    index=False,\\n)\";\n",
       "                var nbb_formatted_code = \"OnlineNewsPopularityTraining.to_csv(\\n    \\\"../../data/OnlineNewsPopularity/OnlineNewsPopularityTraining.csv\\\",\\n    encoding=\\\"utf-8\\\",\\n    index=False,\\n)\";\n",
       "                var nbb_cells = Jupyter.notebook.get_cells();\n",
       "                for (var i = 0; i < nbb_cells.length; ++i) {\n",
       "                    if (nbb_cells[i].input_prompt_number == nbb_cell_id) {\n",
       "                        if (nbb_cells[i].get_text() == nbb_unformatted_code) {\n",
       "                             nbb_cells[i].set_text(nbb_formatted_code);\n",
       "                        }\n",
       "                        break;\n",
       "                    }\n",
       "                }\n",
       "            }, 500);\n",
       "            "
      ],
      "text/plain": [
       "<IPython.core.display.Javascript object>"
      ]
     },
     "metadata": {},
     "output_type": "display_data"
    }
   ],
   "source": [
    "OnlineNewsPopularityTraining.to_csv(\n",
    "    \"../../data/OnlineNewsPopularity/OnlineNewsPopularityTraining.csv\",\n",
    "    encoding=\"utf-8\",\n",
    "    index=False,\n",
    ")"
   ]
  },
  {
   "cell_type": "code",
   "execution_count": 15,
   "metadata": {},
   "outputs": [
    {
     "data": {
      "application/javascript": [
       "\n",
       "            setTimeout(function() {\n",
       "                var nbb_cell_id = 15;\n",
       "                var nbb_unformatted_code = \"OnlineNewsPopularityTest.to_csv(\\n    \\\"../../data/OnlineNewsPopularity/OnlineNewsPopularityTest.csv\\\",\\n    encoding=\\\"utf-8\\\",\\n    index=False,\\n)\";\n",
       "                var nbb_formatted_code = \"OnlineNewsPopularityTest.to_csv(\\n    \\\"../../data/OnlineNewsPopularity/OnlineNewsPopularityTest.csv\\\",\\n    encoding=\\\"utf-8\\\",\\n    index=False,\\n)\";\n",
       "                var nbb_cells = Jupyter.notebook.get_cells();\n",
       "                for (var i = 0; i < nbb_cells.length; ++i) {\n",
       "                    if (nbb_cells[i].input_prompt_number == nbb_cell_id) {\n",
       "                        if (nbb_cells[i].get_text() == nbb_unformatted_code) {\n",
       "                             nbb_cells[i].set_text(nbb_formatted_code);\n",
       "                        }\n",
       "                        break;\n",
       "                    }\n",
       "                }\n",
       "            }, 500);\n",
       "            "
      ],
      "text/plain": [
       "<IPython.core.display.Javascript object>"
      ]
     },
     "metadata": {},
     "output_type": "display_data"
    }
   ],
   "source": [
    "OnlineNewsPopularityTest.to_csv(\n",
    "    \"../../data/OnlineNewsPopularity/OnlineNewsPopularityTest.csv\",\n",
    "    encoding=\"utf-8\",\n",
    "    index=False,\n",
    ")"
   ]
  },
  {
   "cell_type": "code",
   "execution_count": null,
   "metadata": {},
   "outputs": [],
   "source": []
  }
 ],
 "metadata": {
  "kernelspec": {
   "display_name": "Python 3",
   "language": "python",
   "name": "python3"
  },
  "language_info": {
   "codemirror_mode": {
    "name": "ipython",
    "version": 3
   },
   "file_extension": ".py",
   "mimetype": "text/x-python",
   "name": "python",
   "nbconvert_exporter": "python",
   "pygments_lexer": "ipython3",
   "version": "3.8.1"
  }
 },
 "nbformat": 4,
 "nbformat_minor": 4
}
