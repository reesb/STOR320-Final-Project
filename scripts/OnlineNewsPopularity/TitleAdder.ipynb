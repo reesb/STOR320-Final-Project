{
 "cells": [
  {
   "cell_type": "code",
   "execution_count": 1,
   "metadata": {},
   "outputs": [
    {
     "data": {
      "application/javascript": [
       "\n",
       "            setTimeout(function() {\n",
       "                var nbb_cell_id = 1;\n",
       "                var nbb_unformatted_code = \"%load_ext nb_black\";\n",
       "                var nbb_formatted_code = \"%load_ext nb_black\";\n",
       "                var nbb_cells = Jupyter.notebook.get_cells();\n",
       "                for (var i = 0; i < nbb_cells.length; ++i) {\n",
       "                    if (nbb_cells[i].input_prompt_number == nbb_cell_id) {\n",
       "                        if (nbb_cells[i].get_text() == nbb_unformatted_code) {\n",
       "                             nbb_cells[i].set_text(nbb_formatted_code);\n",
       "                        }\n",
       "                        break;\n",
       "                    }\n",
       "                }\n",
       "            }, 500);\n",
       "            "
      ],
      "text/plain": [
       "<IPython.core.display.Javascript object>"
      ]
     },
     "metadata": {},
     "output_type": "display_data"
    }
   ],
   "source": [
    "%load_ext nb_black"
   ]
  },
  {
   "cell_type": "code",
   "execution_count": 2,
   "metadata": {},
   "outputs": [
    {
     "data": {
      "application/javascript": [
       "\n",
       "            setTimeout(function() {\n",
       "                var nbb_cell_id = 2;\n",
       "                var nbb_unformatted_code = \"import urllib.request\\nimport re\\nimport html2text as h2t\\nimport pandas as pd\";\n",
       "                var nbb_formatted_code = \"import urllib.request\\nimport re\\nimport html2text as h2t\\nimport pandas as pd\";\n",
       "                var nbb_cells = Jupyter.notebook.get_cells();\n",
       "                for (var i = 0; i < nbb_cells.length; ++i) {\n",
       "                    if (nbb_cells[i].input_prompt_number == nbb_cell_id) {\n",
       "                        if (nbb_cells[i].get_text() == nbb_unformatted_code) {\n",
       "                             nbb_cells[i].set_text(nbb_formatted_code);\n",
       "                        }\n",
       "                        break;\n",
       "                    }\n",
       "                }\n",
       "            }, 500);\n",
       "            "
      ],
      "text/plain": [
       "<IPython.core.display.Javascript object>"
      ]
     },
     "metadata": {},
     "output_type": "display_data"
    }
   ],
   "source": [
    "import urllib.request\n",
    "import re\n",
    "import html2text as h2t\n",
    "import pandas as pd"
   ]
  },
  {
   "cell_type": "code",
   "execution_count": 3,
   "metadata": {},
   "outputs": [
    {
     "data": {
      "application/javascript": [
       "\n",
       "            setTimeout(function() {\n",
       "                var nbb_cell_id = 3;\n",
       "                var nbb_unformatted_code = \"OnlineNewsPopularityTraining = pd.read_csv(\\n    \\\"../../data/OnlineNewsPopularity/OnlineNewsPopularityTraining.csv\\\"\\n)\\nOnlineNewsPopularityTest = pd.read_csv(\\n    \\\"../../data/OnlineNewsPopularity/OnlineNewsPopularityTest.csv\\\"\\n)\";\n",
       "                var nbb_formatted_code = \"OnlineNewsPopularityTraining = pd.read_csv(\\n    \\\"../../data/OnlineNewsPopularity/OnlineNewsPopularityTraining.csv\\\"\\n)\\nOnlineNewsPopularityTest = pd.read_csv(\\n    \\\"../../data/OnlineNewsPopularity/OnlineNewsPopularityTest.csv\\\"\\n)\";\n",
       "                var nbb_cells = Jupyter.notebook.get_cells();\n",
       "                for (var i = 0; i < nbb_cells.length; ++i) {\n",
       "                    if (nbb_cells[i].input_prompt_number == nbb_cell_id) {\n",
       "                        if (nbb_cells[i].get_text() == nbb_unformatted_code) {\n",
       "                             nbb_cells[i].set_text(nbb_formatted_code);\n",
       "                        }\n",
       "                        break;\n",
       "                    }\n",
       "                }\n",
       "            }, 500);\n",
       "            "
      ],
      "text/plain": [
       "<IPython.core.display.Javascript object>"
      ]
     },
     "metadata": {},
     "output_type": "display_data"
    }
   ],
   "source": [
    "OnlineNewsPopularityTraining = pd.read_csv(\n",
    "    \"../../data/OnlineNewsPopularity/OnlineNewsPopularityTraining.csv\"\n",
    ")\n",
    "OnlineNewsPopularityTest = pd.read_csv(\n",
    "    \"../../data/OnlineNewsPopularity/OnlineNewsPopularityTest.csv\"\n",
    ")"
   ]
  },
  {
   "cell_type": "code",
   "execution_count": 4,
   "metadata": {},
   "outputs": [
    {
     "data": {
      "application/javascript": [
       "\n",
       "            setTimeout(function() {\n",
       "                var nbb_cell_id = 4;\n",
       "                var nbb_unformatted_code = \"TrainingLinks = OnlineNewsPopularityTraining.url\\nTestLinks = OnlineNewsPopularityTest.url\\n\\nTrainingTitles = [\\\"\\\"] * OnlineNewsPopularityTraining.shape[0]\\nTestTitles = [\\\"\\\"] * OnlineNewsPopularityTest.shape[0]\";\n",
       "                var nbb_formatted_code = \"TrainingLinks = OnlineNewsPopularityTraining.url\\nTestLinks = OnlineNewsPopularityTest.url\\n\\nTrainingTitles = [\\\"\\\"] * OnlineNewsPopularityTraining.shape[0]\\nTestTitles = [\\\"\\\"] * OnlineNewsPopularityTest.shape[0]\";\n",
       "                var nbb_cells = Jupyter.notebook.get_cells();\n",
       "                for (var i = 0; i < nbb_cells.length; ++i) {\n",
       "                    if (nbb_cells[i].input_prompt_number == nbb_cell_id) {\n",
       "                        if (nbb_cells[i].get_text() == nbb_unformatted_code) {\n",
       "                             nbb_cells[i].set_text(nbb_formatted_code);\n",
       "                        }\n",
       "                        break;\n",
       "                    }\n",
       "                }\n",
       "            }, 500);\n",
       "            "
      ],
      "text/plain": [
       "<IPython.core.display.Javascript object>"
      ]
     },
     "metadata": {},
     "output_type": "display_data"
    }
   ],
   "source": [
    "TrainingLinks = OnlineNewsPopularityTraining.url\n",
    "TestLinks = OnlineNewsPopularityTest.url\n",
    "\n",
    "TrainingTitles = [\"\"] * OnlineNewsPopularityTraining.shape[0]\n",
    "TestTitles = [\"\"] * OnlineNewsPopularityTest.shape[0]"
   ]
  },
  {
   "cell_type": "code",
   "execution_count": null,
   "metadata": {},
   "outputs": [
    {
     "name": "stdout",
     "output_type": "stream",
     "text": [
      "0\n",
      "500\n",
      "1000\n",
      "1500\n",
      "2000\n",
      "2500\n",
      "3000\n",
      "3500\n",
      "4000\n",
      "4500\n",
      "5000\n",
      "5500\n",
      "6000\n",
      "6500\n",
      "7000\n",
      "Outer error at 7100\n",
      "7500\n",
      "8000\n"
     ]
    }
   ],
   "source": [
    "for idx, link in enumerate(TrainingLinks):\n",
    "    try:\n",
    "        if idx % 500 == 0:\n",
    "            print(idx)\n",
    "#         if idx > 50:\n",
    "#             break\n",
    "\n",
    "        fp = urllib.request.urlopen(link)\n",
    "        mybytes = fp.read()\n",
    "\n",
    "        mystr = mybytes.decode(\"utf8\")\n",
    "        fp.close()\n",
    "\n",
    "        try:\n",
    "            mystr = re.search(\n",
    "                \"<h1 class='title' [\\s\\S]+?>[\\s\\S]+?(?=<\\/h1>)\", mystr\n",
    "            ).group()\n",
    "            h = h2t.HTML2Text()\n",
    "            mystr = h.handle(mystr)\n",
    "            mystr = mystr.split(\"# \", 1)[1]\n",
    "        except:\n",
    "            print(\"Inner error at\", str(idx))\n",
    "            mystr = \"\"\n",
    "\n",
    "        #         print(mystr)\n",
    "        TrainingTitles[idx] = mystr\n",
    "    except:\n",
    "        print(\"Outer error at\", str(idx))"
   ]
  },
  {
   "cell_type": "code",
   "execution_count": null,
   "metadata": {},
   "outputs": [],
   "source": [
    "for idx, link in enumerate(TestLinks):\n",
    "    try:\n",
    "        if idx % 500 == 0:\n",
    "            print(idx)\n",
    "        if idx > 50:\n",
    "            break\n",
    "\n",
    "        fp = urllib.request.urlopen(link)\n",
    "        mybytes = fp.read()\n",
    "\n",
    "        mystr = mybytes.decode(\"utf8\")\n",
    "        fp.close()\n",
    "\n",
    "        try:\n",
    "            mystr = re.search(\"<h1 class='title' [\\s\\S]+?>[\\s\\S]+?(?=<\\/h1>)\", mystr).group()\n",
    "            h = h2t.HTML2Text()\n",
    "            mystr = h.handle(mystr)\n",
    "            mystr = mystr.split(\"# \", 1)[1]\n",
    "        except:\n",
    "            print(\"Inner error at\", str(idx))\n",
    "            mystr = \"\"\n",
    "\n",
    "#         print(mystr)\n",
    "        TestTitles[idx] = mystr\n",
    "    except:\n",
    "        print(\"Outer error at\", str(idx))"
   ]
  },
  {
   "cell_type": "code",
   "execution_count": null,
   "metadata": {},
   "outputs": [],
   "source": [
    "OnlineNewsPopularityTraining['title'] = TrainingTitles"
   ]
  },
  {
   "cell_type": "code",
   "execution_count": null,
   "metadata": {},
   "outputs": [],
   "source": [
    "OnlineNewsPopularityTest['title'] = TestTitles"
   ]
  },
  {
   "cell_type": "code",
   "execution_count": null,
   "metadata": {},
   "outputs": [],
   "source": [
    "OnlineNewsPopularityTraining.to_csv('../../data/OnlineNewsPopularity/OnlineNewsPopularityTraining.csv', encoding='utf-8', index=False)"
   ]
  },
  {
   "cell_type": "code",
   "execution_count": null,
   "metadata": {},
   "outputs": [],
   "source": [
    "OnlineNewsPopularityTest.to_csv('../../data/OnlineNewsPopularity/OnlineNewsPopularityTest.csv', encoding='utf-8', index=False)"
   ]
  }
 ],
 "metadata": {
  "kernelspec": {
   "display_name": "Python 3",
   "language": "python",
   "name": "python3"
  },
  "language_info": {
   "codemirror_mode": {
    "name": "ipython",
    "version": 3
   },
   "file_extension": ".py",
   "mimetype": "text/x-python",
   "name": "python",
   "nbconvert_exporter": "python",
   "pygments_lexer": "ipython3",
   "version": "3.8.1"
  }
 },
 "nbformat": 4,
 "nbformat_minor": 4
}
