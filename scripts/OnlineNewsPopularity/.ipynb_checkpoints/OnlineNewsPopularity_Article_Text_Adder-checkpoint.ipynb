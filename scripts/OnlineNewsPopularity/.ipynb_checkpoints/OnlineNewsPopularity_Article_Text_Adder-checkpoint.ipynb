{
 "cells": [
  {
   "cell_type": "code",
   "execution_count": 1,
   "metadata": {},
   "outputs": [
    {
     "data": {
      "application/javascript": [
       "\n",
       "            setTimeout(function() {\n",
       "                var nbb_cell_id = 1;\n",
       "                var nbb_unformatted_code = \"%load_ext nb_black\";\n",
       "                var nbb_formatted_code = \"%load_ext nb_black\";\n",
       "                var nbb_cells = Jupyter.notebook.get_cells();\n",
       "                for (var i = 0; i < nbb_cells.length; ++i) {\n",
       "                    if (nbb_cells[i].input_prompt_number == nbb_cell_id) {\n",
       "                        if (nbb_cells[i].get_text() == nbb_unformatted_code) {\n",
       "                             nbb_cells[i].set_text(nbb_formatted_code);\n",
       "                        }\n",
       "                        break;\n",
       "                    }\n",
       "                }\n",
       "            }, 500);\n",
       "            "
      ],
      "text/plain": [
       "<IPython.core.display.Javascript object>"
      ]
     },
     "metadata": {},
     "output_type": "display_data"
    }
   ],
   "source": [
    "%load_ext nb_black"
   ]
  },
  {
   "cell_type": "code",
   "execution_count": 2,
   "metadata": {},
   "outputs": [
    {
     "data": {
      "application/javascript": [
       "\n",
       "            setTimeout(function() {\n",
       "                var nbb_cell_id = 2;\n",
       "                var nbb_unformatted_code = \"import urllib.request\\nimport re\\nimport html2text as h2t\\nfrom newspaper import Article\\nimport pandas as pd\";\n",
       "                var nbb_formatted_code = \"import urllib.request\\nimport re\\nimport html2text as h2t\\nfrom newspaper import Article\\nimport pandas as pd\";\n",
       "                var nbb_cells = Jupyter.notebook.get_cells();\n",
       "                for (var i = 0; i < nbb_cells.length; ++i) {\n",
       "                    if (nbb_cells[i].input_prompt_number == nbb_cell_id) {\n",
       "                        if (nbb_cells[i].get_text() == nbb_unformatted_code) {\n",
       "                             nbb_cells[i].set_text(nbb_formatted_code);\n",
       "                        }\n",
       "                        break;\n",
       "                    }\n",
       "                }\n",
       "            }, 500);\n",
       "            "
      ],
      "text/plain": [
       "<IPython.core.display.Javascript object>"
      ]
     },
     "metadata": {},
     "output_type": "display_data"
    }
   ],
   "source": [
    "import urllib.request\n",
    "import re\n",
    "import html2text as h2t\n",
    "from newspaper import Article\n",
    "import pandas as pd"
   ]
  },
  {
   "cell_type": "code",
   "execution_count": 3,
   "metadata": {},
   "outputs": [
    {
     "data": {
      "application/javascript": [
       "\n",
       "            setTimeout(function() {\n",
       "                var nbb_cell_id = 3;\n",
       "                var nbb_unformatted_code = \"OnlineNewsPopularityTraining = pd.read_csv(\\n    \\\"../../data/OnlineNewsPopularity/OnlineNewsPopularityTraining.csv\\\"\\n)\\nOnlineNewsPopularityTest = pd.read_csv(\\n    \\\"../../data/OnlineNewsPopularity/OnlineNewsPopularityTest.csv\\\"\\n)\";\n",
       "                var nbb_formatted_code = \"OnlineNewsPopularityTraining = pd.read_csv(\\n    \\\"../../data/OnlineNewsPopularity/OnlineNewsPopularityTraining.csv\\\"\\n)\\nOnlineNewsPopularityTest = pd.read_csv(\\n    \\\"../../data/OnlineNewsPopularity/OnlineNewsPopularityTest.csv\\\"\\n)\";\n",
       "                var nbb_cells = Jupyter.notebook.get_cells();\n",
       "                for (var i = 0; i < nbb_cells.length; ++i) {\n",
       "                    if (nbb_cells[i].input_prompt_number == nbb_cell_id) {\n",
       "                        if (nbb_cells[i].get_text() == nbb_unformatted_code) {\n",
       "                             nbb_cells[i].set_text(nbb_formatted_code);\n",
       "                        }\n",
       "                        break;\n",
       "                    }\n",
       "                }\n",
       "            }, 500);\n",
       "            "
      ],
      "text/plain": [
       "<IPython.core.display.Javascript object>"
      ]
     },
     "metadata": {},
     "output_type": "display_data"
    }
   ],
   "source": [
    "OnlineNewsPopularityTraining = pd.read_csv(\n",
    "    \"../../data/OnlineNewsPopularity/OnlineNewsPopularityTraining.csv\"\n",
    ")\n",
    "OnlineNewsPopularityTest = pd.read_csv(\n",
    "    \"../../data/OnlineNewsPopularity/OnlineNewsPopularityTest.csv\"\n",
    ")"
   ]
  },
  {
   "cell_type": "code",
   "execution_count": 4,
   "metadata": {},
   "outputs": [
    {
     "data": {
      "application/javascript": [
       "\n",
       "            setTimeout(function() {\n",
       "                var nbb_cell_id = 4;\n",
       "                var nbb_unformatted_code = \"TrainingLinks = OnlineNewsPopularityTraining.url\\nTestLinks = OnlineNewsPopularityTest.url\\n\\nTrainingText = [\\\"\\\"] * OnlineNewsPopularityTraining.shape[0]\\nTestText = [\\\"\\\"] * OnlineNewsPopularityTest.shape[0]\";\n",
       "                var nbb_formatted_code = \"TrainingLinks = OnlineNewsPopularityTraining.url\\nTestLinks = OnlineNewsPopularityTest.url\\n\\nTrainingText = [\\\"\\\"] * OnlineNewsPopularityTraining.shape[0]\\nTestText = [\\\"\\\"] * OnlineNewsPopularityTest.shape[0]\";\n",
       "                var nbb_cells = Jupyter.notebook.get_cells();\n",
       "                for (var i = 0; i < nbb_cells.length; ++i) {\n",
       "                    if (nbb_cells[i].input_prompt_number == nbb_cell_id) {\n",
       "                        if (nbb_cells[i].get_text() == nbb_unformatted_code) {\n",
       "                             nbb_cells[i].set_text(nbb_formatted_code);\n",
       "                        }\n",
       "                        break;\n",
       "                    }\n",
       "                }\n",
       "            }, 500);\n",
       "            "
      ],
      "text/plain": [
       "<IPython.core.display.Javascript object>"
      ]
     },
     "metadata": {},
     "output_type": "display_data"
    }
   ],
   "source": [
    "TrainingLinks = OnlineNewsPopularityTraining.url\n",
    "TestLinks = OnlineNewsPopularityTest.url\n",
    "\n",
    "TrainingText = [\"\"] * OnlineNewsPopularityTraining.shape[0]\n",
    "TestText = [\"\"] * OnlineNewsPopularityTest.shape[0]"
   ]
  },
  {
   "cell_type": "code",
   "execution_count": 5,
   "metadata": {},
   "outputs": [
    {
     "data": {
      "application/javascript": [
       "\n",
       "            setTimeout(function() {\n",
       "                var nbb_cell_id = 5;\n",
       "                var nbb_unformatted_code = \"# h = h2t.HTML2Text()\\n# h.ignore_links = True\";\n",
       "                var nbb_formatted_code = \"# h = h2t.HTML2Text()\\n# h.ignore_links = True\";\n",
       "                var nbb_cells = Jupyter.notebook.get_cells();\n",
       "                for (var i = 0; i < nbb_cells.length; ++i) {\n",
       "                    if (nbb_cells[i].input_prompt_number == nbb_cell_id) {\n",
       "                        if (nbb_cells[i].get_text() == nbb_unformatted_code) {\n",
       "                             nbb_cells[i].set_text(nbb_formatted_code);\n",
       "                        }\n",
       "                        break;\n",
       "                    }\n",
       "                }\n",
       "            }, 500);\n",
       "            "
      ],
      "text/plain": [
       "<IPython.core.display.Javascript object>"
      ]
     },
     "metadata": {},
     "output_type": "display_data"
    }
   ],
   "source": [
    "# h = h2t.HTML2Text()\n",
    "# h.ignore_links = True"
   ]
  },
  {
   "cell_type": "code",
   "execution_count": 6,
   "metadata": {},
   "outputs": [
    {
     "data": {
      "application/javascript": [
       "\n",
       "            setTimeout(function() {\n",
       "                var nbb_cell_id = 6;\n",
       "                var nbb_unformatted_code = \"# for idx, link in enumerate(TrainingLinks):\\n#     try:\\n#         if idx % 500 == 0:\\n#             print(idx)\\n# #         if idx > 50:\\n# #             break\\n\\n#         fp = urllib.request.urlopen(link)\\n#         mybytes = fp.read()\\n\\n#         mystr = mybytes.decode(\\\"utf8\\\")\\n#         fp.close()\\n\\n#         # print(mystr)\\n\\n#         try:\\n#             mystr = re.search(\\n#                 \\\"(?<=<section class='article-content'>)[\\\\s\\\\S]+(?=<\\\\/section>)\\\", mystr\\n#             ).group()\\n#         except:\\n#             mystr = \\\"\\\"\\n\\n#         TrainingText[idx] = (h.handle(mystr)).replace(\\\"\\\\n\\\", \\\" \\\").replace(\\\"\\\\\\\\\\\", \\\"\\\")\\n#     except:\\n#         print(\\\"Error at\\\", str(idx))\";\n",
       "                var nbb_formatted_code = \"# for idx, link in enumerate(TrainingLinks):\\n#     try:\\n#         if idx % 500 == 0:\\n#             print(idx)\\n# #         if idx > 50:\\n# #             break\\n\\n#         fp = urllib.request.urlopen(link)\\n#         mybytes = fp.read()\\n\\n#         mystr = mybytes.decode(\\\"utf8\\\")\\n#         fp.close()\\n\\n#         # print(mystr)\\n\\n#         try:\\n#             mystr = re.search(\\n#                 \\\"(?<=<section class='article-content'>)[\\\\s\\\\S]+(?=<\\\\/section>)\\\", mystr\\n#             ).group()\\n#         except:\\n#             mystr = \\\"\\\"\\n\\n#         TrainingText[idx] = (h.handle(mystr)).replace(\\\"\\\\n\\\", \\\" \\\").replace(\\\"\\\\\\\\\\\", \\\"\\\")\\n#     except:\\n#         print(\\\"Error at\\\", str(idx))\";\n",
       "                var nbb_cells = Jupyter.notebook.get_cells();\n",
       "                for (var i = 0; i < nbb_cells.length; ++i) {\n",
       "                    if (nbb_cells[i].input_prompt_number == nbb_cell_id) {\n",
       "                        if (nbb_cells[i].get_text() == nbb_unformatted_code) {\n",
       "                             nbb_cells[i].set_text(nbb_formatted_code);\n",
       "                        }\n",
       "                        break;\n",
       "                    }\n",
       "                }\n",
       "            }, 500);\n",
       "            "
      ],
      "text/plain": [
       "<IPython.core.display.Javascript object>"
      ]
     },
     "metadata": {},
     "output_type": "display_data"
    }
   ],
   "source": [
    "# for idx, link in enumerate(TrainingLinks):\n",
    "#     try:\n",
    "#         if idx % 500 == 0:\n",
    "#             print(idx)\n",
    "# #         if idx > 50:\n",
    "# #             break\n",
    "\n",
    "#         fp = urllib.request.urlopen(link)\n",
    "#         mybytes = fp.read()\n",
    "\n",
    "#         mystr = mybytes.decode(\"utf8\")\n",
    "#         fp.close()\n",
    "\n",
    "#         # print(mystr)\n",
    "\n",
    "#         try:\n",
    "#             mystr = re.search(\n",
    "#                 \"(?<=<section class='article-content'>)[\\s\\S]+(?=<\\/section>)\", mystr\n",
    "#             ).group()\n",
    "#         except:\n",
    "#             mystr = \"\"\n",
    "\n",
    "#         TrainingText[idx] = (h.handle(mystr)).replace(\"\\n\", \" \").replace(\"\\\\\", \"\")\n",
    "#     except:\n",
    "#         print(\"Error at\", str(idx))"
   ]
  },
  {
   "cell_type": "code",
   "execution_count": 7,
   "metadata": {},
   "outputs": [
    {
     "name": "stdout",
     "output_type": "stream",
     "text": [
      "0\n",
      "500\n",
      "1000\n",
      "1500\n",
      "2000\n",
      "2500\n",
      "3000\n",
      "3500\n",
      "Error at 3742\n",
      "Error:  Article `download()` failed with 404 Client Error: Not Found for url: https://mashable.com/article/easy-pranks/./ on URL http://mashable.com/2013/04/01/easy-pranks/\n",
      "4000\n",
      "4500\n",
      "5000\n",
      "5500\n",
      "6000\n",
      "6500\n",
      "7000\n",
      "7500\n",
      "8000\n",
      "8500\n",
      "9000\n",
      "9500\n",
      "10000\n",
      "10500\n",
      "11000\n",
      "11500\n",
      "12000\n",
      "Error at 12212\n",
      "Error:  Article `download()` failed with 404 Client Error: Not Found for url: https://mashable.com/article/creepypastas./ on URL http://mashable.com/2013/10/28/creepypastas/\n",
      "12500\n",
      "13000\n",
      "13500\n",
      "Error at 13553\n",
      "Error:  Article `download()` failed with 404 Client Error: Not Found for url: https://mashable.com/article/build-mobile-apps/./ on URL http://mashable.com/2013/12/03/build-mobile-apps/\n",
      "Error at 13799\n",
      "Error:  Article `download()` failed with 500 Server Error: Internal Server Error for url: https://mashable.com/2013/12/09/food-crazes-2013/ on URL http://mashable.com/2013/12/09/food-crazes-2013/\n",
      "14000\n",
      "14500\n",
      "Error at 14549\n",
      "Error:  Article `download()` failed with 500 Server Error: Internal Server Error for url: https://mashable.com/2013/12/30/dead-frog-salad/ on URL http://mashable.com/2013/12/30/dead-frog-salad/\n",
      "Error at 14905\n",
      "Error:  Article `download()` failed with 404 Client Error: Not Found for url: https://mashable.com/roundup/best-gaming-laptops/./ on URL http://mashable.com/2014/01/09/best-gaming-laptops/\n",
      "15000\n",
      "15500\n",
      "16000\n",
      "Error at 16010\n",
      "Error:  Article `download()` failed with 500 Server Error: Internal Server Error for url: https://mashable.com/2014/02/06/five-olympic-apps/ on URL http://mashable.com/2014/02/06/five-olympic-apps/\n",
      "Error at 16088\n",
      "Error:  Article `download()` failed with 500 Server Error: Internal Server Error for url: https://mashable.com/2014/02/07/the-beatles-50-years/ on URL http://mashable.com/2014/02/07/the-beatles-50-years/\n",
      "16500\n",
      "Error at 16549\n",
      "Error:  Article `download()` failed with 500 Server Error: Internal Server Error for url: https://mashable.com/2014/02/19/just-like-dad/ on URL http://mashable.com/2014/02/19/just-like-dad/\n",
      "17000\n",
      "Error at 17091\n",
      "Error:  Article `download()` failed with 404 Client Error: Not Found for url: https://mashable.com/article/free-audiobooks/./ on URL http://mashable.com/2014/03/04/free-audiobooks/\n",
      "Error at 17159\n",
      "Error:  Article `download()` failed with 404 Client Error: Not Found for url: https://mashable.com/article/sun-stars-space-facts/./ on URL http://mashable.com/2014/03/05/sun-stars-space-facts/\n",
      "17500\n",
      "Error at 17575\n",
      "Error:  Article `download()` failed with HTTPConnectionPool(host='mashable.com', port=80): Max retries exceeded with url: /2014/03/17/beer-jelly-beans-reaction/ (Caused by ConnectTimeoutError(<urllib3.connection.HTTPConnection object at 0x0000020AB7AD4CA0>, 'Connection to mashable.com timed out. (connect timeout=7)')) on URL http://mashable.com/2014/03/17/beer-jelly-beans-reaction/\n",
      "18000\n",
      "18500\n",
      "Error at 18546\n",
      "Error:  Article `download()` failed with 500 Server Error: Internal Server Error for url: https://mashable.com/2014/04/08/bottlerocket-vine-dad/ on URL http://mashable.com/2014/04/08/bottlerocket-vine-dad/\n",
      "19000\n",
      "Error at 19121\n",
      "Error:  Article `download()` failed with 404 Client Error: Not Found for url: https://mashable.com/article/how-to-sign/./ on URL http://mashable.com/2014/04/21/how-to-sign/\n",
      "19500\n",
      "Error at 19699\n",
      "Error:  Article `download()` failed with 404 Client Error: Not Found for url: https://mashable.com/article/websites-to-waste-time/./ on URL http://mashable.com/2014/05/02/websites-to-waste-time/\n",
      "Error at 19705\n",
      "Error:  Article `download()` failed with 500 Server Error: Internal Server Error for url: https://mashable.com/2014/05/03/cinco-de-mayo-recipes/ on URL http://mashable.com/2014/05/03/cinco-de-mayo-recipes/\n",
      "Error at 19851\n",
      "Error:  Article `download()` failed with 500 Server Error: Internal Server Error for url: https://mashable.com/2014/05/07/creative-family-portraits/ on URL http://mashable.com/2014/05/07/creative-family-portraits/\n",
      "20000\n",
      "Error at 20383\n",
      "Error:  Article `download()` failed with 500 Server Error: Internal Server Error for url: https://mashable.com/2014/05/19/nutella-recipe/ on URL http://mashable.com/2014/05/19/nutella-recipe/\n",
      "20500\n",
      "Error at 20684\n",
      "Error:  Article `download()` failed with 500 Server Error: Internal Server Error for url: https://mashable.com/2014/05/26/oven-free-recipes/ on URL http://mashable.com/2014/05/26/oven-free-recipes/\n",
      "21000\n",
      "Error at 21220\n",
      "Error:  Article `download()` failed with 500 Server Error: Internal Server Error for url: https://mashable.com/2014/06/06/d-day-code-names/ on URL http://mashable.com/2014/06/06/d-day-code-names/\n",
      "Error at 21248\n",
      "Error:  Article `download()` failed with 500 Server Error: Internal Server Error for url: https://mashable.com/2014/06/06/son-surprises-father-with-car/ on URL http://mashable.com/2014/06/06/son-surprises-father-with-car/\n",
      "Error at 21393\n",
      "Error:  Article `download()` failed with 404 Client Error: Not Found for url: https://mashable.com/article/mobile-apps-organize./ on URL http://mashable.com/2014/06/10/mobile-apps-organize/\n",
      "21500\n",
      "Error at 21684\n",
      "Error:  Article `download()` failed with 404 Client Error: Not Found for url: https://mashable.com/article/text-from-laptop./ on URL http://mashable.com/2014/06/16/text-from-laptop/\n",
      "Error at 21974\n",
      "Error:  Article `download()` failed with 500 Server Error: Internal Server Error for url: https://mashable.com/2014/06/21/diy-camping-hacks/ on URL http://mashable.com/2014/06/21/diy-camping-hacks/\n",
      "22000\n",
      "Error at 22340\n",
      "Error:  Article `download()` failed with 404 Client Error: Not Found for url: https://mashable.com/article/phone-screen-scratches./ on URL http://mashable.com/2014/06/28/phone-screen-scratches/\n",
      "Error at 22474\n",
      "Error:  Article `download()` failed with 500 Server Error: Internal Server Error for url: https://mashable.com/2014/07/01/lonely-planets-best-in-europe-2014/ on URL http://mashable.com/2014/07/01/lonely-planets-best-in-europe-2014/\n",
      "22500\n",
      "Error at 22533\n",
      "Error:  Article `download()` failed with 404 Client Error: Not Found for url: https://mashable.com/article/how-delete-facebook./ on URL http://mashable.com/2014/07/02/how-delete-facebook/\n",
      "23000\n",
      "Error at 23042\n",
      "Error:  Article `download()` failed with HTTPSConnectionPool(host='mashable.com', port=443): Read timed out. (read timeout=7) on URL http://mashable.com/2014/07/13/supermoon-july-photos/\n",
      "Error at 23382\n",
      "Error:  Article `download()` failed with 404 Client Error: Not Found for url: https://mashable.com/article/free-ebooks/./ on URL http://mashable.com/2014/07/19/free-ebooks/\n",
      "23500\n",
      "Error at 23849\n",
      "Error:  Article `download()` failed with 500 Server Error: Internal Server Error for url: https://mashable.com/2014/07/29/heroic-women-wwi/ on URL http://mashable.com/2014/07/29/heroic-women-wwi/\n",
      "24000\n",
      "24500\n",
      "Error at 24534\n",
      "Error:  Article `download()` failed with 500 Server Error: Internal Server Error for url: https://mashable.com/2014/08/12/funny-memoirs/ on URL http://mashable.com/2014/08/12/funny-memoirs/\n",
      "Error at 24626\n",
      "Error:  Article `download()` failed with 404 Client Error: Not Found for url: https://mashable.com/article/snapchat-tips-and-tricks/./ on URL http://mashable.com/2014/08/13/snapchat-tips-and-tricks/\n",
      "25000\n",
      "25500\n",
      "26000\n",
      "26500\n",
      "Error at 26908\n",
      "Error:  Article `download()` failed with 404 Client Error: Not Found for url: https://mashable.com/article/sexting-photo-apps./ on URL http://mashable.com/2014/09/29/sexting-photo-apps/\n",
      "27000\n",
      "Error at 27388\n",
      "Error:  Article `download()` failed with HTTPConnectionPool(host='mashable.com', port=80): Max retries exceeded with url: /2014/10/08/american-doctor-donates-blood-to-journalist-ebola/ (Caused by NewConnectionError('<urllib3.connection.HTTPConnection object at 0x0000020AB7AC9550>: Failed to establish a new connection: [Errno 11001] getaddrinfo failed')) on URL http://mashable.com/2014/10/08/american-doctor-donates-blood-to-journalist-ebola/\n",
      "27500\n",
      "28000\n",
      "Error at 28285\n",
      "Error:  Article `download()` failed with HTTPConnectionPool(host='mashable.com', port=80): Max retries exceeded with url: /2014/10/23/manchester-city-united-dad-auction/ (Caused by NewConnectionError('<urllib3.connection.HTTPConnection object at 0x0000020AB7AC9670>: Failed to establish a new connection: [Errno 11001] getaddrinfo failed')) on URL http://mashable.com/2014/10/23/manchester-city-united-dad-auction/\n"
     ]
    },
    {
     "name": "stdout",
     "output_type": "stream",
     "text": [
      "28500\n",
      "29000\n",
      "29500\n",
      "30000\n",
      "30500\n",
      "31000\n",
      "Error at 31240\n",
      "Error:  Article `download()` failed with 404 Client Error: Not Found for url: https://mashable.com/2014/12/16/los-angeles-cosby-no-charges/ on URL http://mashable.com/2014/12/16/los-angeles-cosby-no-charges/\n",
      "31500\n",
      "Error at 31502\n",
      "Error:  Article `download()` failed with 404 Client Error: Not Found for url: https://mashable.com/roundup/best-content-delivery-networks./ on URL http://mashable.com/2014/12/22/best-content-delivery-networks/\n"
     ]
    },
    {
     "data": {
      "application/javascript": [
       "\n",
       "            setTimeout(function() {\n",
       "                var nbb_cell_id = 7;\n",
       "                var nbb_unformatted_code = \"errors = 0\\n\\nfor idx, url in enumerate(TrainingLinks):\\n    if idx % 500 == 0:\\n        print(idx)\\n    #     if idx > 50:\\n    #         break\\n    try:\\n        #         print(url)\\n        article = Article(url)\\n        article.download()\\n        article.parse()\\n        TrainingText[idx] = article.text\\n    except Exception as e:\\n        TrainingText[idx] = \\\"\\\"\\n        print(\\\"Error at\\\", str(idx))\\n        print(\\\"Error: \\\", e)\\n        errors += 1\";\n",
       "                var nbb_formatted_code = \"errors = 0\\n\\nfor idx, url in enumerate(TrainingLinks):\\n    if idx % 500 == 0:\\n        print(idx)\\n    #     if idx > 50:\\n    #         break\\n    try:\\n        #         print(url)\\n        article = Article(url)\\n        article.download()\\n        article.parse()\\n        TrainingText[idx] = article.text\\n    except Exception as e:\\n        TrainingText[idx] = \\\"\\\"\\n        print(\\\"Error at\\\", str(idx))\\n        print(\\\"Error: \\\", e)\\n        errors += 1\";\n",
       "                var nbb_cells = Jupyter.notebook.get_cells();\n",
       "                for (var i = 0; i < nbb_cells.length; ++i) {\n",
       "                    if (nbb_cells[i].input_prompt_number == nbb_cell_id) {\n",
       "                        if (nbb_cells[i].get_text() == nbb_unformatted_code) {\n",
       "                             nbb_cells[i].set_text(nbb_formatted_code);\n",
       "                        }\n",
       "                        break;\n",
       "                    }\n",
       "                }\n",
       "            }, 500);\n",
       "            "
      ],
      "text/plain": [
       "<IPython.core.display.Javascript object>"
      ]
     },
     "metadata": {},
     "output_type": "display_data"
    }
   ],
   "source": [
    "errors = 0\n",
    "\n",
    "for idx, url in enumerate(TrainingLinks):\n",
    "    if idx % 500 == 0:\n",
    "        print(idx)\n",
    "    #     if idx > 50:\n",
    "    #         break\n",
    "    try:\n",
    "        #         print(url)\n",
    "        article = Article(url)\n",
    "        article.download()\n",
    "        article.parse()\n",
    "        TrainingText[idx] = article.text\n",
    "    except Exception as e:\n",
    "        TrainingText[idx] = \"\"\n",
    "        print(\"Error at\", str(idx))\n",
    "        print(\"Error: \", e)\n",
    "        errors += 1"
   ]
  },
  {
   "cell_type": "code",
   "execution_count": 8,
   "metadata": {},
   "outputs": [
    {
     "data": {
      "text/plain": [
       "37"
      ]
     },
     "execution_count": 8,
     "metadata": {},
     "output_type": "execute_result"
    },
    {
     "data": {
      "application/javascript": [
       "\n",
       "            setTimeout(function() {\n",
       "                var nbb_cell_id = 8;\n",
       "                var nbb_unformatted_code = \"errors\";\n",
       "                var nbb_formatted_code = \"errors\";\n",
       "                var nbb_cells = Jupyter.notebook.get_cells();\n",
       "                for (var i = 0; i < nbb_cells.length; ++i) {\n",
       "                    if (nbb_cells[i].input_prompt_number == nbb_cell_id) {\n",
       "                        if (nbb_cells[i].get_text() == nbb_unformatted_code) {\n",
       "                             nbb_cells[i].set_text(nbb_formatted_code);\n",
       "                        }\n",
       "                        break;\n",
       "                    }\n",
       "                }\n",
       "            }, 500);\n",
       "            "
      ],
      "text/plain": [
       "<IPython.core.display.Javascript object>"
      ]
     },
     "metadata": {},
     "output_type": "display_data"
    }
   ],
   "source": [
    "errors"
   ]
  },
  {
   "cell_type": "code",
   "execution_count": 9,
   "metadata": {},
   "outputs": [
    {
     "data": {
      "application/javascript": [
       "\n",
       "            setTimeout(function() {\n",
       "                var nbb_cell_id = 9;\n",
       "                var nbb_unformatted_code = \"# TrainingText[0].replace(\\\"\\\\\\\\\\\", \\\"\\\")\";\n",
       "                var nbb_formatted_code = \"# TrainingText[0].replace(\\\"\\\\\\\\\\\", \\\"\\\")\";\n",
       "                var nbb_cells = Jupyter.notebook.get_cells();\n",
       "                for (var i = 0; i < nbb_cells.length; ++i) {\n",
       "                    if (nbb_cells[i].input_prompt_number == nbb_cell_id) {\n",
       "                        if (nbb_cells[i].get_text() == nbb_unformatted_code) {\n",
       "                             nbb_cells[i].set_text(nbb_formatted_code);\n",
       "                        }\n",
       "                        break;\n",
       "                    }\n",
       "                }\n",
       "            }, 500);\n",
       "            "
      ],
      "text/plain": [
       "<IPython.core.display.Javascript object>"
      ]
     },
     "metadata": {},
     "output_type": "display_data"
    }
   ],
   "source": [
    "# TrainingText[0].replace(\"\\\\\", \"\")"
   ]
  },
  {
   "cell_type": "code",
   "execution_count": 10,
   "metadata": {},
   "outputs": [
    {
     "data": {
      "application/javascript": [
       "\n",
       "            setTimeout(function() {\n",
       "                var nbb_cell_id = 10;\n",
       "                var nbb_unformatted_code = \"# for idx, link in enumerate(TestLinks):\\n#     try:\\n#         if idx%500 == 0:\\n#             print(idx)\\n#     #     if idx > 50:\\n#     #         break\\n\\n#         fp = urllib.request.urlopen(link)\\n#         mybytes = fp.read()\\n\\n#         mystr = mybytes.decode(\\\"utf8\\\")\\n#         fp.close()\\n\\n#         # print(mystr)\\n#         try:\\n#             mystr = re.search(\\\"(?<=<section class='article-content'>)[\\\\s\\\\S]+(?=<\\\\/section>)\\\", mystr).group()\\n#         except:\\n#             mystr = \\\"\\\"\\n\\n#         h = h2t.HTML2Text()\\n\\n#         TestText[idx] = (h.handle(mystr)).replace(\\\"\\\\n\\\", \\\" \\\").replace(\\\"\\\\\\\\\\\", \\\"\\\")\\n#     except:\\n#         print(\\\"Error at\\\", str(idx))\";\n",
       "                var nbb_formatted_code = \"# for idx, link in enumerate(TestLinks):\\n#     try:\\n#         if idx%500 == 0:\\n#             print(idx)\\n#     #     if idx > 50:\\n#     #         break\\n\\n#         fp = urllib.request.urlopen(link)\\n#         mybytes = fp.read()\\n\\n#         mystr = mybytes.decode(\\\"utf8\\\")\\n#         fp.close()\\n\\n#         # print(mystr)\\n#         try:\\n#             mystr = re.search(\\\"(?<=<section class='article-content'>)[\\\\s\\\\S]+(?=<\\\\/section>)\\\", mystr).group()\\n#         except:\\n#             mystr = \\\"\\\"\\n\\n#         h = h2t.HTML2Text()\\n\\n#         TestText[idx] = (h.handle(mystr)).replace(\\\"\\\\n\\\", \\\" \\\").replace(\\\"\\\\\\\\\\\", \\\"\\\")\\n#     except:\\n#         print(\\\"Error at\\\", str(idx))\";\n",
       "                var nbb_cells = Jupyter.notebook.get_cells();\n",
       "                for (var i = 0; i < nbb_cells.length; ++i) {\n",
       "                    if (nbb_cells[i].input_prompt_number == nbb_cell_id) {\n",
       "                        if (nbb_cells[i].get_text() == nbb_unformatted_code) {\n",
       "                             nbb_cells[i].set_text(nbb_formatted_code);\n",
       "                        }\n",
       "                        break;\n",
       "                    }\n",
       "                }\n",
       "            }, 500);\n",
       "            "
      ],
      "text/plain": [
       "<IPython.core.display.Javascript object>"
      ]
     },
     "metadata": {},
     "output_type": "display_data"
    }
   ],
   "source": [
    "# for idx, link in enumerate(TestLinks):\n",
    "#     try:\n",
    "#         if idx%500 == 0:\n",
    "#             print(idx)\n",
    "#     #     if idx > 50:\n",
    "#     #         break\n",
    "\n",
    "#         fp = urllib.request.urlopen(link)\n",
    "#         mybytes = fp.read()\n",
    "\n",
    "#         mystr = mybytes.decode(\"utf8\")\n",
    "#         fp.close()\n",
    "\n",
    "#         # print(mystr)\n",
    "#         try:\n",
    "#             mystr = re.search(\"(?<=<section class='article-content'>)[\\s\\S]+(?=<\\/section>)\", mystr).group()\n",
    "#         except:\n",
    "#             mystr = \"\"\n",
    "\n",
    "#         h = h2t.HTML2Text()\n",
    "\n",
    "#         TestText[idx] = (h.handle(mystr)).replace(\"\\n\", \" \").replace(\"\\\\\", \"\")\n",
    "#     except:\n",
    "#         print(\"Error at\", str(idx))"
   ]
  },
  {
   "cell_type": "code",
   "execution_count": 11,
   "metadata": {},
   "outputs": [
    {
     "name": "stdout",
     "output_type": "stream",
     "text": [
      "0\n",
      "500\n",
      "1000\n",
      "1500\n",
      "Error at 1831\n",
      "Error:  Article `download()` failed with 500 Server Error: Internal Server Error for url: https://mashable.com/2014/01/22/sandwich-comic/ on URL http://mashable.com/2014/01/22/sandwich-comic/\n",
      "Error at 1906\n",
      "Error:  Article `download()` failed with 404 Client Error: Not Found for url: https://mashable.com/article/storytelling-podcasts./ on URL http://mashable.com/2014/11/26/storytelling-podcasts/\n",
      "2000\n",
      "2500\n",
      "3000\n",
      "3500\n",
      "Error at 3623\n",
      "Error:  Article `download()` failed with 404 Client Error: Not Found for url: https://mashable.com/2013/10/16/young-adult-books-cry/ on URL http://mashable.com/2013/10/16/young-adult-books-cry/\n",
      "4000\n",
      "4500\n",
      "Error at 4759\n",
      "Error:  Article `download()` failed with HTTPConnectionPool(host='mashable.com', port=80): Max retries exceeded with url: /2013/03/29/facebook-android-brief/ (Caused by NewConnectionError('<urllib3.connection.HTTPConnection object at 0x0000020AA7AC8460>: Failed to establish a new connection: [Errno 11001] getaddrinfo failed')) on URL http://mashable.com/2013/03/29/facebook-android-brief/\n",
      "5000\n",
      "5500\n",
      "Error at 5622\n",
      "Error:  Article `download()` failed with 500 Server Error: Internal Server Error for url: https://mashable.com/2014/06/10/dove-fathers-day-ad/ on URL http://mashable.com/2014/06/10/dove-fathers-day-ad/\n",
      "Error at 5922\n",
      "Error:  Article `download()` failed with HTTPConnectionPool(host='mashable.com', port=80): Max retries exceeded with url: /2014/07/07/how-fans-are-preparing-for-the-tour-de-france/ (Caused by NewConnectionError('<urllib3.connection.HTTPConnection object at 0x0000020AB7A243D0>: Failed to establish a new connection: [Errno 11001] getaddrinfo failed')) on URL http://mashable.com/2014/07/07/how-fans-are-preparing-for-the-tour-de-france/\n",
      "6000\n",
      "6500\n",
      "7000\n",
      "7500\n"
     ]
    },
    {
     "data": {
      "application/javascript": [
       "\n",
       "            setTimeout(function() {\n",
       "                var nbb_cell_id = 11;\n",
       "                var nbb_unformatted_code = \"errors = 0\\n\\nfor idx, url in enumerate(TestLinks):\\n    if idx % 500 == 0:\\n        print(idx)\\n    #     if idx > 50:\\n    #         break\\n    try:\\n        #         print(url)\\n        article = Article(url)\\n        article.download()\\n        article.parse()\\n        TestText[idx] = article.text\\n    except Exception as e:\\n        TestText[idx] = \\\"\\\"\\n        print(\\\"Error at\\\", str(idx))\\n        print(\\\"Error: \\\", e)\\n        errors += 1\";\n",
       "                var nbb_formatted_code = \"errors = 0\\n\\nfor idx, url in enumerate(TestLinks):\\n    if idx % 500 == 0:\\n        print(idx)\\n    #     if idx > 50:\\n    #         break\\n    try:\\n        #         print(url)\\n        article = Article(url)\\n        article.download()\\n        article.parse()\\n        TestText[idx] = article.text\\n    except Exception as e:\\n        TestText[idx] = \\\"\\\"\\n        print(\\\"Error at\\\", str(idx))\\n        print(\\\"Error: \\\", e)\\n        errors += 1\";\n",
       "                var nbb_cells = Jupyter.notebook.get_cells();\n",
       "                for (var i = 0; i < nbb_cells.length; ++i) {\n",
       "                    if (nbb_cells[i].input_prompt_number == nbb_cell_id) {\n",
       "                        if (nbb_cells[i].get_text() == nbb_unformatted_code) {\n",
       "                             nbb_cells[i].set_text(nbb_formatted_code);\n",
       "                        }\n",
       "                        break;\n",
       "                    }\n",
       "                }\n",
       "            }, 500);\n",
       "            "
      ],
      "text/plain": [
       "<IPython.core.display.Javascript object>"
      ]
     },
     "metadata": {},
     "output_type": "display_data"
    }
   ],
   "source": [
    "errors = 0\n",
    "\n",
    "for idx, url in enumerate(TestLinks):\n",
    "    if idx % 500 == 0:\n",
    "        print(idx)\n",
    "    #     if idx > 50:\n",
    "    #         break\n",
    "    try:\n",
    "        #         print(url)\n",
    "        article = Article(url)\n",
    "        article.download()\n",
    "        article.parse()\n",
    "        TestText[idx] = article.text\n",
    "    except Exception as e:\n",
    "        TestText[idx] = \"\"\n",
    "        print(\"Error at\", str(idx))\n",
    "        print(\"Error: \", e)\n",
    "        errors += 1"
   ]
  },
  {
   "cell_type": "code",
   "execution_count": 12,
   "metadata": {},
   "outputs": [
    {
     "data": {
      "text/plain": [
       "6"
      ]
     },
     "execution_count": 12,
     "metadata": {},
     "output_type": "execute_result"
    },
    {
     "data": {
      "application/javascript": [
       "\n",
       "            setTimeout(function() {\n",
       "                var nbb_cell_id = 12;\n",
       "                var nbb_unformatted_code = \"errors\";\n",
       "                var nbb_formatted_code = \"errors\";\n",
       "                var nbb_cells = Jupyter.notebook.get_cells();\n",
       "                for (var i = 0; i < nbb_cells.length; ++i) {\n",
       "                    if (nbb_cells[i].input_prompt_number == nbb_cell_id) {\n",
       "                        if (nbb_cells[i].get_text() == nbb_unformatted_code) {\n",
       "                             nbb_cells[i].set_text(nbb_formatted_code);\n",
       "                        }\n",
       "                        break;\n",
       "                    }\n",
       "                }\n",
       "            }, 500);\n",
       "            "
      ],
      "text/plain": [
       "<IPython.core.display.Javascript object>"
      ]
     },
     "metadata": {},
     "output_type": "display_data"
    }
   ],
   "source": [
    "errors"
   ]
  },
  {
   "cell_type": "code",
   "execution_count": 13,
   "metadata": {},
   "outputs": [
    {
     "data": {
      "application/javascript": [
       "\n",
       "            setTimeout(function() {\n",
       "                var nbb_cell_id = 13;\n",
       "                var nbb_unformatted_code = \"OnlineNewsPopularityTraining['textnolinks'] = TrainingText\";\n",
       "                var nbb_formatted_code = \"OnlineNewsPopularityTraining[\\\"textnolinks\\\"] = TrainingText\";\n",
       "                var nbb_cells = Jupyter.notebook.get_cells();\n",
       "                for (var i = 0; i < nbb_cells.length; ++i) {\n",
       "                    if (nbb_cells[i].input_prompt_number == nbb_cell_id) {\n",
       "                        if (nbb_cells[i].get_text() == nbb_unformatted_code) {\n",
       "                             nbb_cells[i].set_text(nbb_formatted_code);\n",
       "                        }\n",
       "                        break;\n",
       "                    }\n",
       "                }\n",
       "            }, 500);\n",
       "            "
      ],
      "text/plain": [
       "<IPython.core.display.Javascript object>"
      ]
     },
     "metadata": {},
     "output_type": "display_data"
    }
   ],
   "source": [
    "OnlineNewsPopularityTraining[\"textnolinks\"] = TrainingText"
   ]
  },
  {
   "cell_type": "code",
   "execution_count": 14,
   "metadata": {},
   "outputs": [
    {
     "data": {
      "application/javascript": [
       "\n",
       "            setTimeout(function() {\n",
       "                var nbb_cell_id = 14;\n",
       "                var nbb_unformatted_code = \"OnlineNewsPopularityTest['textnolinks'] = TestText\";\n",
       "                var nbb_formatted_code = \"OnlineNewsPopularityTest[\\\"textnolinks\\\"] = TestText\";\n",
       "                var nbb_cells = Jupyter.notebook.get_cells();\n",
       "                for (var i = 0; i < nbb_cells.length; ++i) {\n",
       "                    if (nbb_cells[i].input_prompt_number == nbb_cell_id) {\n",
       "                        if (nbb_cells[i].get_text() == nbb_unformatted_code) {\n",
       "                             nbb_cells[i].set_text(nbb_formatted_code);\n",
       "                        }\n",
       "                        break;\n",
       "                    }\n",
       "                }\n",
       "            }, 500);\n",
       "            "
      ],
      "text/plain": [
       "<IPython.core.display.Javascript object>"
      ]
     },
     "metadata": {},
     "output_type": "display_data"
    }
   ],
   "source": [
    "OnlineNewsPopularityTest[\"textnolinks\"] = TestText"
   ]
  },
  {
   "cell_type": "code",
   "execution_count": null,
   "metadata": {},
   "outputs": [],
   "source": [
    "OnlineNewsPopularityTraining.to_csv('../../data/OnlineNewsPopularity/OnlineNewsPopularityTraining.csv', encoding='utf-8-sig', index=False)"
   ]
  },
  {
   "cell_type": "code",
   "execution_count": null,
   "metadata": {},
   "outputs": [],
   "source": [
    "OnlineNewsPopularityTest.to_csv('../../data/OnlineNewsPopularity/OnlineNewsPopularityTest.csv', encoding='utf-8-sig', index=False)"
   ]
  },
  {
   "cell_type": "code",
   "execution_count": null,
   "metadata": {},
   "outputs": [],
   "source": []
  }
 ],
 "metadata": {
  "kernelspec": {
   "display_name": "Python 3",
   "language": "python",
   "name": "python3"
  },
  "language_info": {
   "codemirror_mode": {
    "name": "ipython",
    "version": 3
   },
   "file_extension": ".py",
   "mimetype": "text/x-python",
   "name": "python",
   "nbconvert_exporter": "python",
   "pygments_lexer": "ipython3",
   "version": "3.8.1"
  }
 },
 "nbformat": 4,
 "nbformat_minor": 4
}
