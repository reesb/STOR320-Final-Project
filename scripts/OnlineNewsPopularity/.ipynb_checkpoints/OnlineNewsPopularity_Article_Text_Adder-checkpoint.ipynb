{
 "cells": [
  {
   "cell_type": "code",
   "execution_count": 1,
   "metadata": {},
   "outputs": [],
   "source": [
    "import urllib.request\n",
    "import re\n",
    "import html2text as h2t\n",
    "import pandas as pd"
   ]
  },
  {
   "cell_type": "code",
   "execution_count": 2,
   "metadata": {},
   "outputs": [],
   "source": [
    "OnlineNewsPopularityTraining = pd.read_csv(\"../../data/OnlineNewsPopularity/OnlineNewsPopularityTraining.csv\")\n",
    "OnlineNewsPopularityTest = pd.read_csv(\"../../data/OnlineNewsPopularity/OnlineNewsPopularityTest.csv\")"
   ]
  },
  {
   "cell_type": "code",
   "execution_count": 3,
   "metadata": {},
   "outputs": [],
   "source": [
    "TrainingLinks = OnlineNewsPopularityTraining.url\n",
    "TestLinks = OnlineNewsPopularityTest.url\n",
    "\n",
    "TrainingText = [''] * OnlineNewsPopularityTraining.shape[0]\n",
    "TestText = [''] * OnlineNewsPopularityTest.shape[0]"
   ]
  },
  {
   "cell_type": "code",
   "execution_count": 4,
   "metadata": {},
   "outputs": [
    {
     "name": "stdout",
     "output_type": "stream",
     "text": [
      "0\n",
      "500\n",
      "1000\n",
      "1500\n",
      "2000\n",
      "2500\n",
      "3000\n",
      "3500\n",
      "4000\n",
      "4500\n",
      "5000\n",
      "5500\n",
      "6000\n",
      "6500\n",
      "7000\n",
      "7500\n",
      "8000\n",
      "8500\n",
      "9000\n",
      "9500\n",
      "10000\n",
      "10500\n",
      "11000\n",
      "11500\n",
      "12000\n",
      "12500\n",
      "13000\n",
      "13500\n",
      "Error at 13799\n",
      "14000\n",
      "14500\n",
      "Error at 14549\n",
      "15000\n",
      "15500\n",
      "16000\n",
      "Error at 16010\n",
      "Error at 16088\n",
      "16500\n",
      "Error at 16549\n",
      "17000\n",
      "17500\n",
      "18000\n",
      "18500\n",
      "Error at 18546\n",
      "19000\n",
      "19500\n",
      "Error at 19705\n",
      "Error at 19851\n",
      "20000\n",
      "Error at 20383\n",
      "20500\n",
      "Error at 20684\n",
      "21000\n",
      "Error at 21220\n",
      "Error at 21248\n",
      "21500\n",
      "Error at 21974\n",
      "22000\n",
      "Error at 22474\n",
      "22500\n",
      "23000\n",
      "23500\n",
      "Error at 23849\n",
      "24000\n",
      "24500\n",
      "Error at 24534\n",
      "25000\n",
      "25500\n",
      "Error at 25909\n",
      "26000\n",
      "26500\n",
      "27000\n",
      "27500\n",
      "28000\n",
      "28500\n",
      "29000\n",
      "29500\n",
      "30000\n",
      "30500\n",
      "31000\n",
      "Error at 31240\n",
      "31500\n"
     ]
    }
   ],
   "source": [
    "for idx, link in enumerate(TrainingLinks):\n",
    "    try:\n",
    "        if idx%500 == 0:\n",
    "            print(idx)\n",
    "#         if idx < 50:\n",
    "#             continue\n",
    "\n",
    "        fp = urllib.request.urlopen(link)\n",
    "        mybytes = fp.read()\n",
    "\n",
    "        mystr = mybytes.decode(\"utf8\")\n",
    "        fp.close()\n",
    "\n",
    "        # print(mystr)\n",
    "\n",
    "        try:\n",
    "            mystr = re.search(\"(?<=<section class='article-content'>)[\\s\\S]+(?=<\\/section>)\", mystr).group()\n",
    "        except:\n",
    "            mystr = \"\"\n",
    "\n",
    "        h = h2t.HTML2Text()\n",
    "\n",
    "        TrainingText[idx] = (h.handle(mystr))\n",
    "    except:\n",
    "        print(\"Error at\", str(idx))"
   ]
  },
  {
   "cell_type": "code",
   "execution_count": 5,
   "metadata": {},
   "outputs": [
    {
     "name": "stdout",
     "output_type": "stream",
     "text": [
      "0\n",
      "500\n",
      "1000\n",
      "1500\n",
      "Error at 1831\n",
      "2000\n",
      "2500\n",
      "3000\n",
      "3500\n",
      "Error at 3623\n",
      "4000\n",
      "4500\n",
      "5000\n",
      "5500\n",
      "Error at 5622\n",
      "6000\n",
      "Error at 6328\n",
      "6500\n",
      "7000\n",
      "7500\n"
     ]
    }
   ],
   "source": [
    "for idx, link in enumerate(TestLinks):\n",
    "    try:\n",
    "        if idx%500 == 0:\n",
    "            print(idx)\n",
    "    #     if idx > 50:\n",
    "    #         break\n",
    "\n",
    "        fp = urllib.request.urlopen(link)\n",
    "        mybytes = fp.read()\n",
    "\n",
    "        mystr = mybytes.decode(\"utf8\")\n",
    "        fp.close()\n",
    "\n",
    "        # print(mystr)\n",
    "        try:\n",
    "            mystr = re.search(\"(?<=<section class='article-content'>)[\\s\\S]+(?=<\\/section>)\", mystr).group()\n",
    "        except:\n",
    "            mystr = \"\"\n",
    "\n",
    "        h = h2t.HTML2Text()\n",
    "\n",
    "        TestText[idx] = (h.handle(mystr))\n",
    "    except:\n",
    "        print(\"Error at\", str(idx))"
   ]
  },
  {
   "cell_type": "code",
   "execution_count": 6,
   "metadata": {},
   "outputs": [],
   "source": [
    "OnlineNewsPopularityTraining['text'] = TrainingText"
   ]
  },
  {
   "cell_type": "code",
   "execution_count": 7,
   "metadata": {},
   "outputs": [],
   "source": [
    "OnlineNewsPopularityTest['text'] = TestText"
   ]
  },
  {
   "cell_type": "code",
   "execution_count": 8,
   "metadata": {},
   "outputs": [],
   "source": [
    "OnlineNewsPopularityTraining.to_csv('OnlineNewsPopularityTrainingWithText.csv', encoding='utf-8', index=False)"
   ]
  },
  {
   "cell_type": "code",
   "execution_count": 9,
   "metadata": {},
   "outputs": [],
   "source": [
    "OnlineNewsPopularityTest.to_csv('OnlineNewsPopularityTestWithText.csv', encoding='utf-8', index=False)"
   ]
  },
  {
   "cell_type": "code",
   "execution_count": null,
   "metadata": {},
   "outputs": [],
   "source": []
  }
 ],
 "metadata": {
  "kernelspec": {
   "display_name": "Python 3",
   "language": "python",
   "name": "python3"
  },
  "language_info": {
   "codemirror_mode": {
    "name": "ipython",
    "version": 3
   },
   "file_extension": ".py",
   "mimetype": "text/x-python",
   "name": "python",
   "nbconvert_exporter": "python",
   "pygments_lexer": "ipython3",
   "version": "3.8.1"
  }
 },
 "nbformat": 4,
 "nbformat_minor": 4
}
